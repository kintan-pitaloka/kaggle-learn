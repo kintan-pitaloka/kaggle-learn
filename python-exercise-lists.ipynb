{
 "cells": [
  {
   "cell_type": "markdown",
   "id": "346ccdf5",
   "metadata": {
    "papermill": {
     "duration": 0.008298,
     "end_time": "2024-10-01T07:10:10.467676",
     "exception": false,
     "start_time": "2024-10-01T07:10:10.459378",
     "status": "completed"
    },
    "tags": []
   },
   "source": [
    "**This notebook is an exercise in the [Python](https://www.kaggle.com/learn/python) course.  You can reference the tutorial at [this link](https://www.kaggle.com/colinmorris/lists).**\n",
    "\n",
    "---\n"
   ]
  },
  {
   "cell_type": "markdown",
   "id": "545c03b8",
   "metadata": {
    "papermill": {
     "duration": 0.006639,
     "end_time": "2024-10-01T07:10:10.481346",
     "exception": false,
     "start_time": "2024-10-01T07:10:10.474707",
     "status": "completed"
    },
    "tags": []
   },
   "source": [
    "Things get more interesting with lists. You'll apply your new knowledge to solve the questions below. Remember to run the following cell first."
   ]
  },
  {
   "cell_type": "code",
   "execution_count": 1,
   "id": "d813464f",
   "metadata": {
    "execution": {
     "iopub.execute_input": "2024-10-01T07:10:10.498261Z",
     "iopub.status.busy": "2024-10-01T07:10:10.497619Z",
     "iopub.status.idle": "2024-10-01T07:10:11.778291Z",
     "shell.execute_reply": "2024-10-01T07:10:11.775117Z"
    },
    "papermill": {
     "duration": 1.293911,
     "end_time": "2024-10-01T07:10:11.782254",
     "exception": false,
     "start_time": "2024-10-01T07:10:10.488343",
     "status": "completed"
    },
    "tags": []
   },
   "outputs": [
    {
     "name": "stdout",
     "output_type": "stream",
     "text": [
      "Setup complete.\n"
     ]
    }
   ],
   "source": [
    "from learntools.core import binder; binder.bind(globals())\n",
    "from learntools.python.ex4 import *\n",
    "print('Setup complete.')"
   ]
  },
  {
   "cell_type": "markdown",
   "id": "4e8aead0",
   "metadata": {
    "papermill": {
     "duration": 0.007847,
     "end_time": "2024-10-01T07:10:11.798055",
     "exception": false,
     "start_time": "2024-10-01T07:10:11.790208",
     "status": "completed"
    },
    "tags": []
   },
   "source": [
    "# 1.\n",
    "\n",
    "Complete the function below according to its docstring."
   ]
  },
  {
   "cell_type": "code",
   "execution_count": 2,
   "id": "e43277cf",
   "metadata": {
    "execution": {
     "iopub.execute_input": "2024-10-01T07:10:11.816366Z",
     "iopub.status.busy": "2024-10-01T07:10:11.815630Z",
     "iopub.status.idle": "2024-10-01T07:10:11.831373Z",
     "shell.execute_reply": "2024-10-01T07:10:11.829800Z"
    },
    "papermill": {
     "duration": 0.029186,
     "end_time": "2024-10-01T07:10:11.834638",
     "exception": false,
     "start_time": "2024-10-01T07:10:11.805452",
     "status": "completed"
    },
    "tags": []
   },
   "outputs": [
    {
     "data": {
      "application/javascript": [
       "parent.postMessage({\"jupyterEvent\": \"custom.exercise_interaction\", \"data\": {\"outcomeType\": 1, \"valueTowardsCompletion\": 0.2, \"interactionType\": 1, \"questionType\": 2, \"questionId\": \"1_SelectSecondItem\", \"learnToolsVersion\": \"0.3.4\", \"failureMessage\": \"\", \"exceptionClass\": \"\", \"trace\": \"\"}}, \"*\")"
      ],
      "text/plain": [
       "<IPython.core.display.Javascript object>"
      ]
     },
     "metadata": {},
     "output_type": "display_data"
    },
    {
     "data": {
      "text/markdown": [
       "<span style=\"color:#33cc33\">Correct</span>"
      ],
      "text/plain": [
       "Correct"
      ]
     },
     "metadata": {},
     "output_type": "display_data"
    }
   ],
   "source": [
    "def select_second(L):\n",
    "    if len(L) < 2:\n",
    "        return None\n",
    "    return L[1]\n",
    "    \n",
    "    \"\"\"Return the second element of the given list. \n",
    "    If the list has no second\n",
    "    element, return None.\n",
    "    \"\"\"\n",
    "    pass\n",
    "\n",
    "# Check your answer\n",
    "q1.check()"
   ]
  },
  {
   "cell_type": "code",
   "execution_count": 3,
   "id": "86463912",
   "metadata": {
    "execution": {
     "iopub.execute_input": "2024-10-01T07:10:11.853998Z",
     "iopub.status.busy": "2024-10-01T07:10:11.852505Z",
     "iopub.status.idle": "2024-10-01T07:10:11.858735Z",
     "shell.execute_reply": "2024-10-01T07:10:11.857264Z"
    },
    "papermill": {
     "duration": 0.019266,
     "end_time": "2024-10-01T07:10:11.861912",
     "exception": false,
     "start_time": "2024-10-01T07:10:11.842646",
     "status": "completed"
    },
    "tags": []
   },
   "outputs": [],
   "source": [
    "#q1.hint()\n",
    "#q1.solution()"
   ]
  },
  {
   "cell_type": "markdown",
   "id": "23b27703",
   "metadata": {
    "papermill": {
     "duration": 0.007917,
     "end_time": "2024-10-01T07:10:11.877941",
     "exception": false,
     "start_time": "2024-10-01T07:10:11.870024",
     "status": "completed"
    },
    "tags": []
   },
   "source": [
    "# 2.\n",
    "\n",
    "You are analyzing sports teams.  Members of each team are stored in a list. The Coach is the first name in the list, the captain is the second name in the list, and other players are listed after that. \n",
    "These lists are stored in another list, which starts with the best team and proceeds through the list to the worst team last.  Complete the function below to select the **captain** of the worst team."
   ]
  },
  {
   "cell_type": "code",
   "execution_count": 4,
   "id": "ea6ffd76",
   "metadata": {
    "execution": {
     "iopub.execute_input": "2024-10-01T07:10:11.894996Z",
     "iopub.status.busy": "2024-10-01T07:10:11.894480Z",
     "iopub.status.idle": "2024-10-01T07:10:11.907958Z",
     "shell.execute_reply": "2024-10-01T07:10:11.906639Z"
    },
    "papermill": {
     "duration": 0.025386,
     "end_time": "2024-10-01T07:10:11.910761",
     "exception": false,
     "start_time": "2024-10-01T07:10:11.885375",
     "status": "completed"
    },
    "tags": []
   },
   "outputs": [
    {
     "data": {
      "application/javascript": [
       "parent.postMessage({\"jupyterEvent\": \"custom.exercise_interaction\", \"data\": {\"outcomeType\": 1, \"valueTowardsCompletion\": 0.2, \"interactionType\": 1, \"questionType\": 2, \"questionId\": \"1_SelectSecondItem\", \"learnToolsVersion\": \"0.3.4\", \"failureMessage\": \"\", \"exceptionClass\": \"\", \"trace\": \"\"}}, \"*\")"
      ],
      "text/plain": [
       "<IPython.core.display.Javascript object>"
      ]
     },
     "metadata": {},
     "output_type": "display_data"
    },
    {
     "data": {
      "text/markdown": [
       "<span style=\"color:#33cc33\">Correct</span>"
      ],
      "text/plain": [
       "Correct"
      ]
     },
     "metadata": {},
     "output_type": "display_data"
    }
   ],
   "source": [
    "def losing_team_captain(teams):\n",
    "    worst_team = teams[-1] #get the last name for name\n",
    "    return worst_team[1] #return the last capten\n",
    "\n",
    "    teams = [\n",
    "        [\"Kinkin\", \"Boby\", \"Alexa\"], # Best Team\n",
    "        [\"Eva\", \"June\", \"Ivy\"], # Second Best Team\n",
    "        [\"George\", \"Jiji\", \"Momo\"], # Worst Team\n",
    "    ]\n",
    "    \n",
    "    \n",
    "    captain = losing_team_captain(teams)\n",
    "    print(captain) \n",
    "    \n",
    "    pass\n",
    "\n",
    "# Check your answer\n",
    "q1.check()"
   ]
  },
  {
   "cell_type": "code",
   "execution_count": 5,
   "id": "25ce1fa5",
   "metadata": {
    "execution": {
     "iopub.execute_input": "2024-10-01T07:10:11.930141Z",
     "iopub.status.busy": "2024-10-01T07:10:11.929655Z",
     "iopub.status.idle": "2024-10-01T07:10:11.936304Z",
     "shell.execute_reply": "2024-10-01T07:10:11.934443Z"
    },
    "papermill": {
     "duration": 0.019449,
     "end_time": "2024-10-01T07:10:11.939416",
     "exception": false,
     "start_time": "2024-10-01T07:10:11.919967",
     "status": "completed"
    },
    "tags": []
   },
   "outputs": [],
   "source": [
    "#q2.hint()\n",
    "#q2.solution()"
   ]
  },
  {
   "cell_type": "markdown",
   "id": "795ec56b",
   "metadata": {
    "papermill": {
     "duration": 0.007495,
     "end_time": "2024-10-01T07:10:11.954784",
     "exception": false,
     "start_time": "2024-10-01T07:10:11.947289",
     "status": "completed"
    },
    "tags": []
   },
   "source": [
    "# 3.\n",
    "\n",
    "The next iteration of Mario Kart will feature an extra-infuriating new item, the *Purple Shell*. When used, it warps the last place racer into first place and the first place racer into last place. Complete the function below to implement the Purple Shell's effect."
   ]
  },
  {
   "cell_type": "code",
   "execution_count": 6,
   "id": "5a8fa4c7",
   "metadata": {
    "execution": {
     "iopub.execute_input": "2024-10-01T07:10:11.973551Z",
     "iopub.status.busy": "2024-10-01T07:10:11.972998Z",
     "iopub.status.idle": "2024-10-01T07:10:11.988084Z",
     "shell.execute_reply": "2024-10-01T07:10:11.986650Z"
    },
    "papermill": {
     "duration": 0.028142,
     "end_time": "2024-10-01T07:10:11.990906",
     "exception": false,
     "start_time": "2024-10-01T07:10:11.962764",
     "status": "completed"
    },
    "tags": []
   },
   "outputs": [
    {
     "name": "stdout",
     "output_type": "stream",
     "text": [
      "Eve\n",
      "Eve\n",
      "Eve\n"
     ]
    },
    {
     "data": {
      "application/javascript": [
       "parent.postMessage({\"jupyterEvent\": \"custom.exercise_interaction\", \"data\": {\"outcomeType\": 1, \"valueTowardsCompletion\": 0.2, \"interactionType\": 1, \"questionType\": 2, \"questionId\": \"3_PurpleShell\", \"learnToolsVersion\": \"0.3.4\", \"failureMessage\": \"\", \"exceptionClass\": \"\", \"trace\": \"\"}}, \"*\")"
      ],
      "text/plain": [
       "<IPython.core.display.Javascript object>"
      ]
     },
     "metadata": {},
     "output_type": "display_data"
    },
    {
     "data": {
      "text/markdown": [
       "<span style=\"color:#33cc33\">Correct</span>"
      ],
      "text/plain": [
       "Correct"
      ]
     },
     "metadata": {},
     "output_type": "display_data"
    }
   ],
   "source": [
    "def purple_shell(racers):\n",
    "    # One slick way to do the swap is x[0], x[-1] = x[-1], x[0].\n",
    "    temp = racers[0]\n",
    "    racers[0] = racers[-1]\n",
    "    racers[-1] = temp\n",
    "\n",
    "    # Example usage\n",
    "    teams = [\n",
    "        [\"Team A\", \"Alice\", \"Bob\"],   # First team\n",
    "        [\"Team B\", \"Charlie\", \"David\"],  # Second team\n",
    "        [\"Team C\", \"Eve\", \"Frank\"]     # Last team\n",
    "    ]\n",
    "\n",
    "    captain = losing_team_captain(teams)\n",
    "    print(captain)  # Output: 'Frank'\n",
    "    \n",
    "pass\n",
    "\n",
    "# Check your answer\n",
    "q3.check()"
   ]
  },
  {
   "cell_type": "code",
   "execution_count": 7,
   "id": "99798f2a",
   "metadata": {
    "execution": {
     "iopub.execute_input": "2024-10-01T07:10:12.010113Z",
     "iopub.status.busy": "2024-10-01T07:10:12.009647Z",
     "iopub.status.idle": "2024-10-01T07:10:12.015383Z",
     "shell.execute_reply": "2024-10-01T07:10:12.014142Z"
    },
    "papermill": {
     "duration": 0.019532,
     "end_time": "2024-10-01T07:10:12.019044",
     "exception": false,
     "start_time": "2024-10-01T07:10:11.999512",
     "status": "completed"
    },
    "tags": []
   },
   "outputs": [],
   "source": [
    "#q3.hint()\n",
    "#q3.solution()"
   ]
  },
  {
   "cell_type": "markdown",
   "id": "b06a0b65",
   "metadata": {
    "papermill": {
     "duration": 0.008155,
     "end_time": "2024-10-01T07:10:12.035914",
     "exception": false,
     "start_time": "2024-10-01T07:10:12.027759",
     "status": "completed"
    },
    "tags": []
   },
   "source": [
    "# 4.\n",
    "\n",
    "What are the lengths of the following lists? Fill in the variable `lengths` with your predictions. (Try to make a prediction for each list *without* just calling `len()` on it.)"
   ]
  },
  {
   "cell_type": "code",
   "execution_count": 8,
   "id": "81305658",
   "metadata": {
    "execution": {
     "iopub.execute_input": "2024-10-01T07:10:12.055611Z",
     "iopub.status.busy": "2024-10-01T07:10:12.054086Z",
     "iopub.status.idle": "2024-10-01T07:10:12.067810Z",
     "shell.execute_reply": "2024-10-01T07:10:12.066590Z"
    },
    "papermill": {
     "duration": 0.026944,
     "end_time": "2024-10-01T07:10:12.070943",
     "exception": false,
     "start_time": "2024-10-01T07:10:12.043999",
     "status": "completed"
    },
    "tags": []
   },
   "outputs": [
    {
     "data": {
      "application/javascript": [
       "parent.postMessage({\"jupyterEvent\": \"custom.exercise_interaction\", \"data\": {\"outcomeType\": 1, \"valueTowardsCompletion\": 0.2, \"interactionType\": 1, \"questionType\": 1, \"questionId\": \"4_UnderstandLen\", \"learnToolsVersion\": \"0.3.4\", \"failureMessage\": \"\", \"exceptionClass\": \"\", \"trace\": \"\"}}, \"*\")"
      ],
      "text/plain": [
       "<IPython.core.display.Javascript object>"
      ]
     },
     "metadata": {},
     "output_type": "display_data"
    },
    {
     "data": {
      "text/markdown": [
       "<span style=\"color:#33cc33\">Correct:</span> \n",
       "\n",
       "\n",
       "- a: There are three items in this list. Nothing tricky yet.\n",
       "- b: The list `[2, 3]` counts as a single item. It has one item before it. So we have 2 items in the list\n",
       "- c: The empty list has 0 items\n",
       "- d: The expression is the same as the list `[2, 3]`, which has length 2."
      ],
      "text/plain": [
       "Correct: \n",
       "\n",
       "\n",
       "- a: There are three items in this list. Nothing tricky yet.\n",
       "- b: The list `[2, 3]` counts as a single item. It has one item before it. So we have 2 items in the list\n",
       "- c: The empty list has 0 items\n",
       "- d: The expression is the same as the list `[2, 3]`, which has length 2."
      ]
     },
     "metadata": {},
     "output_type": "display_data"
    }
   ],
   "source": [
    "a = [1, 2, 3]\n",
    "b = [1, [2, 3]]\n",
    "c = []\n",
    "d = [1, 2, 3][1:]\n",
    "\n",
    "# Put your predictions in the list below. Lengths should contain 4 numbers, the\n",
    "# first being the length of a, the second being the length of b and so on.\n",
    "lengths = [3, 2, 0, 2]\n",
    "\n",
    "# Check your answer\n",
    "q4.check()"
   ]
  },
  {
   "cell_type": "code",
   "execution_count": 9,
   "id": "571fd07b",
   "metadata": {
    "execution": {
     "iopub.execute_input": "2024-10-01T07:10:12.090068Z",
     "iopub.status.busy": "2024-10-01T07:10:12.089582Z",
     "iopub.status.idle": "2024-10-01T07:10:12.095401Z",
     "shell.execute_reply": "2024-10-01T07:10:12.094111Z"
    },
    "papermill": {
     "duration": 0.018824,
     "end_time": "2024-10-01T07:10:12.098402",
     "exception": false,
     "start_time": "2024-10-01T07:10:12.079578",
     "status": "completed"
    },
    "tags": []
   },
   "outputs": [],
   "source": [
    "# line below provides some explanation\n",
    "#q4.solution()"
   ]
  },
  {
   "cell_type": "markdown",
   "id": "5d74c343",
   "metadata": {
    "papermill": {
     "duration": 0.008998,
     "end_time": "2024-10-01T07:10:12.116435",
     "exception": false,
     "start_time": "2024-10-01T07:10:12.107437",
     "status": "completed"
    },
    "tags": []
   },
   "source": [
    "# 5. <span title=\"A bit spicy\" style=\"color: darkgreen \">🌶️</span>\n",
    "\n",
    "We're using lists to record people who attended our party and what order they arrived in. For example, the following list represents a party with 7 guests, in which Adela showed up first and Ford was the last to arrive:\n",
    "\n",
    "    party_attendees = ['Adela', 'Fleda', 'Owen', 'May', 'Mona', 'Gilbert', 'Ford']\n",
    "\n",
    "A guest is considered 'fashionably late' if they arrived after at least half of the party's guests. However, they must not be the very last guest (that's taking it too far). In the above example, Mona and Gilbert are the only guests who were fashionably late.\n",
    "\n",
    "Complete the function below which takes a list of party attendees as well as a person, and tells us whether that person is fashionably late."
   ]
  },
  {
   "cell_type": "code",
   "execution_count": 10,
   "id": "d55e8e4b",
   "metadata": {
    "execution": {
     "iopub.execute_input": "2024-10-01T07:10:12.137778Z",
     "iopub.status.busy": "2024-10-01T07:10:12.137210Z",
     "iopub.status.idle": "2024-10-01T07:10:12.154399Z",
     "shell.execute_reply": "2024-10-01T07:10:12.152842Z"
    },
    "papermill": {
     "duration": 0.031005,
     "end_time": "2024-10-01T07:10:12.157304",
     "exception": false,
     "start_time": "2024-10-01T07:10:12.126299",
     "status": "completed"
    },
    "tags": []
   },
   "outputs": [
    {
     "data": {
      "application/javascript": [
       "parent.postMessage({\"jupyterEvent\": \"custom.exercise_interaction\", \"data\": {\"outcomeType\": 1, \"valueTowardsCompletion\": 0.2, \"interactionType\": 1, \"questionType\": 2, \"questionId\": \"5_FashionablyLate\", \"learnToolsVersion\": \"0.3.4\", \"failureMessage\": \"\", \"exceptionClass\": \"\", \"trace\": \"\"}}, \"*\")"
      ],
      "text/plain": [
       "<IPython.core.display.Javascript object>"
      ]
     },
     "metadata": {},
     "output_type": "display_data"
    },
    {
     "data": {
      "text/markdown": [
       "<span style=\"color:#33cc33\">Correct</span>"
      ],
      "text/plain": [
       "Correct"
      ]
     },
     "metadata": {},
     "output_type": "display_data"
    }
   ],
   "source": [
    "def fashionably_late(arrivals, name):\n",
    "    \"\"\"Given an ordered list of arrivals to the party and a name, return whether the guest with that\n",
    "    name was fashionably late.\n",
    "    \"\"\"\n",
    "    \n",
    "    order = arrivals.index(name)\n",
    "    return order >= len(arrivals) / 2 and order != len(arrivals) - 1\n",
    "\n",
    "    # Get the index of the specified person\n",
    "    if name in arrivals:\n",
    "        person_index = arrivals.index(name)\n",
    "        \n",
    "        # Check if the person is fashionably late\n",
    "        if person_index >= half_guests_index and person_index < total_attendees - 1:\n",
    "            return True\n",
    "    \n",
    "    return False\n",
    "\n",
    "    # Example usage\n",
    "    party_attendees = ['Adela', 'Fleda', 'Owen', 'May', 'Mona', 'Gilbert', 'Ford']\n",
    "\n",
    "    # Test cases\n",
    "    print(fashionably_late(party_attendees, 'Mona'))    # Output: True\n",
    "    print(fashionably_late(party_attendees, 'Gilbert')) # Output: True\n",
    "    print(fashionably_late(party_attendees, 'Ford'))    # Output: False\n",
    "    print(fashionably_late(party_attendees, 'Adela'))   # Output: False\n",
    "    print(fashionably_late(party_attendees, 'May'))     # Output: False (corrected case)\n",
    "    \n",
    "    pass\n",
    "\n",
    "# Check your answer\n",
    "q5.check()"
   ]
  },
  {
   "cell_type": "code",
   "execution_count": 11,
   "id": "551971ff",
   "metadata": {
    "execution": {
     "iopub.execute_input": "2024-10-01T07:10:12.179297Z",
     "iopub.status.busy": "2024-10-01T07:10:12.178769Z",
     "iopub.status.idle": "2024-10-01T07:10:12.190923Z",
     "shell.execute_reply": "2024-10-01T07:10:12.189397Z"
    },
    "papermill": {
     "duration": 0.027939,
     "end_time": "2024-10-01T07:10:12.194417",
     "exception": false,
     "start_time": "2024-10-01T07:10:12.166478",
     "status": "completed"
    },
    "tags": []
   },
   "outputs": [
    {
     "data": {
      "application/javascript": [
       "parent.postMessage({\"jupyterEvent\": \"custom.exercise_interaction\", \"data\": {\"interactionType\": 3, \"questionType\": 2, \"questionId\": \"5_FashionablyLate\", \"learnToolsVersion\": \"0.3.4\", \"valueTowardsCompletion\": 0.0, \"failureMessage\": \"\", \"exceptionClass\": \"\", \"trace\": \"\", \"outcomeType\": 4}}, \"*\")"
      ],
      "text/plain": [
       "<IPython.core.display.Javascript object>"
      ]
     },
     "metadata": {},
     "output_type": "display_data"
    },
    {
     "data": {
      "text/markdown": [
       "<span style=\"color:#33cc99\">Solution:</span> \n",
       "```python\n",
       "def fashionably_late(arrivals, name):\n",
       "    order = arrivals.index(name)\n",
       "    return order >= len(arrivals) / 2 and order != len(arrivals) - 1\n",
       "```"
      ],
      "text/plain": [
       "Solution: \n",
       "```python\n",
       "def fashionably_late(arrivals, name):\n",
       "    order = arrivals.index(name)\n",
       "    return order >= len(arrivals) / 2 and order != len(arrivals) - 1\n",
       "```"
      ]
     },
     "metadata": {},
     "output_type": "display_data"
    }
   ],
   "source": [
    "#q5.hint()\n",
    "q5.solution()"
   ]
  },
  {
   "cell_type": "markdown",
   "id": "fe768478",
   "metadata": {
    "papermill": {
     "duration": 0.010833,
     "end_time": "2024-10-01T07:10:12.215401",
     "exception": false,
     "start_time": "2024-10-01T07:10:12.204568",
     "status": "completed"
    },
    "tags": []
   },
   "source": [
    "# Keep Going\n",
    "\n",
    "That's it for lists and tuples! Now you have the baseline knowledge to **[learn about loops](https://www.kaggle.com/colinmorris/loops-and-list-comprehensions)**, which is where lists and tuples get really interesting. "
   ]
  },
  {
   "cell_type": "markdown",
   "id": "abdc5cbd",
   "metadata": {
    "papermill": {
     "duration": 0.008872,
     "end_time": "2024-10-01T07:10:12.233490",
     "exception": false,
     "start_time": "2024-10-01T07:10:12.224618",
     "status": "completed"
    },
    "tags": []
   },
   "source": [
    "---\n",
    "\n",
    "\n",
    "\n",
    "\n",
    "*Have questions or comments? Visit the [course discussion forum](https://www.kaggle.com/learn/python/discussion) to chat with other learners.*"
   ]
  },
  {
   "cell_type": "code",
   "execution_count": null,
   "id": "91a9f379",
   "metadata": {
    "papermill": {
     "duration": 0.010969,
     "end_time": "2024-10-01T07:10:12.254825",
     "exception": false,
     "start_time": "2024-10-01T07:10:12.243856",
     "status": "completed"
    },
    "tags": []
   },
   "outputs": [],
   "source": []
  }
 ],
 "metadata": {
  "kaggle": {
   "accelerator": "none",
   "dataSources": [],
   "isGpuEnabled": false,
   "isInternetEnabled": false,
   "language": "python",
   "sourceType": "notebook"
  },
  "kernelspec": {
   "display_name": "Python 3",
   "language": "python",
   "name": "python3"
  },
  "language_info": {
   "codemirror_mode": {
    "name": "ipython",
    "version": 3
   },
   "file_extension": ".py",
   "mimetype": "text/x-python",
   "name": "python",
   "nbconvert_exporter": "python",
   "pygments_lexer": "ipython3",
   "version": "3.10.14"
  },
  "learntools_metadata": {
   "lesson_index": 3,
   "type": "exercise"
  },
  "papermill": {
   "default_parameters": {},
   "duration": 6.150755,
   "end_time": "2024-10-01T07:10:12.987851",
   "environment_variables": {},
   "exception": null,
   "input_path": "__notebook__.ipynb",
   "output_path": "__notebook__.ipynb",
   "parameters": {},
   "start_time": "2024-10-01T07:10:06.837096",
   "version": "2.6.0"
  }
 },
 "nbformat": 4,
 "nbformat_minor": 5
}
