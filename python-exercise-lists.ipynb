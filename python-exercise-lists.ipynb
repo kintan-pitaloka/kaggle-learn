{
 "cells": [
  {
   "cell_type": "markdown",
   "id": "78b6802e",
   "metadata": {
    "papermill": {
     "duration": 0.005846,
     "end_time": "2024-10-01T07:58:09.408525",
     "exception": false,
     "start_time": "2024-10-01T07:58:09.402679",
     "status": "completed"
    },
    "tags": []
   },
   "source": [
    "**This notebook is an exercise in the [Python](https://www.kaggle.com/learn/python) course.  You can reference the tutorial at [this link](https://www.kaggle.com/colinmorris/lists).**\n",
    "\n",
    "---\n"
   ]
  },
  {
   "cell_type": "markdown",
   "id": "4325ebc4",
   "metadata": {
    "papermill": {
     "duration": 0.004669,
     "end_time": "2024-10-01T07:58:09.418572",
     "exception": false,
     "start_time": "2024-10-01T07:58:09.413903",
     "status": "completed"
    },
    "tags": []
   },
   "source": [
    "Things get more interesting with lists. You'll apply your new knowledge to solve the questions below. Remember to run the following cell first."
   ]
  },
  {
   "cell_type": "code",
   "execution_count": 1,
   "id": "74c989d5",
   "metadata": {
    "execution": {
     "iopub.execute_input": "2024-10-01T07:58:09.430100Z",
     "iopub.status.busy": "2024-10-01T07:58:09.429649Z",
     "iopub.status.idle": "2024-10-01T07:58:10.461350Z",
     "shell.execute_reply": "2024-10-01T07:58:10.459675Z"
    },
    "papermill": {
     "duration": 1.040743,
     "end_time": "2024-10-01T07:58:10.464147",
     "exception": false,
     "start_time": "2024-10-01T07:58:09.423404",
     "status": "completed"
    },
    "tags": []
   },
   "outputs": [
    {
     "name": "stdout",
     "output_type": "stream",
     "text": [
      "Setup complete.\n"
     ]
    }
   ],
   "source": [
    "from learntools.core import binder; binder.bind(globals())\n",
    "from learntools.python.ex4 import *\n",
    "print('Setup complete.')"
   ]
  },
  {
   "cell_type": "markdown",
   "id": "566eebe4",
   "metadata": {
    "papermill": {
     "duration": 0.00461,
     "end_time": "2024-10-01T07:58:10.473894",
     "exception": false,
     "start_time": "2024-10-01T07:58:10.469284",
     "status": "completed"
    },
    "tags": []
   },
   "source": [
    "# 1.\n",
    "\n",
    "Complete the function below according to its docstring."
   ]
  },
  {
   "cell_type": "code",
   "execution_count": 2,
   "id": "a8989a81",
   "metadata": {
    "execution": {
     "iopub.execute_input": "2024-10-01T07:58:10.485670Z",
     "iopub.status.busy": "2024-10-01T07:58:10.485071Z",
     "iopub.status.idle": "2024-10-01T07:58:10.497255Z",
     "shell.execute_reply": "2024-10-01T07:58:10.496052Z"
    },
    "papermill": {
     "duration": 0.021009,
     "end_time": "2024-10-01T07:58:10.499781",
     "exception": false,
     "start_time": "2024-10-01T07:58:10.478772",
     "status": "completed"
    },
    "tags": []
   },
   "outputs": [
    {
     "data": {
      "application/javascript": [
       "parent.postMessage({\"jupyterEvent\": \"custom.exercise_interaction\", \"data\": {\"outcomeType\": 1, \"valueTowardsCompletion\": 0.2, \"interactionType\": 1, \"questionType\": 2, \"questionId\": \"1_SelectSecondItem\", \"learnToolsVersion\": \"0.3.4\", \"failureMessage\": \"\", \"exceptionClass\": \"\", \"trace\": \"\"}}, \"*\")"
      ],
      "text/plain": [
       "<IPython.core.display.Javascript object>"
      ]
     },
     "metadata": {},
     "output_type": "display_data"
    },
    {
     "data": {
      "text/markdown": [
       "<span style=\"color:#33cc33\">Correct</span>"
      ],
      "text/plain": [
       "Correct"
      ]
     },
     "metadata": {},
     "output_type": "display_data"
    }
   ],
   "source": [
    "def select_second(L):\n",
    "    if len(L) < 2:\n",
    "        return None\n",
    "    return L[1]\n",
    "    \n",
    "    if len(L) < 2:\n",
    "        return None\n",
    "    \n",
    "    return L[1]\n",
    "pass\n",
    "\n",
    "# Check your answer\n",
    "q1.check()"
   ]
  },
  {
   "cell_type": "code",
   "execution_count": 3,
   "id": "8191368b",
   "metadata": {
    "execution": {
     "iopub.execute_input": "2024-10-01T07:58:10.512401Z",
     "iopub.status.busy": "2024-10-01T07:58:10.511934Z",
     "iopub.status.idle": "2024-10-01T07:58:10.516997Z",
     "shell.execute_reply": "2024-10-01T07:58:10.515814Z"
    },
    "papermill": {
     "duration": 0.014558,
     "end_time": "2024-10-01T07:58:10.519654",
     "exception": false,
     "start_time": "2024-10-01T07:58:10.505096",
     "status": "completed"
    },
    "tags": []
   },
   "outputs": [],
   "source": [
    "#q1.hint()\n",
    "#q1.solution()"
   ]
  },
  {
   "cell_type": "markdown",
   "id": "28c06485",
   "metadata": {
    "papermill": {
     "duration": 0.004993,
     "end_time": "2024-10-01T07:58:10.530023",
     "exception": false,
     "start_time": "2024-10-01T07:58:10.525030",
     "status": "completed"
    },
    "tags": []
   },
   "source": [
    "# 2.\n",
    "\n",
    "You are analyzing sports teams.  Members of each team are stored in a list. The Coach is the first name in the list, the captain is the second name in the list, and other players are listed after that. \n",
    "These lists are stored in another list, which starts with the best team and proceeds through the list to the worst team last.  Complete the function below to select the **captain** of the worst team."
   ]
  },
  {
   "cell_type": "code",
   "execution_count": 4,
   "id": "358549d6",
   "metadata": {
    "execution": {
     "iopub.execute_input": "2024-10-01T07:58:10.543708Z",
     "iopub.status.busy": "2024-10-01T07:58:10.542783Z",
     "iopub.status.idle": "2024-10-01T07:58:10.553289Z",
     "shell.execute_reply": "2024-10-01T07:58:10.552199Z"
    },
    "papermill": {
     "duration": 0.019902,
     "end_time": "2024-10-01T07:58:10.555932",
     "exception": false,
     "start_time": "2024-10-01T07:58:10.536030",
     "status": "completed"
    },
    "tags": []
   },
   "outputs": [
    {
     "data": {
      "application/javascript": [
       "parent.postMessage({\"jupyterEvent\": \"custom.exercise_interaction\", \"data\": {\"outcomeType\": 1, \"valueTowardsCompletion\": 0.2, \"interactionType\": 1, \"questionType\": 2, \"questionId\": \"1_SelectSecondItem\", \"learnToolsVersion\": \"0.3.4\", \"failureMessage\": \"\", \"exceptionClass\": \"\", \"trace\": \"\"}}, \"*\")"
      ],
      "text/plain": [
       "<IPython.core.display.Javascript object>"
      ]
     },
     "metadata": {},
     "output_type": "display_data"
    },
    {
     "data": {
      "text/markdown": [
       "<span style=\"color:#33cc33\">Correct</span>"
      ],
      "text/plain": [
       "Correct"
      ]
     },
     "metadata": {},
     "output_type": "display_data"
    }
   ],
   "source": [
    "def losing_team_captain(teams):\n",
    "    worst_team = teams[-1] #get the last name for name\n",
    "    return worst_team[1] #return the last capten\n",
    "\n",
    "    teams = [\n",
    "        [\"Kinkin\", \"Boby\", \"Alexa\"], # Best Team\n",
    "        [\"Eva\", \"June\", \"Ivy\"], # Second Best Team\n",
    "        [\"George\", \"Jiji\", \"Momo\"], # Worst Team\n",
    "    ]\n",
    "    \n",
    "    \n",
    "    captain = losing_team_captain(teams)\n",
    "    print(captain) \n",
    "    \n",
    "    pass\n",
    "\n",
    "# Check your answer\n",
    "q1.check()"
   ]
  },
  {
   "cell_type": "code",
   "execution_count": 5,
   "id": "5a633627",
   "metadata": {
    "execution": {
     "iopub.execute_input": "2024-10-01T07:58:10.570717Z",
     "iopub.status.busy": "2024-10-01T07:58:10.570143Z",
     "iopub.status.idle": "2024-10-01T07:58:10.575371Z",
     "shell.execute_reply": "2024-10-01T07:58:10.574212Z"
    },
    "papermill": {
     "duration": 0.016467,
     "end_time": "2024-10-01T07:58:10.578408",
     "exception": false,
     "start_time": "2024-10-01T07:58:10.561941",
     "status": "completed"
    },
    "tags": []
   },
   "outputs": [],
   "source": [
    "#q2.hint()\n",
    "#q2.solution()"
   ]
  },
  {
   "cell_type": "markdown",
   "id": "015c3b65",
   "metadata": {
    "papermill": {
     "duration": 0.005173,
     "end_time": "2024-10-01T07:58:10.589198",
     "exception": false,
     "start_time": "2024-10-01T07:58:10.584025",
     "status": "completed"
    },
    "tags": []
   },
   "source": [
    "# 3.\n",
    "\n",
    "The next iteration of Mario Kart will feature an extra-infuriating new item, the *Purple Shell*. When used, it warps the last place racer into first place and the first place racer into last place. Complete the function below to implement the Purple Shell's effect."
   ]
  },
  {
   "cell_type": "code",
   "execution_count": 6,
   "id": "adc475f4",
   "metadata": {
    "execution": {
     "iopub.execute_input": "2024-10-01T07:58:10.602180Z",
     "iopub.status.busy": "2024-10-01T07:58:10.601750Z",
     "iopub.status.idle": "2024-10-01T07:58:10.614116Z",
     "shell.execute_reply": "2024-10-01T07:58:10.613027Z"
    },
    "papermill": {
     "duration": 0.022242,
     "end_time": "2024-10-01T07:58:10.616956",
     "exception": false,
     "start_time": "2024-10-01T07:58:10.594714",
     "status": "completed"
    },
    "tags": []
   },
   "outputs": [
    {
     "name": "stdout",
     "output_type": "stream",
     "text": [
      "Eve\n",
      "Eve\n",
      "Eve\n"
     ]
    },
    {
     "data": {
      "application/javascript": [
       "parent.postMessage({\"jupyterEvent\": \"custom.exercise_interaction\", \"data\": {\"outcomeType\": 1, \"valueTowardsCompletion\": 0.2, \"interactionType\": 1, \"questionType\": 2, \"questionId\": \"3_PurpleShell\", \"learnToolsVersion\": \"0.3.4\", \"failureMessage\": \"\", \"exceptionClass\": \"\", \"trace\": \"\"}}, \"*\")"
      ],
      "text/plain": [
       "<IPython.core.display.Javascript object>"
      ]
     },
     "metadata": {},
     "output_type": "display_data"
    },
    {
     "data": {
      "text/markdown": [
       "<span style=\"color:#33cc33\">Correct</span>"
      ],
      "text/plain": [
       "Correct"
      ]
     },
     "metadata": {},
     "output_type": "display_data"
    }
   ],
   "source": [
    "def purple_shell(racers):\n",
    "    # One slick way to do the swap is x[0], x[-1] = x[-1], x[0].\n",
    "    temp = racers[0]\n",
    "    racers[0] = racers[-1]\n",
    "    racers[-1] = temp\n",
    "\n",
    "    # Example usage\n",
    "    teams = [\n",
    "        [\"Team A\", \"Alice\", \"Bob\"],   # First team\n",
    "        [\"Team B\", \"Charlie\", \"David\"],  # Second team\n",
    "        [\"Team C\", \"Eve\", \"Frank\"]     # Last team\n",
    "    ]\n",
    "\n",
    "    captain = losing_team_captain(teams)\n",
    "    print(captain)  # Output: 'Frank'\n",
    "    \n",
    "pass\n",
    "\n",
    "# Check your answer\n",
    "q3.check()"
   ]
  },
  {
   "cell_type": "code",
   "execution_count": 7,
   "id": "edf69bd0",
   "metadata": {
    "execution": {
     "iopub.execute_input": "2024-10-01T07:58:10.632709Z",
     "iopub.status.busy": "2024-10-01T07:58:10.632185Z",
     "iopub.status.idle": "2024-10-01T07:58:10.638422Z",
     "shell.execute_reply": "2024-10-01T07:58:10.636897Z"
    },
    "papermill": {
     "duration": 0.017848,
     "end_time": "2024-10-01T07:58:10.641146",
     "exception": false,
     "start_time": "2024-10-01T07:58:10.623298",
     "status": "completed"
    },
    "tags": []
   },
   "outputs": [],
   "source": [
    "#q3.hint()\n",
    "#q3.solution()"
   ]
  },
  {
   "cell_type": "markdown",
   "id": "f161929d",
   "metadata": {
    "papermill": {
     "duration": 0.00602,
     "end_time": "2024-10-01T07:58:10.653420",
     "exception": false,
     "start_time": "2024-10-01T07:58:10.647400",
     "status": "completed"
    },
    "tags": []
   },
   "source": [
    "# 4.\n",
    "\n",
    "What are the lengths of the following lists? Fill in the variable `lengths` with your predictions. (Try to make a prediction for each list *without* just calling `len()` on it.)"
   ]
  },
  {
   "cell_type": "code",
   "execution_count": 8,
   "id": "38f08559",
   "metadata": {
    "execution": {
     "iopub.execute_input": "2024-10-01T07:58:10.668783Z",
     "iopub.status.busy": "2024-10-01T07:58:10.668210Z",
     "iopub.status.idle": "2024-10-01T07:58:10.680298Z",
     "shell.execute_reply": "2024-10-01T07:58:10.678822Z"
    },
    "papermill": {
     "duration": 0.023216,
     "end_time": "2024-10-01T07:58:10.682957",
     "exception": false,
     "start_time": "2024-10-01T07:58:10.659741",
     "status": "completed"
    },
    "tags": []
   },
   "outputs": [
    {
     "data": {
      "application/javascript": [
       "parent.postMessage({\"jupyterEvent\": \"custom.exercise_interaction\", \"data\": {\"outcomeType\": 1, \"valueTowardsCompletion\": 0.2, \"interactionType\": 1, \"questionType\": 1, \"questionId\": \"4_UnderstandLen\", \"learnToolsVersion\": \"0.3.4\", \"failureMessage\": \"\", \"exceptionClass\": \"\", \"trace\": \"\"}}, \"*\")"
      ],
      "text/plain": [
       "<IPython.core.display.Javascript object>"
      ]
     },
     "metadata": {},
     "output_type": "display_data"
    },
    {
     "data": {
      "text/markdown": [
       "<span style=\"color:#33cc33\">Correct:</span> \n",
       "\n",
       "\n",
       "- a: There are three items in this list. Nothing tricky yet.\n",
       "- b: The list `[2, 3]` counts as a single item. It has one item before it. So we have 2 items in the list\n",
       "- c: The empty list has 0 items\n",
       "- d: The expression is the same as the list `[2, 3]`, which has length 2."
      ],
      "text/plain": [
       "Correct: \n",
       "\n",
       "\n",
       "- a: There are three items in this list. Nothing tricky yet.\n",
       "- b: The list `[2, 3]` counts as a single item. It has one item before it. So we have 2 items in the list\n",
       "- c: The empty list has 0 items\n",
       "- d: The expression is the same as the list `[2, 3]`, which has length 2."
      ]
     },
     "metadata": {},
     "output_type": "display_data"
    }
   ],
   "source": [
    "a = [1, 2, 3]\n",
    "b = [1, [2, 3]]\n",
    "c = []\n",
    "d = [1, 2, 3][1:]\n",
    "\n",
    "# Put your predictions in the list below. Lengths should contain 4 numbers, the\n",
    "# first being the length of a, the second being the length of b and so on.\n",
    "lengths = [3, 2, 0, 2]\n",
    "\n",
    "# Check your answer\n",
    "q4.check()"
   ]
  },
  {
   "cell_type": "code",
   "execution_count": 9,
   "id": "44819ce7",
   "metadata": {
    "execution": {
     "iopub.execute_input": "2024-10-01T07:58:10.698193Z",
     "iopub.status.busy": "2024-10-01T07:58:10.697719Z",
     "iopub.status.idle": "2024-10-01T07:58:10.703059Z",
     "shell.execute_reply": "2024-10-01T07:58:10.701843Z"
    },
    "papermill": {
     "duration": 0.016186,
     "end_time": "2024-10-01T07:58:10.705961",
     "exception": false,
     "start_time": "2024-10-01T07:58:10.689775",
     "status": "completed"
    },
    "tags": []
   },
   "outputs": [],
   "source": [
    "# line below provides some explanation\n",
    "#q4.solution()"
   ]
  },
  {
   "cell_type": "markdown",
   "id": "4efa88f3",
   "metadata": {
    "papermill": {
     "duration": 0.00586,
     "end_time": "2024-10-01T07:58:10.717925",
     "exception": false,
     "start_time": "2024-10-01T07:58:10.712065",
     "status": "completed"
    },
    "tags": []
   },
   "source": [
    "# 5. <span title=\"A bit spicy\" style=\"color: darkgreen \">🌶️</span>\n",
    "\n",
    "We're using lists to record people who attended our party and what order they arrived in. For example, the following list represents a party with 7 guests, in which Adela showed up first and Ford was the last to arrive:\n",
    "\n",
    "    party_attendees = ['Adela', 'Fleda', 'Owen', 'May', 'Mona', 'Gilbert', 'Ford']\n",
    "\n",
    "A guest is considered 'fashionably late' if they arrived after at least half of the party's guests. However, they must not be the very last guest (that's taking it too far). In the above example, Mona and Gilbert are the only guests who were fashionably late.\n",
    "\n",
    "Complete the function below which takes a list of party attendees as well as a person, and tells us whether that person is fashionably late."
   ]
  },
  {
   "cell_type": "code",
   "execution_count": 10,
   "id": "d350099e",
   "metadata": {
    "execution": {
     "iopub.execute_input": "2024-10-01T07:58:10.732012Z",
     "iopub.status.busy": "2024-10-01T07:58:10.731572Z",
     "iopub.status.idle": "2024-10-01T07:58:10.746180Z",
     "shell.execute_reply": "2024-10-01T07:58:10.744834Z"
    },
    "papermill": {
     "duration": 0.025215,
     "end_time": "2024-10-01T07:58:10.749247",
     "exception": false,
     "start_time": "2024-10-01T07:58:10.724032",
     "status": "completed"
    },
    "tags": []
   },
   "outputs": [
    {
     "data": {
      "application/javascript": [
       "parent.postMessage({\"jupyterEvent\": \"custom.exercise_interaction\", \"data\": {\"outcomeType\": 1, \"valueTowardsCompletion\": 0.2, \"interactionType\": 1, \"questionType\": 2, \"questionId\": \"5_FashionablyLate\", \"learnToolsVersion\": \"0.3.4\", \"failureMessage\": \"\", \"exceptionClass\": \"\", \"trace\": \"\"}}, \"*\")"
      ],
      "text/plain": [
       "<IPython.core.display.Javascript object>"
      ]
     },
     "metadata": {},
     "output_type": "display_data"
    },
    {
     "data": {
      "text/markdown": [
       "<span style=\"color:#33cc33\">Correct</span>"
      ],
      "text/plain": [
       "Correct"
      ]
     },
     "metadata": {},
     "output_type": "display_data"
    }
   ],
   "source": [
    "def fashionably_late(arrivals, name):\n",
    "    \"\"\"Given an ordered list of arrivals to the party and a name, return whether the guest with that\n",
    "    name was fashionably late.\n",
    "    \"\"\"\n",
    "    \n",
    "    order = arrivals.index(name)\n",
    "    return order >= len(arrivals) / 2 and order != len(arrivals) - 1\n",
    "\n",
    "    # Get the index of the specified person\n",
    "    if name in arrivals:\n",
    "        person_index = arrivals.index(name)\n",
    "        \n",
    "        # Check if the person is fashionably late\n",
    "        if person_index >= half_guests_index and person_index < total_attendees - 1:\n",
    "            return True\n",
    "    \n",
    "    return False\n",
    "\n",
    "    # Example usage\n",
    "    party_attendees = ['Adela', 'Fleda', 'Owen', 'May', 'Mona', 'Gilbert', 'Ford']\n",
    "\n",
    "    # Test cases\n",
    "    print(fashionably_late(party_attendees, 'Mona'))    # Output: True\n",
    "    print(fashionably_late(party_attendees, 'Gilbert')) # Output: True\n",
    "    print(fashionably_late(party_attendees, 'Ford'))    # Output: False\n",
    "    print(fashionably_late(party_attendees, 'Adela'))   # Output: False\n",
    "    print(fashionably_late(party_attendees, 'May'))     # Output: False (corrected case)\n",
    "    \n",
    "    pass\n",
    "\n",
    "# Check your answer\n",
    "q5.check()"
   ]
  },
  {
   "cell_type": "code",
   "execution_count": 11,
   "id": "98f8aa36",
   "metadata": {
    "execution": {
     "iopub.execute_input": "2024-10-01T07:58:10.765543Z",
     "iopub.status.busy": "2024-10-01T07:58:10.765093Z",
     "iopub.status.idle": "2024-10-01T07:58:10.769828Z",
     "shell.execute_reply": "2024-10-01T07:58:10.768889Z"
    },
    "papermill": {
     "duration": 0.016199,
     "end_time": "2024-10-01T07:58:10.772282",
     "exception": false,
     "start_time": "2024-10-01T07:58:10.756083",
     "status": "completed"
    },
    "tags": []
   },
   "outputs": [],
   "source": [
    "#q5.hint()\n",
    "#q5.solution()"
   ]
  },
  {
   "cell_type": "markdown",
   "id": "8ad58495",
   "metadata": {
    "papermill": {
     "duration": 0.006149,
     "end_time": "2024-10-01T07:58:10.785217",
     "exception": false,
     "start_time": "2024-10-01T07:58:10.779068",
     "status": "completed"
    },
    "tags": []
   },
   "source": [
    "# Keep Going\n",
    "\n",
    "That's it for lists and tuples! Now you have the baseline knowledge to **[learn about loops](https://www.kaggle.com/colinmorris/loops-and-list-comprehensions)**, which is where lists and tuples get really interesting. "
   ]
  },
  {
   "cell_type": "markdown",
   "id": "365cedf7",
   "metadata": {
    "papermill": {
     "duration": 0.005944,
     "end_time": "2024-10-01T07:58:10.797565",
     "exception": false,
     "start_time": "2024-10-01T07:58:10.791621",
     "status": "completed"
    },
    "tags": []
   },
   "source": [
    "---\n",
    "\n",
    "\n",
    "\n",
    "\n",
    "*Have questions or comments? Visit the [course discussion forum](https://www.kaggle.com/learn/python/discussion) to chat with other learners.*"
   ]
  }
 ],
 "metadata": {
  "kaggle": {
   "accelerator": "none",
   "dataSources": [],
   "isGpuEnabled": false,
   "isInternetEnabled": false,
   "language": "python",
   "sourceType": "notebook"
  },
  "kernelspec": {
   "display_name": "Python 3",
   "language": "python",
   "name": "python3"
  },
  "language_info": {
   "codemirror_mode": {
    "name": "ipython",
    "version": 3
   },
   "file_extension": ".py",
   "mimetype": "text/x-python",
   "name": "python",
   "nbconvert_exporter": "python",
   "pygments_lexer": "ipython3",
   "version": "3.10.14"
  },
  "learntools_metadata": {
   "lesson_index": 3,
   "type": "exercise"
  },
  "papermill": {
   "default_parameters": {},
   "duration": 4.871444,
   "end_time": "2024-10-01T07:58:11.326377",
   "environment_variables": {},
   "exception": null,
   "input_path": "__notebook__.ipynb",
   "output_path": "__notebook__.ipynb",
   "parameters": {},
   "start_time": "2024-10-01T07:58:06.454933",
   "version": "2.6.0"
  }
 },
 "nbformat": 4,
 "nbformat_minor": 5
}
