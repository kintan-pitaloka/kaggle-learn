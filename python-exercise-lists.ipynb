{
 "cells": [
  {
   "cell_type": "markdown",
   "id": "ed5188a5",
   "metadata": {
    "papermill": {
     "duration": 0.005791,
     "end_time": "2024-10-01T07:50:32.992682",
     "exception": false,
     "start_time": "2024-10-01T07:50:32.986891",
     "status": "completed"
    },
    "tags": []
   },
   "source": [
    "**This notebook is an exercise in the [Python](https://www.kaggle.com/learn/python) course.  You can reference the tutorial at [this link](https://www.kaggle.com/colinmorris/lists).**\n",
    "\n",
    "---\n"
   ]
  },
  {
   "cell_type": "markdown",
   "id": "021729d1",
   "metadata": {
    "papermill": {
     "duration": 0.004625,
     "end_time": "2024-10-01T07:50:33.002402",
     "exception": false,
     "start_time": "2024-10-01T07:50:32.997777",
     "status": "completed"
    },
    "tags": []
   },
   "source": [
    "Things get more interesting with lists. You'll apply your new knowledge to solve the questions below. Remember to run the following cell first."
   ]
  },
  {
   "cell_type": "code",
   "execution_count": 1,
   "id": "2e6d18cb",
   "metadata": {
    "execution": {
     "iopub.execute_input": "2024-10-01T07:50:33.014199Z",
     "iopub.status.busy": "2024-10-01T07:50:33.013667Z",
     "iopub.status.idle": "2024-10-01T07:50:34.118277Z",
     "shell.execute_reply": "2024-10-01T07:50:34.116975Z"
    },
    "papermill": {
     "duration": 1.113844,
     "end_time": "2024-10-01T07:50:34.121120",
     "exception": false,
     "start_time": "2024-10-01T07:50:33.007276",
     "status": "completed"
    },
    "tags": []
   },
   "outputs": [
    {
     "name": "stdout",
     "output_type": "stream",
     "text": [
      "Setup complete.\n"
     ]
    }
   ],
   "source": [
    "from learntools.core import binder; binder.bind(globals())\n",
    "from learntools.python.ex4 import *\n",
    "print('Setup complete.')"
   ]
  },
  {
   "cell_type": "markdown",
   "id": "a0157501",
   "metadata": {
    "papermill": {
     "duration": 0.004905,
     "end_time": "2024-10-01T07:50:34.131412",
     "exception": false,
     "start_time": "2024-10-01T07:50:34.126507",
     "status": "completed"
    },
    "tags": []
   },
   "source": [
    "# 1.\n",
    "\n",
    "Complete the function below according to its docstring."
   ]
  },
  {
   "cell_type": "code",
   "execution_count": 2,
   "id": "1d28b6fb",
   "metadata": {
    "execution": {
     "iopub.execute_input": "2024-10-01T07:50:34.144655Z",
     "iopub.status.busy": "2024-10-01T07:50:34.144023Z",
     "iopub.status.idle": "2024-10-01T07:50:34.156901Z",
     "shell.execute_reply": "2024-10-01T07:50:34.155779Z"
    },
    "papermill": {
     "duration": 0.022662,
     "end_time": "2024-10-01T07:50:34.159415",
     "exception": false,
     "start_time": "2024-10-01T07:50:34.136753",
     "status": "completed"
    },
    "tags": []
   },
   "outputs": [
    {
     "data": {
      "application/javascript": [
       "parent.postMessage({\"jupyterEvent\": \"custom.exercise_interaction\", \"data\": {\"outcomeType\": 1, \"valueTowardsCompletion\": 0.2, \"interactionType\": 1, \"questionType\": 2, \"questionId\": \"1_SelectSecondItem\", \"learnToolsVersion\": \"0.3.4\", \"failureMessage\": \"\", \"exceptionClass\": \"\", \"trace\": \"\"}}, \"*\")"
      ],
      "text/plain": [
       "<IPython.core.display.Javascript object>"
      ]
     },
     "metadata": {},
     "output_type": "display_data"
    },
    {
     "data": {
      "text/markdown": [
       "<span style=\"color:#33cc33\">Correct</span>"
      ],
      "text/plain": [
       "Correct"
      ]
     },
     "metadata": {},
     "output_type": "display_data"
    }
   ],
   "source": [
    "def select_second(L):\n",
    "    if len(L) < 2:\n",
    "        return None\n",
    "    return L[1]\n",
    "    \n",
    "    if len(L) < 2:\n",
    "        return None\n",
    "    \n",
    "    return L[1]\n",
    "pass\n",
    "\n",
    "# Check your answer\n",
    "q1.check()"
   ]
  },
  {
   "cell_type": "code",
   "execution_count": 3,
   "id": "17516b3c",
   "metadata": {
    "execution": {
     "iopub.execute_input": "2024-10-01T07:50:34.172121Z",
     "iopub.status.busy": "2024-10-01T07:50:34.171677Z",
     "iopub.status.idle": "2024-10-01T07:50:34.177353Z",
     "shell.execute_reply": "2024-10-01T07:50:34.175923Z"
    },
    "papermill": {
     "duration": 0.015268,
     "end_time": "2024-10-01T07:50:34.180209",
     "exception": false,
     "start_time": "2024-10-01T07:50:34.164941",
     "status": "completed"
    },
    "tags": []
   },
   "outputs": [],
   "source": [
    "#q1.hint()\n",
    "#q1.solution()"
   ]
  },
  {
   "cell_type": "markdown",
   "id": "b1707fa3",
   "metadata": {
    "papermill": {
     "duration": 0.005029,
     "end_time": "2024-10-01T07:50:34.190632",
     "exception": false,
     "start_time": "2024-10-01T07:50:34.185603",
     "status": "completed"
    },
    "tags": []
   },
   "source": [
    "# 2.\n",
    "\n",
    "You are analyzing sports teams.  Members of each team are stored in a list. The Coach is the first name in the list, the captain is the second name in the list, and other players are listed after that. \n",
    "These lists are stored in another list, which starts with the best team and proceeds through the list to the worst team last.  Complete the function below to select the **captain** of the worst team."
   ]
  },
  {
   "cell_type": "code",
   "execution_count": 4,
   "id": "180dc20e",
   "metadata": {
    "execution": {
     "iopub.execute_input": "2024-10-01T07:50:34.203998Z",
     "iopub.status.busy": "2024-10-01T07:50:34.203545Z",
     "iopub.status.idle": "2024-10-01T07:50:34.215389Z",
     "shell.execute_reply": "2024-10-01T07:50:34.213850Z"
    },
    "papermill": {
     "duration": 0.021828,
     "end_time": "2024-10-01T07:50:34.218313",
     "exception": false,
     "start_time": "2024-10-01T07:50:34.196485",
     "status": "completed"
    },
    "tags": []
   },
   "outputs": [
    {
     "data": {
      "application/javascript": [
       "parent.postMessage({\"jupyterEvent\": \"custom.exercise_interaction\", \"data\": {\"outcomeType\": 1, \"valueTowardsCompletion\": 0.2, \"interactionType\": 1, \"questionType\": 2, \"questionId\": \"1_SelectSecondItem\", \"learnToolsVersion\": \"0.3.4\", \"failureMessage\": \"\", \"exceptionClass\": \"\", \"trace\": \"\"}}, \"*\")"
      ],
      "text/plain": [
       "<IPython.core.display.Javascript object>"
      ]
     },
     "metadata": {},
     "output_type": "display_data"
    },
    {
     "data": {
      "text/markdown": [
       "<span style=\"color:#33cc33\">Correct</span>"
      ],
      "text/plain": [
       "Correct"
      ]
     },
     "metadata": {},
     "output_type": "display_data"
    }
   ],
   "source": [
    "def losing_team_captain(teams):\n",
    "    worst_team = teams[-1] #get the last name for name\n",
    "    return worst_team[1] #return the last capten\n",
    "\n",
    "    teams = [\n",
    "        [\"Kinkin\", \"Boby\", \"Alexa\"], # Best Team\n",
    "        [\"Eva\", \"June\", \"Ivy\"], # Second Best Team\n",
    "        [\"George\", \"Jiji\", \"Momo\"], # Worst Team\n",
    "    ]\n",
    "    \n",
    "    \n",
    "    captain = losing_team_captain(teams)\n",
    "    print(captain) \n",
    "    \n",
    "    pass\n",
    "\n",
    "# Check your answer\n",
    "q1.check()"
   ]
  },
  {
   "cell_type": "code",
   "execution_count": 5,
   "id": "8a5a4d4b",
   "metadata": {
    "execution": {
     "iopub.execute_input": "2024-10-01T07:50:34.232171Z",
     "iopub.status.busy": "2024-10-01T07:50:34.231742Z",
     "iopub.status.idle": "2024-10-01T07:50:34.237058Z",
     "shell.execute_reply": "2024-10-01T07:50:34.235873Z"
    },
    "papermill": {
     "duration": 0.01568,
     "end_time": "2024-10-01T07:50:34.239559",
     "exception": false,
     "start_time": "2024-10-01T07:50:34.223879",
     "status": "completed"
    },
    "tags": []
   },
   "outputs": [],
   "source": [
    "#q2.hint()\n",
    "#q2.solution()"
   ]
  },
  {
   "cell_type": "markdown",
   "id": "c06490ce",
   "metadata": {
    "papermill": {
     "duration": 0.005168,
     "end_time": "2024-10-01T07:50:34.250392",
     "exception": false,
     "start_time": "2024-10-01T07:50:34.245224",
     "status": "completed"
    },
    "tags": []
   },
   "source": [
    "# 3.\n",
    "\n",
    "The next iteration of Mario Kart will feature an extra-infuriating new item, the *Purple Shell*. When used, it warps the last place racer into first place and the first place racer into last place. Complete the function below to implement the Purple Shell's effect."
   ]
  },
  {
   "cell_type": "code",
   "execution_count": 6,
   "id": "fc4cab87",
   "metadata": {
    "execution": {
     "iopub.execute_input": "2024-10-01T07:50:34.263747Z",
     "iopub.status.busy": "2024-10-01T07:50:34.263321Z",
     "iopub.status.idle": "2024-10-01T07:50:34.276275Z",
     "shell.execute_reply": "2024-10-01T07:50:34.275164Z"
    },
    "papermill": {
     "duration": 0.023013,
     "end_time": "2024-10-01T07:50:34.278911",
     "exception": false,
     "start_time": "2024-10-01T07:50:34.255898",
     "status": "completed"
    },
    "tags": []
   },
   "outputs": [
    {
     "name": "stdout",
     "output_type": "stream",
     "text": [
      "Eve\n",
      "Eve\n",
      "Eve\n"
     ]
    },
    {
     "data": {
      "application/javascript": [
       "parent.postMessage({\"jupyterEvent\": \"custom.exercise_interaction\", \"data\": {\"outcomeType\": 1, \"valueTowardsCompletion\": 0.2, \"interactionType\": 1, \"questionType\": 2, \"questionId\": \"3_PurpleShell\", \"learnToolsVersion\": \"0.3.4\", \"failureMessage\": \"\", \"exceptionClass\": \"\", \"trace\": \"\"}}, \"*\")"
      ],
      "text/plain": [
       "<IPython.core.display.Javascript object>"
      ]
     },
     "metadata": {},
     "output_type": "display_data"
    },
    {
     "data": {
      "text/markdown": [
       "<span style=\"color:#33cc33\">Correct</span>"
      ],
      "text/plain": [
       "Correct"
      ]
     },
     "metadata": {},
     "output_type": "display_data"
    }
   ],
   "source": [
    "def purple_shell(racers):\n",
    "    # One slick way to do the swap is x[0], x[-1] = x[-1], x[0].\n",
    "    temp = racers[0]\n",
    "    racers[0] = racers[-1]\n",
    "    racers[-1] = temp\n",
    "\n",
    "    # Example usage\n",
    "    teams = [\n",
    "        [\"Team A\", \"Alice\", \"Bob\"],   # First team\n",
    "        [\"Team B\", \"Charlie\", \"David\"],  # Second team\n",
    "        [\"Team C\", \"Eve\", \"Frank\"]     # Last team\n",
    "    ]\n",
    "\n",
    "    captain = losing_team_captain(teams)\n",
    "    print(captain)  # Output: 'Frank'\n",
    "    \n",
    "pass\n",
    "\n",
    "# Check your answer\n",
    "q3.check()"
   ]
  },
  {
   "cell_type": "code",
   "execution_count": 7,
   "id": "91921049",
   "metadata": {
    "execution": {
     "iopub.execute_input": "2024-10-01T07:50:34.292529Z",
     "iopub.status.busy": "2024-10-01T07:50:34.292062Z",
     "iopub.status.idle": "2024-10-01T07:50:34.296845Z",
     "shell.execute_reply": "2024-10-01T07:50:34.295701Z"
    },
    "papermill": {
     "duration": 0.014584,
     "end_time": "2024-10-01T07:50:34.299333",
     "exception": false,
     "start_time": "2024-10-01T07:50:34.284749",
     "status": "completed"
    },
    "tags": []
   },
   "outputs": [],
   "source": [
    "#q3.hint()\n",
    "#q3.solution()"
   ]
  },
  {
   "cell_type": "markdown",
   "id": "d79892f1",
   "metadata": {
    "papermill": {
     "duration": 0.005411,
     "end_time": "2024-10-01T07:50:34.310663",
     "exception": false,
     "start_time": "2024-10-01T07:50:34.305252",
     "status": "completed"
    },
    "tags": []
   },
   "source": [
    "# 4.\n",
    "\n",
    "What are the lengths of the following lists? Fill in the variable `lengths` with your predictions. (Try to make a prediction for each list *without* just calling `len()` on it.)"
   ]
  },
  {
   "cell_type": "code",
   "execution_count": 8,
   "id": "98eaf9c7",
   "metadata": {
    "execution": {
     "iopub.execute_input": "2024-10-01T07:50:34.324004Z",
     "iopub.status.busy": "2024-10-01T07:50:34.323579Z",
     "iopub.status.idle": "2024-10-01T07:50:34.334856Z",
     "shell.execute_reply": "2024-10-01T07:50:34.333566Z"
    },
    "papermill": {
     "duration": 0.021419,
     "end_time": "2024-10-01T07:50:34.337835",
     "exception": false,
     "start_time": "2024-10-01T07:50:34.316416",
     "status": "completed"
    },
    "tags": []
   },
   "outputs": [
    {
     "data": {
      "application/javascript": [
       "parent.postMessage({\"jupyterEvent\": \"custom.exercise_interaction\", \"data\": {\"outcomeType\": 1, \"valueTowardsCompletion\": 0.2, \"interactionType\": 1, \"questionType\": 1, \"questionId\": \"4_UnderstandLen\", \"learnToolsVersion\": \"0.3.4\", \"failureMessage\": \"\", \"exceptionClass\": \"\", \"trace\": \"\"}}, \"*\")"
      ],
      "text/plain": [
       "<IPython.core.display.Javascript object>"
      ]
     },
     "metadata": {},
     "output_type": "display_data"
    },
    {
     "data": {
      "text/markdown": [
       "<span style=\"color:#33cc33\">Correct:</span> \n",
       "\n",
       "\n",
       "- a: There are three items in this list. Nothing tricky yet.\n",
       "- b: The list `[2, 3]` counts as a single item. It has one item before it. So we have 2 items in the list\n",
       "- c: The empty list has 0 items\n",
       "- d: The expression is the same as the list `[2, 3]`, which has length 2."
      ],
      "text/plain": [
       "Correct: \n",
       "\n",
       "\n",
       "- a: There are three items in this list. Nothing tricky yet.\n",
       "- b: The list `[2, 3]` counts as a single item. It has one item before it. So we have 2 items in the list\n",
       "- c: The empty list has 0 items\n",
       "- d: The expression is the same as the list `[2, 3]`, which has length 2."
      ]
     },
     "metadata": {},
     "output_type": "display_data"
    }
   ],
   "source": [
    "a = [1, 2, 3]\n",
    "b = [1, [2, 3]]\n",
    "c = []\n",
    "d = [1, 2, 3][1:]\n",
    "\n",
    "# Put your predictions in the list below. Lengths should contain 4 numbers, the\n",
    "# first being the length of a, the second being the length of b and so on.\n",
    "lengths = [3, 2, 0, 2]\n",
    "\n",
    "# Check your answer\n",
    "q4.check()"
   ]
  },
  {
   "cell_type": "code",
   "execution_count": 9,
   "id": "5abfc036",
   "metadata": {
    "execution": {
     "iopub.execute_input": "2024-10-01T07:50:34.352032Z",
     "iopub.status.busy": "2024-10-01T07:50:34.351632Z",
     "iopub.status.idle": "2024-10-01T07:50:34.356726Z",
     "shell.execute_reply": "2024-10-01T07:50:34.355541Z"
    },
    "papermill": {
     "duration": 0.01497,
     "end_time": "2024-10-01T07:50:34.359160",
     "exception": false,
     "start_time": "2024-10-01T07:50:34.344190",
     "status": "completed"
    },
    "tags": []
   },
   "outputs": [],
   "source": [
    "# line below provides some explanation\n",
    "#q4.solution()"
   ]
  },
  {
   "cell_type": "markdown",
   "id": "1d017bc2",
   "metadata": {
    "papermill": {
     "duration": 0.005893,
     "end_time": "2024-10-01T07:50:34.371210",
     "exception": false,
     "start_time": "2024-10-01T07:50:34.365317",
     "status": "completed"
    },
    "tags": []
   },
   "source": [
    "# 5. <span title=\"A bit spicy\" style=\"color: darkgreen \">🌶️</span>\n",
    "\n",
    "We're using lists to record people who attended our party and what order they arrived in. For example, the following list represents a party with 7 guests, in which Adela showed up first and Ford was the last to arrive:\n",
    "\n",
    "    party_attendees = ['Adela', 'Fleda', 'Owen', 'May', 'Mona', 'Gilbert', 'Ford']\n",
    "\n",
    "A guest is considered 'fashionably late' if they arrived after at least half of the party's guests. However, they must not be the very last guest (that's taking it too far). In the above example, Mona and Gilbert are the only guests who were fashionably late.\n",
    "\n",
    "Complete the function below which takes a list of party attendees as well as a person, and tells us whether that person is fashionably late."
   ]
  },
  {
   "cell_type": "code",
   "execution_count": 10,
   "id": "8fb3ced0",
   "metadata": {
    "execution": {
     "iopub.execute_input": "2024-10-01T07:50:34.385743Z",
     "iopub.status.busy": "2024-10-01T07:50:34.384960Z",
     "iopub.status.idle": "2024-10-01T07:50:34.399867Z",
     "shell.execute_reply": "2024-10-01T07:50:34.398368Z"
    },
    "papermill": {
     "duration": 0.025363,
     "end_time": "2024-10-01T07:50:34.402685",
     "exception": false,
     "start_time": "2024-10-01T07:50:34.377322",
     "status": "completed"
    },
    "tags": []
   },
   "outputs": [
    {
     "data": {
      "application/javascript": [
       "parent.postMessage({\"jupyterEvent\": \"custom.exercise_interaction\", \"data\": {\"outcomeType\": 1, \"valueTowardsCompletion\": 0.2, \"interactionType\": 1, \"questionType\": 2, \"questionId\": \"5_FashionablyLate\", \"learnToolsVersion\": \"0.3.4\", \"failureMessage\": \"\", \"exceptionClass\": \"\", \"trace\": \"\"}}, \"*\")"
      ],
      "text/plain": [
       "<IPython.core.display.Javascript object>"
      ]
     },
     "metadata": {},
     "output_type": "display_data"
    },
    {
     "data": {
      "text/markdown": [
       "<span style=\"color:#33cc33\">Correct</span>"
      ],
      "text/plain": [
       "Correct"
      ]
     },
     "metadata": {},
     "output_type": "display_data"
    }
   ],
   "source": [
    "def fashionably_late(arrivals, name):\n",
    "    \"\"\"Given an ordered list of arrivals to the party and a name, return whether the guest with that\n",
    "    name was fashionably late.\n",
    "    \"\"\"\n",
    "    \n",
    "    order = arrivals.index(name)\n",
    "    return order >= len(arrivals) / 2 and order != len(arrivals) - 1\n",
    "\n",
    "    # Get the index of the specified person\n",
    "    if name in arrivals:\n",
    "        person_index = arrivals.index(name)\n",
    "        \n",
    "        # Check if the person is fashionably late\n",
    "        if person_index >= half_guests_index and person_index < total_attendees - 1:\n",
    "            return True\n",
    "    \n",
    "    return False\n",
    "\n",
    "    # Example usage\n",
    "    party_attendees = ['Adela', 'Fleda', 'Owen', 'May', 'Mona', 'Gilbert', 'Ford']\n",
    "\n",
    "    # Test cases\n",
    "    print(fashionably_late(party_attendees, 'Mona'))    # Output: True\n",
    "    print(fashionably_late(party_attendees, 'Gilbert')) # Output: True\n",
    "    print(fashionably_late(party_attendees, 'Ford'))    # Output: False\n",
    "    print(fashionably_late(party_attendees, 'Adela'))   # Output: False\n",
    "    print(fashionably_late(party_attendees, 'May'))     # Output: False (corrected case)\n",
    "    \n",
    "    pass\n",
    "\n",
    "# Check your answer\n",
    "q5.check()"
   ]
  },
  {
   "cell_type": "code",
   "execution_count": 11,
   "id": "6006016a",
   "metadata": {
    "execution": {
     "iopub.execute_input": "2024-10-01T07:50:34.417500Z",
     "iopub.status.busy": "2024-10-01T07:50:34.416910Z",
     "iopub.status.idle": "2024-10-01T07:50:34.422717Z",
     "shell.execute_reply": "2024-10-01T07:50:34.421399Z"
    },
    "papermill": {
     "duration": 0.016631,
     "end_time": "2024-10-01T07:50:34.425826",
     "exception": false,
     "start_time": "2024-10-01T07:50:34.409195",
     "status": "completed"
    },
    "tags": []
   },
   "outputs": [],
   "source": [
    "#q5.hint()\n",
    "#q5.solution()"
   ]
  },
  {
   "cell_type": "markdown",
   "id": "098b9b7f",
   "metadata": {
    "papermill": {
     "duration": 0.00603,
     "end_time": "2024-10-01T07:50:34.438212",
     "exception": false,
     "start_time": "2024-10-01T07:50:34.432182",
     "status": "completed"
    },
    "tags": []
   },
   "source": [
    "# Keep Going\n",
    "\n",
    "That's it for lists and tuples! Now you have the baseline knowledge to **[learn about loops](https://www.kaggle.com/colinmorris/loops-and-list-comprehensions)**, which is where lists and tuples get really interesting. "
   ]
  },
  {
   "cell_type": "markdown",
   "id": "87db95d2",
   "metadata": {
    "papermill": {
     "duration": 0.00597,
     "end_time": "2024-10-01T07:50:34.450555",
     "exception": false,
     "start_time": "2024-10-01T07:50:34.444585",
     "status": "completed"
    },
    "tags": []
   },
   "source": [
    "---\n",
    "\n",
    "\n",
    "\n",
    "\n",
    "*Have questions or comments? Visit the [course discussion forum](https://www.kaggle.com/learn/python/discussion) to chat with other learners.*"
   ]
  }
 ],
 "metadata": {
  "kaggle": {
   "accelerator": "none",
   "dataSources": [],
   "isGpuEnabled": false,
   "isInternetEnabled": false,
   "language": "python",
   "sourceType": "notebook"
  },
  "kernelspec": {
   "display_name": "Python 3",
   "language": "python",
   "name": "python3"
  },
  "language_info": {
   "codemirror_mode": {
    "name": "ipython",
    "version": 3
   },
   "file_extension": ".py",
   "mimetype": "text/x-python",
   "name": "python",
   "nbconvert_exporter": "python",
   "pygments_lexer": "ipython3",
   "version": "3.10.14"
  },
  "learntools_metadata": {
   "lesson_index": 3,
   "type": "exercise"
  },
  "papermill": {
   "default_parameters": {},
   "duration": 5.116399,
   "end_time": "2024-10-01T07:50:34.978503",
   "environment_variables": {},
   "exception": null,
   "input_path": "__notebook__.ipynb",
   "output_path": "__notebook__.ipynb",
   "parameters": {},
   "start_time": "2024-10-01T07:50:29.862104",
   "version": "2.6.0"
  }
 },
 "nbformat": 4,
 "nbformat_minor": 5
}
