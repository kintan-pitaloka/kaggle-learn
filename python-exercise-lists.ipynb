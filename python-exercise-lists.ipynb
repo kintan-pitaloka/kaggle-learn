{
 "cells": [
  {
   "cell_type": "markdown",
   "id": "7e6309f0",
   "metadata": {
    "papermill": {
     "duration": 0.007827,
     "end_time": "2024-10-01T07:33:58.874303",
     "exception": false,
     "start_time": "2024-10-01T07:33:58.866476",
     "status": "completed"
    },
    "tags": []
   },
   "source": [
    "**This notebook is an exercise in the [Python](https://www.kaggle.com/learn/python) course.  You can reference the tutorial at [this link](https://www.kaggle.com/colinmorris/lists).**\n",
    "\n",
    "---\n"
   ]
  },
  {
   "cell_type": "markdown",
   "id": "e64e1c6f",
   "metadata": {
    "papermill": {
     "duration": 0.006937,
     "end_time": "2024-10-01T07:33:58.888670",
     "exception": false,
     "start_time": "2024-10-01T07:33:58.881733",
     "status": "completed"
    },
    "tags": []
   },
   "source": [
    "Things get more interesting with lists. You'll apply your new knowledge to solve the questions below. Remember to run the following cell first."
   ]
  },
  {
   "cell_type": "code",
   "execution_count": 1,
   "id": "de8918b9",
   "metadata": {
    "execution": {
     "iopub.execute_input": "2024-10-01T07:33:58.905059Z",
     "iopub.status.busy": "2024-10-01T07:33:58.904556Z",
     "iopub.status.idle": "2024-10-01T07:34:00.066420Z",
     "shell.execute_reply": "2024-10-01T07:34:00.064887Z"
    },
    "papermill": {
     "duration": 1.173546,
     "end_time": "2024-10-01T07:34:00.069522",
     "exception": false,
     "start_time": "2024-10-01T07:33:58.895976",
     "status": "completed"
    },
    "tags": []
   },
   "outputs": [
    {
     "name": "stdout",
     "output_type": "stream",
     "text": [
      "Setup complete.\n"
     ]
    }
   ],
   "source": [
    "from learntools.core import binder; binder.bind(globals())\n",
    "from learntools.python.ex4 import *\n",
    "print('Setup complete.')"
   ]
  },
  {
   "cell_type": "markdown",
   "id": "6d2e6e0e",
   "metadata": {
    "papermill": {
     "duration": 0.006689,
     "end_time": "2024-10-01T07:34:00.083398",
     "exception": false,
     "start_time": "2024-10-01T07:34:00.076709",
     "status": "completed"
    },
    "tags": []
   },
   "source": [
    "# 1.\n",
    "\n",
    "Complete the function below according to its docstring."
   ]
  },
  {
   "cell_type": "code",
   "execution_count": 2,
   "id": "e5dd5556",
   "metadata": {
    "execution": {
     "iopub.execute_input": "2024-10-01T07:34:00.099635Z",
     "iopub.status.busy": "2024-10-01T07:34:00.098859Z",
     "iopub.status.idle": "2024-10-01T07:34:00.113640Z",
     "shell.execute_reply": "2024-10-01T07:34:00.112303Z"
    },
    "papermill": {
     "duration": 0.026517,
     "end_time": "2024-10-01T07:34:00.116709",
     "exception": false,
     "start_time": "2024-10-01T07:34:00.090192",
     "status": "completed"
    },
    "tags": []
   },
   "outputs": [
    {
     "data": {
      "application/javascript": [
       "parent.postMessage({\"jupyterEvent\": \"custom.exercise_interaction\", \"data\": {\"outcomeType\": 1, \"valueTowardsCompletion\": 0.2, \"interactionType\": 1, \"questionType\": 2, \"questionId\": \"1_SelectSecondItem\", \"learnToolsVersion\": \"0.3.4\", \"failureMessage\": \"\", \"exceptionClass\": \"\", \"trace\": \"\"}}, \"*\")"
      ],
      "text/plain": [
       "<IPython.core.display.Javascript object>"
      ]
     },
     "metadata": {},
     "output_type": "display_data"
    },
    {
     "data": {
      "text/markdown": [
       "<span style=\"color:#33cc33\">Correct</span>"
      ],
      "text/plain": [
       "Correct"
      ]
     },
     "metadata": {},
     "output_type": "display_data"
    }
   ],
   "source": [
    "def select_second(L):\n",
    "    if len(L) < 2:\n",
    "        return None\n",
    "    return L[1]\n",
    "    \n",
    "    \"\"\"Return the second element of the given list. \n",
    "    If the list has no second\n",
    "    element, return None.\n",
    "    \"\"\"\n",
    "    pass\n",
    "\n",
    "# Check your answer\n",
    "q1.check()"
   ]
  },
  {
   "cell_type": "code",
   "execution_count": 3,
   "id": "c7f351bb",
   "metadata": {
    "execution": {
     "iopub.execute_input": "2024-10-01T07:34:00.134959Z",
     "iopub.status.busy": "2024-10-01T07:34:00.134443Z",
     "iopub.status.idle": "2024-10-01T07:34:00.140306Z",
     "shell.execute_reply": "2024-10-01T07:34:00.138749Z"
    },
    "papermill": {
     "duration": 0.019056,
     "end_time": "2024-10-01T07:34:00.143646",
     "exception": false,
     "start_time": "2024-10-01T07:34:00.124590",
     "status": "completed"
    },
    "tags": []
   },
   "outputs": [],
   "source": [
    "#q1.hint()\n",
    "#q1.solution()"
   ]
  },
  {
   "cell_type": "markdown",
   "id": "38d86eeb",
   "metadata": {
    "papermill": {
     "duration": 0.007295,
     "end_time": "2024-10-01T07:34:00.158462",
     "exception": false,
     "start_time": "2024-10-01T07:34:00.151167",
     "status": "completed"
    },
    "tags": []
   },
   "source": [
    "# 2.\n",
    "\n",
    "You are analyzing sports teams.  Members of each team are stored in a list. The Coach is the first name in the list, the captain is the second name in the list, and other players are listed after that. \n",
    "These lists are stored in another list, which starts with the best team and proceeds through the list to the worst team last.  Complete the function below to select the **captain** of the worst team."
   ]
  },
  {
   "cell_type": "code",
   "execution_count": 4,
   "id": "840b1745",
   "metadata": {
    "execution": {
     "iopub.execute_input": "2024-10-01T07:34:00.177347Z",
     "iopub.status.busy": "2024-10-01T07:34:00.175798Z",
     "iopub.status.idle": "2024-10-01T07:34:00.189496Z",
     "shell.execute_reply": "2024-10-01T07:34:00.188158Z"
    },
    "papermill": {
     "duration": 0.025981,
     "end_time": "2024-10-01T07:34:00.192323",
     "exception": false,
     "start_time": "2024-10-01T07:34:00.166342",
     "status": "completed"
    },
    "tags": []
   },
   "outputs": [
    {
     "data": {
      "application/javascript": [
       "parent.postMessage({\"jupyterEvent\": \"custom.exercise_interaction\", \"data\": {\"outcomeType\": 1, \"valueTowardsCompletion\": 0.2, \"interactionType\": 1, \"questionType\": 2, \"questionId\": \"1_SelectSecondItem\", \"learnToolsVersion\": \"0.3.4\", \"failureMessage\": \"\", \"exceptionClass\": \"\", \"trace\": \"\"}}, \"*\")"
      ],
      "text/plain": [
       "<IPython.core.display.Javascript object>"
      ]
     },
     "metadata": {},
     "output_type": "display_data"
    },
    {
     "data": {
      "text/markdown": [
       "<span style=\"color:#33cc33\">Correct</span>"
      ],
      "text/plain": [
       "Correct"
      ]
     },
     "metadata": {},
     "output_type": "display_data"
    }
   ],
   "source": [
    "def losing_team_captain(teams):\n",
    "    worst_team = teams[-1] #get the last name for name\n",
    "    return worst_team[1] #return the last capten\n",
    "\n",
    "    teams = [\n",
    "        [\"Kinkin\", \"Boby\", \"Alexa\"], # Best Team\n",
    "        [\"Eva\", \"June\", \"Ivy\"], # Second Best Team\n",
    "        [\"George\", \"Jiji\", \"Momo\"], # Worst Team\n",
    "    ]\n",
    "    \n",
    "    \n",
    "    captain = losing_team_captain(teams)\n",
    "    print(captain) \n",
    "    \n",
    "    pass\n",
    "\n",
    "# Check your answer\n",
    "q1.check()"
   ]
  },
  {
   "cell_type": "code",
   "execution_count": 5,
   "id": "722b1388",
   "metadata": {
    "execution": {
     "iopub.execute_input": "2024-10-01T07:34:00.212541Z",
     "iopub.status.busy": "2024-10-01T07:34:00.211038Z",
     "iopub.status.idle": "2024-10-01T07:34:00.217642Z",
     "shell.execute_reply": "2024-10-01T07:34:00.216047Z"
    },
    "papermill": {
     "duration": 0.019372,
     "end_time": "2024-10-01T07:34:00.220737",
     "exception": false,
     "start_time": "2024-10-01T07:34:00.201365",
     "status": "completed"
    },
    "tags": []
   },
   "outputs": [],
   "source": [
    "#q2.hint()\n",
    "#q2.solution()"
   ]
  },
  {
   "cell_type": "markdown",
   "id": "9c6f1a8c",
   "metadata": {
    "papermill": {
     "duration": 0.007848,
     "end_time": "2024-10-01T07:34:00.236804",
     "exception": false,
     "start_time": "2024-10-01T07:34:00.228956",
     "status": "completed"
    },
    "tags": []
   },
   "source": [
    "# 3.\n",
    "\n",
    "The next iteration of Mario Kart will feature an extra-infuriating new item, the *Purple Shell*. When used, it warps the last place racer into first place and the first place racer into last place. Complete the function below to implement the Purple Shell's effect."
   ]
  },
  {
   "cell_type": "code",
   "execution_count": 6,
   "id": "a14a50a8",
   "metadata": {
    "execution": {
     "iopub.execute_input": "2024-10-01T07:34:00.255108Z",
     "iopub.status.busy": "2024-10-01T07:34:00.254604Z",
     "iopub.status.idle": "2024-10-01T07:34:00.268860Z",
     "shell.execute_reply": "2024-10-01T07:34:00.267415Z"
    },
    "papermill": {
     "duration": 0.026712,
     "end_time": "2024-10-01T07:34:00.271811",
     "exception": false,
     "start_time": "2024-10-01T07:34:00.245099",
     "status": "completed"
    },
    "tags": []
   },
   "outputs": [
    {
     "name": "stdout",
     "output_type": "stream",
     "text": [
      "Eve\n",
      "Eve\n",
      "Eve\n"
     ]
    },
    {
     "data": {
      "application/javascript": [
       "parent.postMessage({\"jupyterEvent\": \"custom.exercise_interaction\", \"data\": {\"outcomeType\": 1, \"valueTowardsCompletion\": 0.2, \"interactionType\": 1, \"questionType\": 2, \"questionId\": \"3_PurpleShell\", \"learnToolsVersion\": \"0.3.4\", \"failureMessage\": \"\", \"exceptionClass\": \"\", \"trace\": \"\"}}, \"*\")"
      ],
      "text/plain": [
       "<IPython.core.display.Javascript object>"
      ]
     },
     "metadata": {},
     "output_type": "display_data"
    },
    {
     "data": {
      "text/markdown": [
       "<span style=\"color:#33cc33\">Correct</span>"
      ],
      "text/plain": [
       "Correct"
      ]
     },
     "metadata": {},
     "output_type": "display_data"
    }
   ],
   "source": [
    "def purple_shell(racers):\n",
    "    # One slick way to do the swap is x[0], x[-1] = x[-1], x[0].\n",
    "    temp = racers[0]\n",
    "    racers[0] = racers[-1]\n",
    "    racers[-1] = temp\n",
    "\n",
    "    # Example usage\n",
    "    teams = [\n",
    "        [\"Team A\", \"Alice\", \"Bob\"],   # First team\n",
    "        [\"Team B\", \"Charlie\", \"David\"],  # Second team\n",
    "        [\"Team C\", \"Eve\", \"Frank\"]     # Last team\n",
    "    ]\n",
    "\n",
    "    captain = losing_team_captain(teams)\n",
    "    print(captain)  # Output: 'Frank'\n",
    "    \n",
    "pass\n",
    "\n",
    "# Check your answer\n",
    "q3.check()"
   ]
  },
  {
   "cell_type": "code",
   "execution_count": 7,
   "id": "c3830212",
   "metadata": {
    "execution": {
     "iopub.execute_input": "2024-10-01T07:34:00.290517Z",
     "iopub.status.busy": "2024-10-01T07:34:00.290064Z",
     "iopub.status.idle": "2024-10-01T07:34:00.295336Z",
     "shell.execute_reply": "2024-10-01T07:34:00.293993Z"
    },
    "papermill": {
     "duration": 0.017632,
     "end_time": "2024-10-01T07:34:00.298058",
     "exception": false,
     "start_time": "2024-10-01T07:34:00.280426",
     "status": "completed"
    },
    "tags": []
   },
   "outputs": [],
   "source": [
    "#q3.hint()\n",
    "#q3.solution()"
   ]
  },
  {
   "cell_type": "markdown",
   "id": "2d02c79f",
   "metadata": {
    "papermill": {
     "duration": 0.008117,
     "end_time": "2024-10-01T07:34:00.315236",
     "exception": false,
     "start_time": "2024-10-01T07:34:00.307119",
     "status": "completed"
    },
    "tags": []
   },
   "source": [
    "# 4.\n",
    "\n",
    "What are the lengths of the following lists? Fill in the variable `lengths` with your predictions. (Try to make a prediction for each list *without* just calling `len()` on it.)"
   ]
  },
  {
   "cell_type": "code",
   "execution_count": 8,
   "id": "d9d1ccee",
   "metadata": {
    "execution": {
     "iopub.execute_input": "2024-10-01T07:34:00.334728Z",
     "iopub.status.busy": "2024-10-01T07:34:00.334276Z",
     "iopub.status.idle": "2024-10-01T07:34:00.345644Z",
     "shell.execute_reply": "2024-10-01T07:34:00.344472Z"
    },
    "papermill": {
     "duration": 0.024787,
     "end_time": "2024-10-01T07:34:00.348357",
     "exception": false,
     "start_time": "2024-10-01T07:34:00.323570",
     "status": "completed"
    },
    "tags": []
   },
   "outputs": [
    {
     "data": {
      "application/javascript": [
       "parent.postMessage({\"jupyterEvent\": \"custom.exercise_interaction\", \"data\": {\"outcomeType\": 1, \"valueTowardsCompletion\": 0.2, \"interactionType\": 1, \"questionType\": 1, \"questionId\": \"4_UnderstandLen\", \"learnToolsVersion\": \"0.3.4\", \"failureMessage\": \"\", \"exceptionClass\": \"\", \"trace\": \"\"}}, \"*\")"
      ],
      "text/plain": [
       "<IPython.core.display.Javascript object>"
      ]
     },
     "metadata": {},
     "output_type": "display_data"
    },
    {
     "data": {
      "text/markdown": [
       "<span style=\"color:#33cc33\">Correct:</span> \n",
       "\n",
       "\n",
       "- a: There are three items in this list. Nothing tricky yet.\n",
       "- b: The list `[2, 3]` counts as a single item. It has one item before it. So we have 2 items in the list\n",
       "- c: The empty list has 0 items\n",
       "- d: The expression is the same as the list `[2, 3]`, which has length 2."
      ],
      "text/plain": [
       "Correct: \n",
       "\n",
       "\n",
       "- a: There are three items in this list. Nothing tricky yet.\n",
       "- b: The list `[2, 3]` counts as a single item. It has one item before it. So we have 2 items in the list\n",
       "- c: The empty list has 0 items\n",
       "- d: The expression is the same as the list `[2, 3]`, which has length 2."
      ]
     },
     "metadata": {},
     "output_type": "display_data"
    }
   ],
   "source": [
    "a = [1, 2, 3]\n",
    "b = [1, [2, 3]]\n",
    "c = []\n",
    "d = [1, 2, 3][1:]\n",
    "\n",
    "# Put your predictions in the list below. Lengths should contain 4 numbers, the\n",
    "# first being the length of a, the second being the length of b and so on.\n",
    "lengths = [3, 2, 0, 2]\n",
    "\n",
    "# Check your answer\n",
    "q4.check()"
   ]
  },
  {
   "cell_type": "code",
   "execution_count": 9,
   "id": "3a194055",
   "metadata": {
    "execution": {
     "iopub.execute_input": "2024-10-01T07:34:00.367795Z",
     "iopub.status.busy": "2024-10-01T07:34:00.367349Z",
     "iopub.status.idle": "2024-10-01T07:34:00.372427Z",
     "shell.execute_reply": "2024-10-01T07:34:00.371280Z"
    },
    "papermill": {
     "duration": 0.017906,
     "end_time": "2024-10-01T07:34:00.375147",
     "exception": false,
     "start_time": "2024-10-01T07:34:00.357241",
     "status": "completed"
    },
    "tags": []
   },
   "outputs": [],
   "source": [
    "# line below provides some explanation\n",
    "#q4.solution()"
   ]
  },
  {
   "cell_type": "markdown",
   "id": "49c496a8",
   "metadata": {
    "papermill": {
     "duration": 0.00842,
     "end_time": "2024-10-01T07:34:00.392335",
     "exception": false,
     "start_time": "2024-10-01T07:34:00.383915",
     "status": "completed"
    },
    "tags": []
   },
   "source": [
    "# 5. <span title=\"A bit spicy\" style=\"color: darkgreen \">🌶️</span>\n",
    "\n",
    "We're using lists to record people who attended our party and what order they arrived in. For example, the following list represents a party with 7 guests, in which Adela showed up first and Ford was the last to arrive:\n",
    "\n",
    "    party_attendees = ['Adela', 'Fleda', 'Owen', 'May', 'Mona', 'Gilbert', 'Ford']\n",
    "\n",
    "A guest is considered 'fashionably late' if they arrived after at least half of the party's guests. However, they must not be the very last guest (that's taking it too far). In the above example, Mona and Gilbert are the only guests who were fashionably late.\n",
    "\n",
    "Complete the function below which takes a list of party attendees as well as a person, and tells us whether that person is fashionably late."
   ]
  },
  {
   "cell_type": "code",
   "execution_count": 10,
   "id": "781f0e78",
   "metadata": {
    "execution": {
     "iopub.execute_input": "2024-10-01T07:34:00.411787Z",
     "iopub.status.busy": "2024-10-01T07:34:00.411357Z",
     "iopub.status.idle": "2024-10-01T07:34:00.426046Z",
     "shell.execute_reply": "2024-10-01T07:34:00.424574Z"
    },
    "papermill": {
     "duration": 0.027577,
     "end_time": "2024-10-01T07:34:00.428693",
     "exception": false,
     "start_time": "2024-10-01T07:34:00.401116",
     "status": "completed"
    },
    "tags": []
   },
   "outputs": [
    {
     "data": {
      "application/javascript": [
       "parent.postMessage({\"jupyterEvent\": \"custom.exercise_interaction\", \"data\": {\"outcomeType\": 1, \"valueTowardsCompletion\": 0.2, \"interactionType\": 1, \"questionType\": 2, \"questionId\": \"5_FashionablyLate\", \"learnToolsVersion\": \"0.3.4\", \"failureMessage\": \"\", \"exceptionClass\": \"\", \"trace\": \"\"}}, \"*\")"
      ],
      "text/plain": [
       "<IPython.core.display.Javascript object>"
      ]
     },
     "metadata": {},
     "output_type": "display_data"
    },
    {
     "data": {
      "text/markdown": [
       "<span style=\"color:#33cc33\">Correct</span>"
      ],
      "text/plain": [
       "Correct"
      ]
     },
     "metadata": {},
     "output_type": "display_data"
    }
   ],
   "source": [
    "def fashionably_late(arrivals, name):\n",
    "    \"\"\"Given an ordered list of arrivals to the party and a name, return whether the guest with that\n",
    "    name was fashionably late.\n",
    "    \"\"\"\n",
    "    \n",
    "    order = arrivals.index(name)\n",
    "    return order >= len(arrivals) / 2 and order != len(arrivals) - 1\n",
    "\n",
    "    # Get the index of the specified person\n",
    "    if name in arrivals:\n",
    "        person_index = arrivals.index(name)\n",
    "        \n",
    "        # Check if the person is fashionably late\n",
    "        if person_index >= half_guests_index and person_index < total_attendees - 1:\n",
    "            return True\n",
    "    \n",
    "    return False\n",
    "\n",
    "    # Example usage\n",
    "    party_attendees = ['Adela', 'Fleda', 'Owen', 'May', 'Mona', 'Gilbert', 'Ford']\n",
    "\n",
    "    # Test cases\n",
    "    print(fashionably_late(party_attendees, 'Mona'))    # Output: True\n",
    "    print(fashionably_late(party_attendees, 'Gilbert')) # Output: True\n",
    "    print(fashionably_late(party_attendees, 'Ford'))    # Output: False\n",
    "    print(fashionably_late(party_attendees, 'Adela'))   # Output: False\n",
    "    print(fashionably_late(party_attendees, 'May'))     # Output: False (corrected case)\n",
    "    \n",
    "    pass\n",
    "\n",
    "# Check your answer\n",
    "q5.check()"
   ]
  },
  {
   "cell_type": "code",
   "execution_count": 11,
   "id": "820d02b9",
   "metadata": {
    "execution": {
     "iopub.execute_input": "2024-10-01T07:34:00.448392Z",
     "iopub.status.busy": "2024-10-01T07:34:00.447951Z",
     "iopub.status.idle": "2024-10-01T07:34:00.458562Z",
     "shell.execute_reply": "2024-10-01T07:34:00.457311Z"
    },
    "papermill": {
     "duration": 0.023512,
     "end_time": "2024-10-01T07:34:00.461192",
     "exception": false,
     "start_time": "2024-10-01T07:34:00.437680",
     "status": "completed"
    },
    "tags": []
   },
   "outputs": [
    {
     "data": {
      "application/javascript": [
       "parent.postMessage({\"jupyterEvent\": \"custom.exercise_interaction\", \"data\": {\"interactionType\": 3, \"questionType\": 2, \"questionId\": \"5_FashionablyLate\", \"learnToolsVersion\": \"0.3.4\", \"valueTowardsCompletion\": 0.0, \"failureMessage\": \"\", \"exceptionClass\": \"\", \"trace\": \"\", \"outcomeType\": 4}}, \"*\")"
      ],
      "text/plain": [
       "<IPython.core.display.Javascript object>"
      ]
     },
     "metadata": {},
     "output_type": "display_data"
    },
    {
     "data": {
      "text/markdown": [
       "<span style=\"color:#33cc99\">Solution:</span> \n",
       "```python\n",
       "def fashionably_late(arrivals, name):\n",
       "    order = arrivals.index(name)\n",
       "    return order >= len(arrivals) / 2 and order != len(arrivals) - 1\n",
       "```"
      ],
      "text/plain": [
       "Solution: \n",
       "```python\n",
       "def fashionably_late(arrivals, name):\n",
       "    order = arrivals.index(name)\n",
       "    return order >= len(arrivals) / 2 and order != len(arrivals) - 1\n",
       "```"
      ]
     },
     "metadata": {},
     "output_type": "display_data"
    }
   ],
   "source": [
    "#q5.hint()\n",
    "q5.solution()"
   ]
  },
  {
   "cell_type": "markdown",
   "id": "33e1fe23",
   "metadata": {
    "papermill": {
     "duration": 0.008857,
     "end_time": "2024-10-01T07:34:00.479303",
     "exception": false,
     "start_time": "2024-10-01T07:34:00.470446",
     "status": "completed"
    },
    "tags": []
   },
   "source": [
    "# Keep Going\n",
    "\n",
    "That's it for lists and tuples! Now you have the baseline knowledge to **[learn about loops](https://www.kaggle.com/colinmorris/loops-and-list-comprehensions)**, which is where lists and tuples get really interesting. "
   ]
  },
  {
   "cell_type": "markdown",
   "id": "c2e55e81",
   "metadata": {
    "papermill": {
     "duration": 0.008774,
     "end_time": "2024-10-01T07:34:00.497365",
     "exception": false,
     "start_time": "2024-10-01T07:34:00.488591",
     "status": "completed"
    },
    "tags": []
   },
   "source": [
    "---\n",
    "\n",
    "\n",
    "\n",
    "\n",
    "*Have questions or comments? Visit the [course discussion forum](https://www.kaggle.com/learn/python/discussion) to chat with other learners.*"
   ]
  },
  {
   "cell_type": "code",
   "execution_count": null,
   "id": "0f80e9d3",
   "metadata": {
    "papermill": {
     "duration": 0.008867,
     "end_time": "2024-10-01T07:34:00.515564",
     "exception": false,
     "start_time": "2024-10-01T07:34:00.506697",
     "status": "completed"
    },
    "tags": []
   },
   "outputs": [],
   "source": []
  }
 ],
 "metadata": {
  "kaggle": {
   "accelerator": "none",
   "dataSources": [],
   "isGpuEnabled": false,
   "isInternetEnabled": false,
   "language": "python",
   "sourceType": "notebook"
  },
  "kernelspec": {
   "display_name": "Python 3",
   "language": "python",
   "name": "python3"
  },
  "language_info": {
   "codemirror_mode": {
    "name": "ipython",
    "version": 3
   },
   "file_extension": ".py",
   "mimetype": "text/x-python",
   "name": "python",
   "nbconvert_exporter": "python",
   "pygments_lexer": "ipython3",
   "version": "3.10.14"
  },
  "learntools_metadata": {
   "lesson_index": 3,
   "type": "exercise"
  },
  "papermill": {
   "default_parameters": {},
   "duration": 5.476203,
   "end_time": "2024-10-01T07:34:01.048498",
   "environment_variables": {},
   "exception": null,
   "input_path": "__notebook__.ipynb",
   "output_path": "__notebook__.ipynb",
   "parameters": {},
   "start_time": "2024-10-01T07:33:55.572295",
   "version": "2.6.0"
  }
 },
 "nbformat": 4,
 "nbformat_minor": 5
}
