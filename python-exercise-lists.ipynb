{
 "cells": [
  {
   "cell_type": "markdown",
   "id": "0ecb78f1",
   "metadata": {
    "papermill": {
     "duration": 0.005291,
     "end_time": "2024-10-01T07:46:34.319330",
     "exception": false,
     "start_time": "2024-10-01T07:46:34.314039",
     "status": "completed"
    },
    "tags": []
   },
   "source": [
    "**This notebook is an exercise in the [Python](https://www.kaggle.com/learn/python) course.  You can reference the tutorial at [this link](https://www.kaggle.com/colinmorris/lists).**\n",
    "\n",
    "---\n"
   ]
  },
  {
   "cell_type": "markdown",
   "id": "970294e9",
   "metadata": {
    "papermill": {
     "duration": 0.004246,
     "end_time": "2024-10-01T07:46:34.328293",
     "exception": false,
     "start_time": "2024-10-01T07:46:34.324047",
     "status": "completed"
    },
    "tags": []
   },
   "source": [
    "Things get more interesting with lists. You'll apply your new knowledge to solve the questions below. Remember to run the following cell first."
   ]
  },
  {
   "cell_type": "code",
   "execution_count": 1,
   "id": "c2721f79",
   "metadata": {
    "execution": {
     "iopub.execute_input": "2024-10-01T07:46:34.339441Z",
     "iopub.status.busy": "2024-10-01T07:46:34.339079Z",
     "iopub.status.idle": "2024-10-01T07:46:35.044918Z",
     "shell.execute_reply": "2024-10-01T07:46:35.043701Z"
    },
    "papermill": {
     "duration": 0.715108,
     "end_time": "2024-10-01T07:46:35.047829",
     "exception": false,
     "start_time": "2024-10-01T07:46:34.332721",
     "status": "completed"
    },
    "tags": []
   },
   "outputs": [
    {
     "name": "stdout",
     "output_type": "stream",
     "text": [
      "Setup complete.\n"
     ]
    }
   ],
   "source": [
    "from learntools.core import binder; binder.bind(globals())\n",
    "from learntools.python.ex4 import *\n",
    "print('Setup complete.')"
   ]
  },
  {
   "cell_type": "markdown",
   "id": "d334935c",
   "metadata": {
    "papermill": {
     "duration": 0.004415,
     "end_time": "2024-10-01T07:46:35.057167",
     "exception": false,
     "start_time": "2024-10-01T07:46:35.052752",
     "status": "completed"
    },
    "tags": []
   },
   "source": [
    "# 1.\n",
    "\n",
    "Complete the function below according to its docstring."
   ]
  },
  {
   "cell_type": "code",
   "execution_count": 2,
   "id": "4cf3213b",
   "metadata": {
    "execution": {
     "iopub.execute_input": "2024-10-01T07:46:35.068031Z",
     "iopub.status.busy": "2024-10-01T07:46:35.067259Z",
     "iopub.status.idle": "2024-10-01T07:46:35.076772Z",
     "shell.execute_reply": "2024-10-01T07:46:35.075905Z"
    },
    "papermill": {
     "duration": 0.017083,
     "end_time": "2024-10-01T07:46:35.078735",
     "exception": false,
     "start_time": "2024-10-01T07:46:35.061652",
     "status": "completed"
    },
    "tags": []
   },
   "outputs": [
    {
     "data": {
      "application/javascript": [
       "parent.postMessage({\"jupyterEvent\": \"custom.exercise_interaction\", \"data\": {\"outcomeType\": 1, \"valueTowardsCompletion\": 0.2, \"interactionType\": 1, \"questionType\": 2, \"questionId\": \"1_SelectSecondItem\", \"learnToolsVersion\": \"0.3.4\", \"failureMessage\": \"\", \"exceptionClass\": \"\", \"trace\": \"\"}}, \"*\")"
      ],
      "text/plain": [
       "<IPython.core.display.Javascript object>"
      ]
     },
     "metadata": {},
     "output_type": "display_data"
    },
    {
     "data": {
      "text/markdown": [
       "<span style=\"color:#33cc33\">Correct</span>"
      ],
      "text/plain": [
       "Correct"
      ]
     },
     "metadata": {},
     "output_type": "display_data"
    }
   ],
   "source": [
    "def select_second(L):\n",
    "    if len(L) < 2:\n",
    "        return None\n",
    "    return L[1]\n",
    "    \n",
    "    if len(L) < 2:\n",
    "        return None\n",
    "    \n",
    "    return L[1]\n",
    "pass\n",
    "\n",
    "# Check your answer\n",
    "q1.check()"
   ]
  },
  {
   "cell_type": "code",
   "execution_count": 3,
   "id": "d6f22d6c",
   "metadata": {
    "execution": {
     "iopub.execute_input": "2024-10-01T07:46:35.089747Z",
     "iopub.status.busy": "2024-10-01T07:46:35.089168Z",
     "iopub.status.idle": "2024-10-01T07:46:35.092680Z",
     "shell.execute_reply": "2024-10-01T07:46:35.091846Z"
    },
    "papermill": {
     "duration": 0.010952,
     "end_time": "2024-10-01T07:46:35.094524",
     "exception": false,
     "start_time": "2024-10-01T07:46:35.083572",
     "status": "completed"
    },
    "tags": []
   },
   "outputs": [],
   "source": [
    "#q1.hint()\n",
    "#q1.solution()"
   ]
  },
  {
   "cell_type": "markdown",
   "id": "c5c708ad",
   "metadata": {
    "papermill": {
     "duration": 0.004598,
     "end_time": "2024-10-01T07:46:35.103866",
     "exception": false,
     "start_time": "2024-10-01T07:46:35.099268",
     "status": "completed"
    },
    "tags": []
   },
   "source": [
    "# 2.\n",
    "\n",
    "You are analyzing sports teams.  Members of each team are stored in a list. The Coach is the first name in the list, the captain is the second name in the list, and other players are listed after that. \n",
    "These lists are stored in another list, which starts with the best team and proceeds through the list to the worst team last.  Complete the function below to select the **captain** of the worst team."
   ]
  },
  {
   "cell_type": "code",
   "execution_count": 4,
   "id": "b752d15b",
   "metadata": {
    "execution": {
     "iopub.execute_input": "2024-10-01T07:46:35.114638Z",
     "iopub.status.busy": "2024-10-01T07:46:35.114098Z",
     "iopub.status.idle": "2024-10-01T07:46:35.122205Z",
     "shell.execute_reply": "2024-10-01T07:46:35.121372Z"
    },
    "papermill": {
     "duration": 0.015502,
     "end_time": "2024-10-01T07:46:35.124094",
     "exception": false,
     "start_time": "2024-10-01T07:46:35.108592",
     "status": "completed"
    },
    "tags": []
   },
   "outputs": [
    {
     "data": {
      "application/javascript": [
       "parent.postMessage({\"jupyterEvent\": \"custom.exercise_interaction\", \"data\": {\"outcomeType\": 1, \"valueTowardsCompletion\": 0.2, \"interactionType\": 1, \"questionType\": 2, \"questionId\": \"1_SelectSecondItem\", \"learnToolsVersion\": \"0.3.4\", \"failureMessage\": \"\", \"exceptionClass\": \"\", \"trace\": \"\"}}, \"*\")"
      ],
      "text/plain": [
       "<IPython.core.display.Javascript object>"
      ]
     },
     "metadata": {},
     "output_type": "display_data"
    },
    {
     "data": {
      "text/markdown": [
       "<span style=\"color:#33cc33\">Correct</span>"
      ],
      "text/plain": [
       "Correct"
      ]
     },
     "metadata": {},
     "output_type": "display_data"
    }
   ],
   "source": [
    "def losing_team_captain(teams):\n",
    "    worst_team = teams[-1] #get the last name for name\n",
    "    return worst_team[1] #return the last capten\n",
    "\n",
    "    teams = [\n",
    "        [\"Kinkin\", \"Boby\", \"Alexa\"], # Best Team\n",
    "        [\"Eva\", \"June\", \"Ivy\"], # Second Best Team\n",
    "        [\"George\", \"Jiji\", \"Momo\"], # Worst Team\n",
    "    ]\n",
    "    \n",
    "    \n",
    "    captain = losing_team_captain(teams)\n",
    "    print(captain) \n",
    "    \n",
    "    pass\n",
    "\n",
    "# Check your answer\n",
    "q1.check()"
   ]
  },
  {
   "cell_type": "code",
   "execution_count": 5,
   "id": "af3d56c9",
   "metadata": {
    "execution": {
     "iopub.execute_input": "2024-10-01T07:46:35.136928Z",
     "iopub.status.busy": "2024-10-01T07:46:35.136176Z",
     "iopub.status.idle": "2024-10-01T07:46:35.139664Z",
     "shell.execute_reply": "2024-10-01T07:46:35.138954Z"
    },
    "papermill": {
     "duration": 0.011719,
     "end_time": "2024-10-01T07:46:35.141578",
     "exception": false,
     "start_time": "2024-10-01T07:46:35.129859",
     "status": "completed"
    },
    "tags": []
   },
   "outputs": [],
   "source": [
    "#q2.hint()\n",
    "#q2.solution()"
   ]
  },
  {
   "cell_type": "markdown",
   "id": "ba612e7b",
   "metadata": {
    "papermill": {
     "duration": 0.004776,
     "end_time": "2024-10-01T07:46:35.151347",
     "exception": false,
     "start_time": "2024-10-01T07:46:35.146571",
     "status": "completed"
    },
    "tags": []
   },
   "source": [
    "# 3.\n",
    "\n",
    "The next iteration of Mario Kart will feature an extra-infuriating new item, the *Purple Shell*. When used, it warps the last place racer into first place and the first place racer into last place. Complete the function below to implement the Purple Shell's effect."
   ]
  },
  {
   "cell_type": "code",
   "execution_count": 6,
   "id": "58a09cd8",
   "metadata": {
    "execution": {
     "iopub.execute_input": "2024-10-01T07:46:35.162721Z",
     "iopub.status.busy": "2024-10-01T07:46:35.161996Z",
     "iopub.status.idle": "2024-10-01T07:46:35.171637Z",
     "shell.execute_reply": "2024-10-01T07:46:35.170798Z"
    },
    "papermill": {
     "duration": 0.017241,
     "end_time": "2024-10-01T07:46:35.173524",
     "exception": false,
     "start_time": "2024-10-01T07:46:35.156283",
     "status": "completed"
    },
    "tags": []
   },
   "outputs": [
    {
     "name": "stdout",
     "output_type": "stream",
     "text": [
      "Eve\n",
      "Eve\n",
      "Eve\n"
     ]
    },
    {
     "data": {
      "application/javascript": [
       "parent.postMessage({\"jupyterEvent\": \"custom.exercise_interaction\", \"data\": {\"outcomeType\": 1, \"valueTowardsCompletion\": 0.2, \"interactionType\": 1, \"questionType\": 2, \"questionId\": \"3_PurpleShell\", \"learnToolsVersion\": \"0.3.4\", \"failureMessage\": \"\", \"exceptionClass\": \"\", \"trace\": \"\"}}, \"*\")"
      ],
      "text/plain": [
       "<IPython.core.display.Javascript object>"
      ]
     },
     "metadata": {},
     "output_type": "display_data"
    },
    {
     "data": {
      "text/markdown": [
       "<span style=\"color:#33cc33\">Correct</span>"
      ],
      "text/plain": [
       "Correct"
      ]
     },
     "metadata": {},
     "output_type": "display_data"
    }
   ],
   "source": [
    "def purple_shell(racers):\n",
    "    # One slick way to do the swap is x[0], x[-1] = x[-1], x[0].\n",
    "    temp = racers[0]\n",
    "    racers[0] = racers[-1]\n",
    "    racers[-1] = temp\n",
    "\n",
    "    # Example usage\n",
    "    teams = [\n",
    "        [\"Team A\", \"Alice\", \"Bob\"],   # First team\n",
    "        [\"Team B\", \"Charlie\", \"David\"],  # Second team\n",
    "        [\"Team C\", \"Eve\", \"Frank\"]     # Last team\n",
    "    ]\n",
    "\n",
    "    captain = losing_team_captain(teams)\n",
    "    print(captain)  # Output: 'Frank'\n",
    "    \n",
    "pass\n",
    "\n",
    "# Check your answer\n",
    "q3.check()"
   ]
  },
  {
   "cell_type": "code",
   "execution_count": 7,
   "id": "d7740c5d",
   "metadata": {
    "execution": {
     "iopub.execute_input": "2024-10-01T07:46:35.185394Z",
     "iopub.status.busy": "2024-10-01T07:46:35.184858Z",
     "iopub.status.idle": "2024-10-01T07:46:35.188289Z",
     "shell.execute_reply": "2024-10-01T07:46:35.187411Z"
    },
    "papermill": {
     "duration": 0.011267,
     "end_time": "2024-10-01T07:46:35.190121",
     "exception": false,
     "start_time": "2024-10-01T07:46:35.178854",
     "status": "completed"
    },
    "tags": []
   },
   "outputs": [],
   "source": [
    "#q3.hint()\n",
    "#q3.solution()"
   ]
  },
  {
   "cell_type": "markdown",
   "id": "645325ee",
   "metadata": {
    "papermill": {
     "duration": 0.005034,
     "end_time": "2024-10-01T07:46:35.200365",
     "exception": false,
     "start_time": "2024-10-01T07:46:35.195331",
     "status": "completed"
    },
    "tags": []
   },
   "source": [
    "# 4.\n",
    "\n",
    "What are the lengths of the following lists? Fill in the variable `lengths` with your predictions. (Try to make a prediction for each list *without* just calling `len()` on it.)"
   ]
  },
  {
   "cell_type": "code",
   "execution_count": 8,
   "id": "0d27f570",
   "metadata": {
    "execution": {
     "iopub.execute_input": "2024-10-01T07:46:35.212162Z",
     "iopub.status.busy": "2024-10-01T07:46:35.211698Z",
     "iopub.status.idle": "2024-10-01T07:46:35.219606Z",
     "shell.execute_reply": "2024-10-01T07:46:35.218770Z"
    },
    "papermill": {
     "duration": 0.01587,
     "end_time": "2024-10-01T07:46:35.221453",
     "exception": false,
     "start_time": "2024-10-01T07:46:35.205583",
     "status": "completed"
    },
    "tags": []
   },
   "outputs": [
    {
     "data": {
      "application/javascript": [
       "parent.postMessage({\"jupyterEvent\": \"custom.exercise_interaction\", \"data\": {\"outcomeType\": 1, \"valueTowardsCompletion\": 0.2, \"interactionType\": 1, \"questionType\": 1, \"questionId\": \"4_UnderstandLen\", \"learnToolsVersion\": \"0.3.4\", \"failureMessage\": \"\", \"exceptionClass\": \"\", \"trace\": \"\"}}, \"*\")"
      ],
      "text/plain": [
       "<IPython.core.display.Javascript object>"
      ]
     },
     "metadata": {},
     "output_type": "display_data"
    },
    {
     "data": {
      "text/markdown": [
       "<span style=\"color:#33cc33\">Correct:</span> \n",
       "\n",
       "\n",
       "- a: There are three items in this list. Nothing tricky yet.\n",
       "- b: The list `[2, 3]` counts as a single item. It has one item before it. So we have 2 items in the list\n",
       "- c: The empty list has 0 items\n",
       "- d: The expression is the same as the list `[2, 3]`, which has length 2."
      ],
      "text/plain": [
       "Correct: \n",
       "\n",
       "\n",
       "- a: There are three items in this list. Nothing tricky yet.\n",
       "- b: The list `[2, 3]` counts as a single item. It has one item before it. So we have 2 items in the list\n",
       "- c: The empty list has 0 items\n",
       "- d: The expression is the same as the list `[2, 3]`, which has length 2."
      ]
     },
     "metadata": {},
     "output_type": "display_data"
    }
   ],
   "source": [
    "a = [1, 2, 3]\n",
    "b = [1, [2, 3]]\n",
    "c = []\n",
    "d = [1, 2, 3][1:]\n",
    "\n",
    "# Put your predictions in the list below. Lengths should contain 4 numbers, the\n",
    "# first being the length of a, the second being the length of b and so on.\n",
    "lengths = [3, 2, 0, 2]\n",
    "\n",
    "# Check your answer\n",
    "q4.check()"
   ]
  },
  {
   "cell_type": "code",
   "execution_count": 9,
   "id": "543bd62e",
   "metadata": {
    "execution": {
     "iopub.execute_input": "2024-10-01T07:46:35.233916Z",
     "iopub.status.busy": "2024-10-01T07:46:35.233259Z",
     "iopub.status.idle": "2024-10-01T07:46:35.236901Z",
     "shell.execute_reply": "2024-10-01T07:46:35.235951Z"
    },
    "papermill": {
     "duration": 0.011789,
     "end_time": "2024-10-01T07:46:35.238750",
     "exception": false,
     "start_time": "2024-10-01T07:46:35.226961",
     "status": "completed"
    },
    "tags": []
   },
   "outputs": [],
   "source": [
    "# line below provides some explanation\n",
    "#q4.solution()"
   ]
  },
  {
   "cell_type": "markdown",
   "id": "1c9e2671",
   "metadata": {
    "papermill": {
     "duration": 0.005239,
     "end_time": "2024-10-01T07:46:35.249522",
     "exception": false,
     "start_time": "2024-10-01T07:46:35.244283",
     "status": "completed"
    },
    "tags": []
   },
   "source": [
    "# 5. <span title=\"A bit spicy\" style=\"color: darkgreen \">🌶️</span>\n",
    "\n",
    "We're using lists to record people who attended our party and what order they arrived in. For example, the following list represents a party with 7 guests, in which Adela showed up first and Ford was the last to arrive:\n",
    "\n",
    "    party_attendees = ['Adela', 'Fleda', 'Owen', 'May', 'Mona', 'Gilbert', 'Ford']\n",
    "\n",
    "A guest is considered 'fashionably late' if they arrived after at least half of the party's guests. However, they must not be the very last guest (that's taking it too far). In the above example, Mona and Gilbert are the only guests who were fashionably late.\n",
    "\n",
    "Complete the function below which takes a list of party attendees as well as a person, and tells us whether that person is fashionably late."
   ]
  },
  {
   "cell_type": "code",
   "execution_count": 10,
   "id": "89cc347b",
   "metadata": {
    "execution": {
     "iopub.execute_input": "2024-10-01T07:46:35.261601Z",
     "iopub.status.busy": "2024-10-01T07:46:35.261335Z",
     "iopub.status.idle": "2024-10-01T07:46:35.271447Z",
     "shell.execute_reply": "2024-10-01T07:46:35.270599Z"
    },
    "papermill": {
     "duration": 0.018169,
     "end_time": "2024-10-01T07:46:35.273273",
     "exception": false,
     "start_time": "2024-10-01T07:46:35.255104",
     "status": "completed"
    },
    "tags": []
   },
   "outputs": [
    {
     "data": {
      "application/javascript": [
       "parent.postMessage({\"jupyterEvent\": \"custom.exercise_interaction\", \"data\": {\"outcomeType\": 1, \"valueTowardsCompletion\": 0.2, \"interactionType\": 1, \"questionType\": 2, \"questionId\": \"5_FashionablyLate\", \"learnToolsVersion\": \"0.3.4\", \"failureMessage\": \"\", \"exceptionClass\": \"\", \"trace\": \"\"}}, \"*\")"
      ],
      "text/plain": [
       "<IPython.core.display.Javascript object>"
      ]
     },
     "metadata": {},
     "output_type": "display_data"
    },
    {
     "data": {
      "text/markdown": [
       "<span style=\"color:#33cc33\">Correct</span>"
      ],
      "text/plain": [
       "Correct"
      ]
     },
     "metadata": {},
     "output_type": "display_data"
    }
   ],
   "source": [
    "def fashionably_late(arrivals, name):\n",
    "    \"\"\"Given an ordered list of arrivals to the party and a name, return whether the guest with that\n",
    "    name was fashionably late.\n",
    "    \"\"\"\n",
    "    \n",
    "    order = arrivals.index(name)\n",
    "    return order >= len(arrivals) / 2 and order != len(arrivals) - 1\n",
    "\n",
    "    # Get the index of the specified person\n",
    "    if name in arrivals:\n",
    "        person_index = arrivals.index(name)\n",
    "        \n",
    "        # Check if the person is fashionably late\n",
    "        if person_index >= half_guests_index and person_index < total_attendees - 1:\n",
    "            return True\n",
    "    \n",
    "    return False\n",
    "\n",
    "    # Example usage\n",
    "    party_attendees = ['Adela', 'Fleda', 'Owen', 'May', 'Mona', 'Gilbert', 'Ford']\n",
    "\n",
    "    # Test cases\n",
    "    print(fashionably_late(party_attendees, 'Mona'))    # Output: True\n",
    "    print(fashionably_late(party_attendees, 'Gilbert')) # Output: True\n",
    "    print(fashionably_late(party_attendees, 'Ford'))    # Output: False\n",
    "    print(fashionably_late(party_attendees, 'Adela'))   # Output: False\n",
    "    print(fashionably_late(party_attendees, 'May'))     # Output: False (corrected case)\n",
    "    \n",
    "    pass\n",
    "\n",
    "# Check your answer\n",
    "q5.check()"
   ]
  },
  {
   "cell_type": "code",
   "execution_count": 11,
   "id": "08d3812a",
   "metadata": {
    "execution": {
     "iopub.execute_input": "2024-10-01T07:46:35.285888Z",
     "iopub.status.busy": "2024-10-01T07:46:35.285581Z",
     "iopub.status.idle": "2024-10-01T07:46:35.289090Z",
     "shell.execute_reply": "2024-10-01T07:46:35.288276Z"
    },
    "papermill": {
     "duration": 0.011925,
     "end_time": "2024-10-01T07:46:35.290926",
     "exception": false,
     "start_time": "2024-10-01T07:46:35.279001",
     "status": "completed"
    },
    "tags": []
   },
   "outputs": [],
   "source": [
    "#q5.hint()\n",
    "#q5.solution()"
   ]
  },
  {
   "cell_type": "markdown",
   "id": "71402023",
   "metadata": {
    "papermill": {
     "duration": 0.005616,
     "end_time": "2024-10-01T07:46:35.302207",
     "exception": false,
     "start_time": "2024-10-01T07:46:35.296591",
     "status": "completed"
    },
    "tags": []
   },
   "source": [
    "# Keep Going\n",
    "\n",
    "That's it for lists and tuples! Now you have the baseline knowledge to **[learn about loops](https://www.kaggle.com/colinmorris/loops-and-list-comprehensions)**, which is where lists and tuples get really interesting. "
   ]
  },
  {
   "cell_type": "markdown",
   "id": "b2d61c6a",
   "metadata": {
    "papermill": {
     "duration": 0.005507,
     "end_time": "2024-10-01T07:46:35.313429",
     "exception": false,
     "start_time": "2024-10-01T07:46:35.307922",
     "status": "completed"
    },
    "tags": []
   },
   "source": [
    "---\n",
    "\n",
    "\n",
    "\n",
    "\n",
    "*Have questions or comments? Visit the [course discussion forum](https://www.kaggle.com/learn/python/discussion) to chat with other learners.*"
   ]
  },
  {
   "cell_type": "code",
   "execution_count": null,
   "id": "bb08b537",
   "metadata": {
    "papermill": {
     "duration": 0.005537,
     "end_time": "2024-10-01T07:46:35.324710",
     "exception": false,
     "start_time": "2024-10-01T07:46:35.319173",
     "status": "completed"
    },
    "tags": []
   },
   "outputs": [],
   "source": []
  },
  {
   "cell_type": "code",
   "execution_count": null,
   "id": "5ae3491a",
   "metadata": {
    "papermill": {
     "duration": 0.005502,
     "end_time": "2024-10-01T07:46:35.336011",
     "exception": false,
     "start_time": "2024-10-01T07:46:35.330509",
     "status": "completed"
    },
    "tags": []
   },
   "outputs": [],
   "source": []
  }
 ],
 "metadata": {
  "kaggle": {
   "accelerator": "none",
   "dataSources": [],
   "isGpuEnabled": false,
   "isInternetEnabled": false,
   "language": "python",
   "sourceType": "notebook"
  },
  "kernelspec": {
   "display_name": "Python 3",
   "language": "python",
   "name": "python3"
  },
  "language_info": {
   "codemirror_mode": {
    "name": "ipython",
    "version": 3
   },
   "file_extension": ".py",
   "mimetype": "text/x-python",
   "name": "python",
   "nbconvert_exporter": "python",
   "pygments_lexer": "ipython3",
   "version": "3.10.14"
  },
  "learntools_metadata": {
   "lesson_index": 3,
   "type": "exercise"
  },
  "papermill": {
   "default_parameters": {},
   "duration": 3.906125,
   "end_time": "2024-10-01T07:46:35.659417",
   "environment_variables": {},
   "exception": null,
   "input_path": "__notebook__.ipynb",
   "output_path": "__notebook__.ipynb",
   "parameters": {},
   "start_time": "2024-10-01T07:46:31.753292",
   "version": "2.6.0"
  }
 },
 "nbformat": 4,
 "nbformat_minor": 5
}
