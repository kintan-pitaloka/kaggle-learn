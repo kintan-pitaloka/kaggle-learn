{
 "cells": [
  {
   "cell_type": "markdown",
   "id": "8959bfb3",
   "metadata": {
    "papermill": {
     "duration": 0.013083,
     "end_time": "2024-10-01T07:22:18.767623",
     "exception": false,
     "start_time": "2024-10-01T07:22:18.754540",
     "status": "completed"
    },
    "tags": []
   },
   "source": [
    "**This notebook is an exercise in the [Python](https://www.kaggle.com/learn/python) course.  You can reference the tutorial at [this link](https://www.kaggle.com/colinmorris/booleans-and-conditionals).**\n",
    "\n",
    "---\n"
   ]
  },
  {
   "cell_type": "markdown",
   "id": "6a1169b6",
   "metadata": {
    "papermill": {
     "duration": 0.011689,
     "end_time": "2024-10-01T07:22:18.791934",
     "exception": false,
     "start_time": "2024-10-01T07:22:18.780245",
     "status": "completed"
    },
    "tags": []
   },
   "source": [
    "# Try It Yourself\n",
    "\n",
    "Think you are ready to use Booleans and Conditionals? Try it yourself and find out.\n",
    "\n",
    "To get started, **run the setup code below** before writing your own code (and if you leave this notebook and come back later, don't forget to run the setup code again)."
   ]
  },
  {
   "cell_type": "code",
   "execution_count": 1,
   "id": "da0405a3",
   "metadata": {
    "execution": {
     "iopub.execute_input": "2024-10-01T07:22:18.818056Z",
     "iopub.status.busy": "2024-10-01T07:22:18.817516Z",
     "iopub.status.idle": "2024-10-01T07:22:19.892925Z",
     "shell.execute_reply": "2024-10-01T07:22:19.891605Z"
    },
    "papermill": {
     "duration": 1.091824,
     "end_time": "2024-10-01T07:22:19.895907",
     "exception": false,
     "start_time": "2024-10-01T07:22:18.804083",
     "status": "completed"
    },
    "tags": []
   },
   "outputs": [
    {
     "name": "stdout",
     "output_type": "stream",
     "text": [
      "Setup complete.\n"
     ]
    }
   ],
   "source": [
    "from learntools.core import binder; binder.bind(globals())\n",
    "from learntools.python.ex3 import *\n",
    "print('Setup complete.')"
   ]
  },
  {
   "cell_type": "markdown",
   "id": "df1e1da9",
   "metadata": {
    "papermill": {
     "duration": 0.011617,
     "end_time": "2024-10-01T07:22:19.919948",
     "exception": false,
     "start_time": "2024-10-01T07:22:19.908331",
     "status": "completed"
    },
    "tags": []
   },
   "source": [
    "# Exercises"
   ]
  },
  {
   "cell_type": "markdown",
   "id": "c8265099",
   "metadata": {
    "papermill": {
     "duration": 0.011662,
     "end_time": "2024-10-01T07:22:19.944570",
     "exception": false,
     "start_time": "2024-10-01T07:22:19.932908",
     "status": "completed"
    },
    "tags": []
   },
   "source": [
    "## 1.\n",
    "\n",
    "Many programming languages have [`sign`](https://en.wikipedia.org/wiki/Sign_function) available as a built-in function. Python doesn't, but we can define our own!\n",
    "\n",
    "In the cell below, define a function called `sign` which takes a numerical argument and returns -1 if it's negative, 1 if it's positive, and 0 if it's 0."
   ]
  },
  {
   "cell_type": "code",
   "execution_count": 2,
   "id": "68e6df9f",
   "metadata": {
    "execution": {
     "iopub.execute_input": "2024-10-01T07:22:19.970608Z",
     "iopub.status.busy": "2024-10-01T07:22:19.970051Z",
     "iopub.status.idle": "2024-10-01T07:22:19.983069Z",
     "shell.execute_reply": "2024-10-01T07:22:19.981800Z"
    },
    "papermill": {
     "duration": 0.028986,
     "end_time": "2024-10-01T07:22:19.985754",
     "exception": false,
     "start_time": "2024-10-01T07:22:19.956768",
     "status": "completed"
    },
    "tags": []
   },
   "outputs": [
    {
     "data": {
      "application/javascript": [
       "parent.postMessage({\"jupyterEvent\": \"custom.exercise_interaction\", \"data\": {\"outcomeType\": 1, \"valueTowardsCompletion\": 0.2, \"interactionType\": 1, \"questionType\": 2, \"questionId\": \"1_SignFunctionProblem\", \"learnToolsVersion\": \"0.3.4\", \"failureMessage\": \"\", \"exceptionClass\": \"\", \"trace\": \"\"}}, \"*\")"
      ],
      "text/plain": [
       "<IPython.core.display.Javascript object>"
      ]
     },
     "metadata": {},
     "output_type": "display_data"
    },
    {
     "data": {
      "text/markdown": [
       "<span style=\"color:#33cc33\">Correct</span>"
      ],
      "text/plain": [
       "Correct"
      ]
     },
     "metadata": {},
     "output_type": "display_data"
    }
   ],
   "source": [
    "# Your code goes here. Define a function called 'sign'\n",
    "\n",
    "def sign (x):\n",
    "    if x > 0 : \n",
    "        return 1\n",
    "    elif x < 0 : \n",
    "        return -1\n",
    "    elif x == 0:\n",
    "        return 0\n",
    "\n",
    "# Check your answer\n",
    "q1.check()"
   ]
  },
  {
   "cell_type": "code",
   "execution_count": 3,
   "id": "6c4ee931",
   "metadata": {
    "execution": {
     "iopub.execute_input": "2024-10-01T07:22:20.012957Z",
     "iopub.status.busy": "2024-10-01T07:22:20.011954Z",
     "iopub.status.idle": "2024-10-01T07:22:20.017523Z",
     "shell.execute_reply": "2024-10-01T07:22:20.016173Z"
    },
    "papermill": {
     "duration": 0.021932,
     "end_time": "2024-10-01T07:22:20.020119",
     "exception": false,
     "start_time": "2024-10-01T07:22:19.998187",
     "status": "completed"
    },
    "tags": []
   },
   "outputs": [],
   "source": [
    "# q1.solution()"
   ]
  },
  {
   "cell_type": "markdown",
   "id": "e9131227",
   "metadata": {
    "papermill": {
     "duration": 0.012581,
     "end_time": "2024-10-01T07:22:20.045854",
     "exception": false,
     "start_time": "2024-10-01T07:22:20.033273",
     "status": "completed"
    },
    "tags": []
   },
   "source": [
    "## 2.\n",
    "\n",
    "We've decided to add \"logging\" to our `to_smash` function from the previous exercise."
   ]
  },
  {
   "cell_type": "code",
   "execution_count": 4,
   "id": "79da32a0",
   "metadata": {
    "execution": {
     "iopub.execute_input": "2024-10-01T07:22:20.075071Z",
     "iopub.status.busy": "2024-10-01T07:22:20.074247Z",
     "iopub.status.idle": "2024-10-01T07:22:20.084094Z",
     "shell.execute_reply": "2024-10-01T07:22:20.082812Z"
    },
    "papermill": {
     "duration": 0.028765,
     "end_time": "2024-10-01T07:22:20.088018",
     "exception": false,
     "start_time": "2024-10-01T07:22:20.059253",
     "status": "completed"
    },
    "tags": []
   },
   "outputs": [
    {
     "name": "stdout",
     "output_type": "stream",
     "text": [
      "Splitting 91 candies\n"
     ]
    },
    {
     "data": {
      "text/plain": [
       "1"
      ]
     },
     "execution_count": 4,
     "metadata": {},
     "output_type": "execute_result"
    }
   ],
   "source": [
    "def to_smash(total_candies=1):\n",
    "    \"\"\"Return the number of leftover candies that must be smashed after distributing\n",
    "    the given number of candies evenly between 3 friends.\n",
    "    \n",
    "    >>> to_smash(91)\n",
    "    1\n",
    "    \"\"\"\n",
    "    print(\"Splitting\", total_candies, \"candies\")\n",
    "    return total_candies % 3\n",
    "\n",
    "to_smash(91)"
   ]
  },
  {
   "cell_type": "markdown",
   "id": "43203969",
   "metadata": {
    "papermill": {
     "duration": 0.012595,
     "end_time": "2024-10-01T07:22:20.113500",
     "exception": false,
     "start_time": "2024-10-01T07:22:20.100905",
     "status": "completed"
    },
    "tags": []
   },
   "source": [
    "What happens if we call it with `total_candies = 1`?"
   ]
  },
  {
   "cell_type": "code",
   "execution_count": 5,
   "id": "710774b1",
   "metadata": {
    "execution": {
     "iopub.execute_input": "2024-10-01T07:22:20.140763Z",
     "iopub.status.busy": "2024-10-01T07:22:20.140345Z",
     "iopub.status.idle": "2024-10-01T07:22:20.148418Z",
     "shell.execute_reply": "2024-10-01T07:22:20.147008Z"
    },
    "papermill": {
     "duration": 0.024589,
     "end_time": "2024-10-01T07:22:20.150988",
     "exception": false,
     "start_time": "2024-10-01T07:22:20.126399",
     "status": "completed"
    },
    "tags": []
   },
   "outputs": [
    {
     "name": "stdout",
     "output_type": "stream",
     "text": [
      "Splitting 1 candies\n"
     ]
    },
    {
     "data": {
      "text/plain": [
       "1"
      ]
     },
     "execution_count": 5,
     "metadata": {},
     "output_type": "execute_result"
    }
   ],
   "source": [
    "to_smash(1)"
   ]
  },
  {
   "cell_type": "markdown",
   "id": "b64163c6",
   "metadata": {
    "papermill": {
     "duration": 0.012472,
     "end_time": "2024-10-01T07:22:20.176464",
     "exception": false,
     "start_time": "2024-10-01T07:22:20.163992",
     "status": "completed"
    },
    "tags": []
   },
   "source": [
    "That isn't great grammar!\n",
    "\n",
    "Modify the definition in the cell below to correct the grammar of our print statement. (If there's only one candy, we should use the singular \"candy\" instead of the plural \"candies\")"
   ]
  },
  {
   "cell_type": "code",
   "execution_count": 6,
   "id": "c1bab0f7",
   "metadata": {
    "execution": {
     "iopub.execute_input": "2024-10-01T07:22:20.204143Z",
     "iopub.status.busy": "2024-10-01T07:22:20.203739Z",
     "iopub.status.idle": "2024-10-01T07:22:20.213559Z",
     "shell.execute_reply": "2024-10-01T07:22:20.212352Z"
    },
    "papermill": {
     "duration": 0.027062,
     "end_time": "2024-10-01T07:22:20.216605",
     "exception": false,
     "start_time": "2024-10-01T07:22:20.189543",
     "status": "completed"
    },
    "tags": []
   },
   "outputs": [
    {
     "name": "stdout",
     "output_type": "stream",
     "text": [
      "Splitting 91 candies\n",
      "Splitting 1 candies\n"
     ]
    },
    {
     "data": {
      "text/plain": [
       "1"
      ]
     },
     "execution_count": 6,
     "metadata": {},
     "output_type": "execute_result"
    }
   ],
   "source": [
    "def to_smash(total_candies):\n",
    "    \"\"\"Return the number of leftover candies that must be smashed after distributing\n",
    "    the given number of candies evenly between 3 friends.\n",
    "    \n",
    "    >>> to_smash(91)\n",
    "    1\n",
    "    \"\"\"\n",
    "    print(\"Splitting\", total_candies, \"candies\")\n",
    "    return total_candies % 3\n",
    "\n",
    "to_smash(91)\n",
    "to_smash(1)"
   ]
  },
  {
   "cell_type": "code",
   "execution_count": 7,
   "id": "203d674a",
   "metadata": {
    "execution": {
     "iopub.execute_input": "2024-10-01T07:22:20.244952Z",
     "iopub.status.busy": "2024-10-01T07:22:20.244551Z",
     "iopub.status.idle": "2024-10-01T07:22:20.253940Z",
     "shell.execute_reply": "2024-10-01T07:22:20.252592Z"
    },
    "papermill": {
     "duration": 0.027459,
     "end_time": "2024-10-01T07:22:20.257347",
     "exception": false,
     "start_time": "2024-10-01T07:22:20.229888",
     "status": "completed"
    },
    "tags": []
   },
   "outputs": [
    {
     "data": {
      "application/javascript": [
       "parent.postMessage({\"jupyterEvent\": \"custom.exercise_interaction\", \"data\": {\"interactionType\": 3, \"questionType\": 4, \"questionId\": \"2_PluralizationProblem\", \"learnToolsVersion\": \"0.3.4\", \"valueTowardsCompletion\": 0.0, \"failureMessage\": \"\", \"exceptionClass\": \"\", \"trace\": \"\", \"outcomeType\": 4}}, \"*\")"
      ],
      "text/plain": [
       "<IPython.core.display.Javascript object>"
      ]
     },
     "metadata": {},
     "output_type": "display_data"
    },
    {
     "data": {
      "text/markdown": [
       "<span style=\"color:#33cc99\">Solution:</span> A straightforward (and totally fine) solution is to replace the original `print` call with:\n",
       "\n",
       "```python\n",
       "if total_candies == 1:\n",
       "    print(\"Splitting 1 candy\")\n",
       "else:\n",
       "    print(\"Splitting\", total_candies, \"candies\")\n",
       "```\n",
       "\n",
       "Here's a slightly more succinct solution using a conditional expression:\n",
       "\n",
       "```python\n",
       "print(\"Splitting\", total_candies, \"candy\" if total_candies == 1 else \"candies\")\n",
       "```"
      ],
      "text/plain": [
       "Solution: A straightforward (and totally fine) solution is to replace the original `print` call with:\n",
       "\n",
       "```python\n",
       "if total_candies == 1:\n",
       "    print(\"Splitting 1 candy\")\n",
       "else:\n",
       "    print(\"Splitting\", total_candies, \"candies\")\n",
       "```\n",
       "\n",
       "Here's a slightly more succinct solution using a conditional expression:\n",
       "\n",
       "```python\n",
       "print(\"Splitting\", total_candies, \"candy\" if total_candies == 1 else \"candies\")\n",
       "```"
      ]
     },
     "metadata": {},
     "output_type": "display_data"
    }
   ],
   "source": [
    "# Check your answer (Run this code cell to receive credit!)\n",
    "q2.solution()"
   ]
  },
  {
   "cell_type": "markdown",
   "id": "e68cf749",
   "metadata": {
    "papermill": {
     "duration": 0.013415,
     "end_time": "2024-10-01T07:22:20.285050",
     "exception": false,
     "start_time": "2024-10-01T07:22:20.271635",
     "status": "completed"
    },
    "tags": []
   },
   "source": [
    "## 3. <span title=\"A bit spicy\" style=\"color: darkgreen \">🌶️</span>\n",
    "\n",
    "In the main lesson we talked about deciding whether we're prepared for the weather. I said that I'm safe from today's weather if...\n",
    "- I have an umbrella...\n",
    "- or if the rain isn't too heavy and I have a hood...\n",
    "- otherwise, I'm still fine unless it's raining *and* it's a workday\n",
    "\n",
    "The function below uses our first attempt at turning this logic into a Python expression. I claimed that there was a bug in that code. Can you find it?\n",
    "\n",
    "To prove that `prepared_for_weather` is buggy, come up with a set of inputs where either:\n",
    "- the function returns `False` (but should have returned `True`), or\n",
    "- the function returned `True` (but should have returned `False`).\n",
    "\n",
    "To get credit for completing this question, your code should return a <font color='#33cc33'>Correct</font> result."
   ]
  },
  {
   "cell_type": "code",
   "execution_count": 8,
   "id": "cb1fbfe4",
   "metadata": {
    "execution": {
     "iopub.execute_input": "2024-10-01T07:22:20.316144Z",
     "iopub.status.busy": "2024-10-01T07:22:20.314921Z",
     "iopub.status.idle": "2024-10-01T07:22:20.329060Z",
     "shell.execute_reply": "2024-10-01T07:22:20.327839Z"
    },
    "papermill": {
     "duration": 0.032395,
     "end_time": "2024-10-01T07:22:20.331565",
     "exception": false,
     "start_time": "2024-10-01T07:22:20.299170",
     "status": "completed"
    },
    "tags": []
   },
   "outputs": [
    {
     "name": "stdout",
     "output_type": "stream",
     "text": [
      "False\n"
     ]
    },
    {
     "data": {
      "application/javascript": [
       "parent.postMessage({\"jupyterEvent\": \"custom.exercise_interaction\", \"data\": {\"outcomeType\": 1, \"valueTowardsCompletion\": 0.2, \"interactionType\": 1, \"questionType\": 1, \"questionId\": \"3_WeatherDebug\", \"learnToolsVersion\": \"0.3.4\", \"failureMessage\": \"\", \"exceptionClass\": \"\", \"trace\": \"\"}}, \"*\")"
      ],
      "text/plain": [
       "<IPython.core.display.Javascript object>"
      ]
     },
     "metadata": {},
     "output_type": "display_data"
    },
    {
     "data": {
      "text/markdown": [
       "<span style=\"color:#33cc33\">Correct:</span> \n",
       "\n",
       "One example of a failing test case is:\n",
       "\n",
       "```python\n",
       "have_umbrella = False\n",
       "rain_level = 0.0\n",
       "have_hood = False\n",
       "is_workday = False\n",
       "```\n",
       "\n",
       "Clearly we're prepared for the weather in this case. It's not raining. Not only that, it's not a workday, so we don't even need to leave the house! But our function will return False on these inputs.\n",
       "\n",
       "The key problem is that Python implictly parenthesizes the last part as:\n",
       "\n",
       "```python\n",
       "(not (rain_level > 0)) and is_workday\n",
       "```\n",
       "\n",
       "Whereas what we were trying to express would look more like:\n",
       "\n",
       "```python\n",
       "not (rain_level > 0 and is_workday)\n",
       "```\n"
      ],
      "text/plain": [
       "Correct: \n",
       "\n",
       "One example of a failing test case is:\n",
       "\n",
       "```python\n",
       "have_umbrella = False\n",
       "rain_level = 0.0\n",
       "have_hood = False\n",
       "is_workday = False\n",
       "```\n",
       "\n",
       "Clearly we're prepared for the weather in this case. It's not raining. Not only that, it's not a workday, so we don't even need to leave the house! But our function will return False on these inputs.\n",
       "\n",
       "The key problem is that Python implictly parenthesizes the last part as:\n",
       "\n",
       "```python\n",
       "(not (rain_level > 0)) and is_workday\n",
       "```\n",
       "\n",
       "Whereas what we were trying to express would look more like:\n",
       "\n",
       "```python\n",
       "not (rain_level > 0 and is_workday)\n",
       "```"
      ]
     },
     "metadata": {},
     "output_type": "display_data"
    }
   ],
   "source": [
    "def prepared_for_weather(have_umbrella, rain_level, have_hood, is_workday):\n",
    "    # Don't change this code. Our goal is just to find the bug, not fix it!\n",
    "    return have_umbrella or rain_level < 5 and have_hood or not rain_level > 0 and is_workday\n",
    "\n",
    "# Change the values of these inputs so they represent a case where prepared_for_weather\n",
    "# returns the wrong answer.\n",
    "have_umbrella = False\n",
    "rain_level = 0.0\n",
    "have_hood = False\n",
    "is_workday = False\n",
    "\n",
    "# Check what the function returns given the current values of the variables above\n",
    "actual = prepared_for_weather(have_umbrella, rain_level, have_hood, is_workday)\n",
    "print(actual)\n",
    "\n",
    "# Check your answer\n",
    "q3.check()"
   ]
  },
  {
   "cell_type": "code",
   "execution_count": 9,
   "id": "de2d4e6e",
   "metadata": {
    "execution": {
     "iopub.execute_input": "2024-10-01T07:22:20.363342Z",
     "iopub.status.busy": "2024-10-01T07:22:20.362843Z",
     "iopub.status.idle": "2024-10-01T07:22:20.367938Z",
     "shell.execute_reply": "2024-10-01T07:22:20.366675Z"
    },
    "papermill": {
     "duration": 0.024284,
     "end_time": "2024-10-01T07:22:20.370662",
     "exception": false,
     "start_time": "2024-10-01T07:22:20.346378",
     "status": "completed"
    },
    "tags": []
   },
   "outputs": [],
   "source": [
    "#q3.hint()\n",
    "#q3.solution()"
   ]
  },
  {
   "cell_type": "markdown",
   "id": "94e7d78a",
   "metadata": {
    "papermill": {
     "duration": 0.014064,
     "end_time": "2024-10-01T07:22:20.399608",
     "exception": false,
     "start_time": "2024-10-01T07:22:20.385544",
     "status": "completed"
    },
    "tags": []
   },
   "source": [
    "## 4.\n",
    "\n",
    "The function `is_negative` below is implemented correctly - it returns True if the given number is negative and False otherwise.\n",
    "\n",
    "However, it's more verbose than it needs to be. We can actually reduce the number of lines of code in this function by *75%* while keeping the same behaviour. \n",
    "\n",
    "See if you can come up with an equivalent body that uses just **one line** of code, and put it in the function `concise_is_negative`. (HINT: you don't even need Python's ternary syntax)"
   ]
  },
  {
   "cell_type": "code",
   "execution_count": 10,
   "id": "99ba566f",
   "metadata": {
    "execution": {
     "iopub.execute_input": "2024-10-01T07:22:20.430543Z",
     "iopub.status.busy": "2024-10-01T07:22:20.430034Z",
     "iopub.status.idle": "2024-10-01T07:22:20.441358Z",
     "shell.execute_reply": "2024-10-01T07:22:20.440168Z"
    },
    "papermill": {
     "duration": 0.029932,
     "end_time": "2024-10-01T07:22:20.444151",
     "exception": false,
     "start_time": "2024-10-01T07:22:20.414219",
     "status": "completed"
    },
    "tags": []
   },
   "outputs": [
    {
     "data": {
      "application/javascript": [
       "parent.postMessage({\"jupyterEvent\": \"custom.exercise_interaction\", \"data\": {\"outcomeType\": 1, \"valueTowardsCompletion\": 0.2, \"interactionType\": 1, \"questionType\": 2, \"questionId\": \"4_ConciseIsNegative\", \"learnToolsVersion\": \"0.3.4\", \"failureMessage\": \"\", \"exceptionClass\": \"\", \"trace\": \"\"}}, \"*\")"
      ],
      "text/plain": [
       "<IPython.core.display.Javascript object>"
      ]
     },
     "metadata": {},
     "output_type": "display_data"
    },
    {
     "data": {
      "text/markdown": [
       "<span style=\"color:#33cc33\">Correct</span>"
      ],
      "text/plain": [
       "Correct"
      ]
     },
     "metadata": {},
     "output_type": "display_data"
    }
   ],
   "source": [
    "def is_negative(number):\n",
    "    if number < 0:\n",
    "        return True\n",
    "    else:\n",
    "        return False\n",
    "\n",
    "def concise_is_negative(number):\n",
    "    return number < 0 # Your code goes here (try to keep it to one line!)\n",
    "\n",
    "# Check your answer\n",
    "q4.check()"
   ]
  },
  {
   "cell_type": "code",
   "execution_count": 11,
   "id": "7b171aca",
   "metadata": {
    "execution": {
     "iopub.execute_input": "2024-10-01T07:22:20.476270Z",
     "iopub.status.busy": "2024-10-01T07:22:20.475210Z",
     "iopub.status.idle": "2024-10-01T07:22:20.490246Z",
     "shell.execute_reply": "2024-10-01T07:22:20.489017Z"
    },
    "papermill": {
     "duration": 0.033563,
     "end_time": "2024-10-01T07:22:20.492950",
     "exception": false,
     "start_time": "2024-10-01T07:22:20.459387",
     "status": "completed"
    },
    "tags": []
   },
   "outputs": [
    {
     "data": {
      "application/javascript": [
       "parent.postMessage({\"jupyterEvent\": \"custom.exercise_interaction\", \"data\": {\"interactionType\": 2, \"questionType\": 2, \"questionId\": \"4_ConciseIsNegative\", \"learnToolsVersion\": \"0.3.4\", \"valueTowardsCompletion\": 0.0, \"failureMessage\": \"\", \"exceptionClass\": \"\", \"trace\": \"\", \"outcomeType\": 4}}, \"*\")"
      ],
      "text/plain": [
       "<IPython.core.display.Javascript object>"
      ]
     },
     "metadata": {},
     "output_type": "display_data"
    },
    {
     "data": {
      "text/markdown": [
       "<span style=\"color:#3366cc\">Hint:</span> If the value of the expression `number < 0` is `True`, then we return `True`. If it's `False`, then we return `False`..."
      ],
      "text/plain": [
       "Hint: If the value of the expression `number < 0` is `True`, then we return `True`. If it's `False`, then we return `False`..."
      ]
     },
     "metadata": {},
     "output_type": "display_data"
    },
    {
     "data": {
      "application/javascript": [
       "parent.postMessage({\"jupyterEvent\": \"custom.exercise_interaction\", \"data\": {\"interactionType\": 3, \"questionType\": 2, \"questionId\": \"4_ConciseIsNegative\", \"learnToolsVersion\": \"0.3.4\", \"valueTowardsCompletion\": 0.0, \"failureMessage\": \"\", \"exceptionClass\": \"\", \"trace\": \"\", \"outcomeType\": 4}}, \"*\")"
      ],
      "text/plain": [
       "<IPython.core.display.Javascript object>"
      ]
     },
     "metadata": {},
     "output_type": "display_data"
    },
    {
     "data": {
      "text/markdown": [
       "<span style=\"color:#33cc99\">Solution:</span> \n",
       "```python\n",
       "return number < 0\n",
       "```"
      ],
      "text/plain": [
       "Solution: \n",
       "```python\n",
       "return number < 0\n",
       "```"
      ]
     },
     "metadata": {},
     "output_type": "display_data"
    }
   ],
   "source": [
    "q4.hint()\n",
    "q4.solution()"
   ]
  },
  {
   "cell_type": "markdown",
   "id": "a66148ea",
   "metadata": {
    "papermill": {
     "duration": 0.014798,
     "end_time": "2024-10-01T07:22:20.522891",
     "exception": false,
     "start_time": "2024-10-01T07:22:20.508093",
     "status": "completed"
    },
    "tags": []
   },
   "source": [
    "## 5.\n",
    "\n",
    "The boolean variables `ketchup`, `mustard` and `onion` represent whether a customer wants a particular topping on their hot dog. We want to implement a number of boolean functions that correspond to some yes-or-no questions about the customer's order. For example:"
   ]
  },
  {
   "cell_type": "code",
   "execution_count": 12,
   "id": "6f82a9a2",
   "metadata": {
    "execution": {
     "iopub.execute_input": "2024-10-01T07:22:20.555284Z",
     "iopub.status.busy": "2024-10-01T07:22:20.554838Z",
     "iopub.status.idle": "2024-10-01T07:22:20.560446Z",
     "shell.execute_reply": "2024-10-01T07:22:20.559187Z"
    },
    "papermill": {
     "duration": 0.024991,
     "end_time": "2024-10-01T07:22:20.563071",
     "exception": false,
     "start_time": "2024-10-01T07:22:20.538080",
     "status": "completed"
    },
    "tags": []
   },
   "outputs": [],
   "source": [
    "def onionless(ketchup, mustard, onion):\n",
    "    \"\"\"Return whether the customer doesn't want onions.\n",
    "    \"\"\"\n",
    "    return not onion"
   ]
  },
  {
   "cell_type": "markdown",
   "id": "290dcf1b",
   "metadata": {
    "papermill": {
     "duration": 0.015418,
     "end_time": "2024-10-01T07:22:20.594143",
     "exception": false,
     "start_time": "2024-10-01T07:22:20.578725",
     "status": "completed"
    },
    "tags": []
   },
   "source": [
    "For each of the remaining functions, fill in the body to match the English description in the docstring. "
   ]
  },
  {
   "cell_type": "code",
   "execution_count": 13,
   "id": "7b65b9d3",
   "metadata": {
    "execution": {
     "iopub.execute_input": "2024-10-01T07:22:20.626891Z",
     "iopub.status.busy": "2024-10-01T07:22:20.626415Z",
     "iopub.status.idle": "2024-10-01T07:22:20.638151Z",
     "shell.execute_reply": "2024-10-01T07:22:20.636826Z"
    },
    "papermill": {
     "duration": 0.031433,
     "end_time": "2024-10-01T07:22:20.640984",
     "exception": false,
     "start_time": "2024-10-01T07:22:20.609551",
     "status": "completed"
    },
    "tags": []
   },
   "outputs": [
    {
     "data": {
      "application/javascript": [
       "parent.postMessage({\"jupyterEvent\": \"custom.exercise_interaction\", \"data\": {\"outcomeType\": 1, \"valueTowardsCompletion\": 0.2, \"interactionType\": 1, \"questionType\": 2, \"questionId\": \"5.1_AllToppings\", \"learnToolsVersion\": \"0.3.4\", \"failureMessage\": \"\", \"exceptionClass\": \"\", \"trace\": \"\"}}, \"*\")"
      ],
      "text/plain": [
       "<IPython.core.display.Javascript object>"
      ]
     },
     "metadata": {},
     "output_type": "display_data"
    },
    {
     "data": {
      "text/markdown": [
       "<span style=\"color:#33cc33\">Correct</span>"
      ],
      "text/plain": [
       "Correct"
      ]
     },
     "metadata": {},
     "output_type": "display_data"
    }
   ],
   "source": [
    "def wants_all_toppings(ketchup, mustard, onion):\n",
    "    \"\"\"Return whether the customer wants \"the works\" (all 3 toppings)\n",
    "    \"\"\"\n",
    "    return ketchup and mustard and onion\n",
    "\n",
    "# Check your answer\n",
    "q5.a.check()"
   ]
  },
  {
   "cell_type": "code",
   "execution_count": 14,
   "id": "5724ba4b",
   "metadata": {
    "execution": {
     "iopub.execute_input": "2024-10-01T07:22:20.675551Z",
     "iopub.status.busy": "2024-10-01T07:22:20.675104Z",
     "iopub.status.idle": "2024-10-01T07:22:20.680163Z",
     "shell.execute_reply": "2024-10-01T07:22:20.678967Z"
    },
    "papermill": {
     "duration": 0.026033,
     "end_time": "2024-10-01T07:22:20.682979",
     "exception": false,
     "start_time": "2024-10-01T07:22:20.656946",
     "status": "completed"
    },
    "tags": []
   },
   "outputs": [],
   "source": [
    "#q5.a.hint()\n",
    "#q5.a.solution()"
   ]
  },
  {
   "cell_type": "code",
   "execution_count": 15,
   "id": "e1a7d1d3",
   "metadata": {
    "execution": {
     "iopub.execute_input": "2024-10-01T07:22:20.717506Z",
     "iopub.status.busy": "2024-10-01T07:22:20.717054Z",
     "iopub.status.idle": "2024-10-01T07:22:20.728458Z",
     "shell.execute_reply": "2024-10-01T07:22:20.727268Z"
    },
    "papermill": {
     "duration": 0.030914,
     "end_time": "2024-10-01T07:22:20.730927",
     "exception": false,
     "start_time": "2024-10-01T07:22:20.700013",
     "status": "completed"
    },
    "tags": []
   },
   "outputs": [
    {
     "data": {
      "application/javascript": [
       "parent.postMessage({\"jupyterEvent\": \"custom.exercise_interaction\", \"data\": {\"outcomeType\": 1, \"valueTowardsCompletion\": 0.2, \"interactionType\": 1, \"questionType\": 2, \"questionId\": \"5.2_PlainDog\", \"learnToolsVersion\": \"0.3.4\", \"failureMessage\": \"\", \"exceptionClass\": \"\", \"trace\": \"\"}}, \"*\")"
      ],
      "text/plain": [
       "<IPython.core.display.Javascript object>"
      ]
     },
     "metadata": {},
     "output_type": "display_data"
    },
    {
     "data": {
      "text/markdown": [
       "<span style=\"color:#33cc33\">Correct:</span> \n",
       "\n",
       "One solution looks like:\n",
       "```python\n",
       "return not ketchup and not mustard and not onion\n",
       "```\n",
       "\n",
       "We can also [\"factor out\" the nots](https://en.wikipedia.org/wiki/De_Morgan%27s_laws) to get:\n",
       "\n",
       "```python\n",
       "return not (ketchup or mustard or onion)\n",
       "```"
      ],
      "text/plain": [
       "Correct: \n",
       "\n",
       "One solution looks like:\n",
       "```python\n",
       "return not ketchup and not mustard and not onion\n",
       "```\n",
       "\n",
       "We can also [\"factor out\" the nots](https://en.wikipedia.org/wiki/De_Morgan%27s_laws) to get:\n",
       "\n",
       "```python\n",
       "return not (ketchup or mustard or onion)\n",
       "```"
      ]
     },
     "metadata": {},
     "output_type": "display_data"
    }
   ],
   "source": [
    "def wants_plain_hotdog(ketchup, mustard, onion):\n",
    "    \"\"\"Return whether the customer wants a plain hot dog with no toppings.\n",
    "    \"\"\"\n",
    "    return not (ketchup or mustard or onion)\n",
    "\n",
    "# Check your answer\n",
    "q5.b.check()"
   ]
  },
  {
   "cell_type": "code",
   "execution_count": 16,
   "id": "c577f81e",
   "metadata": {
    "execution": {
     "iopub.execute_input": "2024-10-01T07:22:20.767314Z",
     "iopub.status.busy": "2024-10-01T07:22:20.766840Z",
     "iopub.status.idle": "2024-10-01T07:22:20.772515Z",
     "shell.execute_reply": "2024-10-01T07:22:20.771154Z"
    },
    "papermill": {
     "duration": 0.027794,
     "end_time": "2024-10-01T07:22:20.775308",
     "exception": false,
     "start_time": "2024-10-01T07:22:20.747514",
     "status": "completed"
    },
    "tags": []
   },
   "outputs": [],
   "source": [
    "#q5.b.hint()\n",
    "#q5.b.solution()"
   ]
  },
  {
   "cell_type": "code",
   "execution_count": 17,
   "id": "e13531d6",
   "metadata": {
    "execution": {
     "iopub.execute_input": "2024-10-01T07:22:20.812276Z",
     "iopub.status.busy": "2024-10-01T07:22:20.811699Z",
     "iopub.status.idle": "2024-10-01T07:22:20.824318Z",
     "shell.execute_reply": "2024-10-01T07:22:20.823031Z"
    },
    "papermill": {
     "duration": 0.035173,
     "end_time": "2024-10-01T07:22:20.827124",
     "exception": false,
     "start_time": "2024-10-01T07:22:20.791951",
     "status": "completed"
    },
    "tags": []
   },
   "outputs": [
    {
     "data": {
      "application/javascript": [
       "parent.postMessage({\"jupyterEvent\": \"custom.exercise_interaction\", \"data\": {\"outcomeType\": 1, \"valueTowardsCompletion\": 0.2, \"interactionType\": 1, \"questionType\": 2, \"questionId\": \"5.3_OneSauce\", \"learnToolsVersion\": \"0.3.4\", \"failureMessage\": \"\", \"exceptionClass\": \"\", \"trace\": \"\"}}, \"*\")"
      ],
      "text/plain": [
       "<IPython.core.display.Javascript object>"
      ]
     },
     "metadata": {},
     "output_type": "display_data"
    },
    {
     "data": {
      "text/markdown": [
       "<span style=\"color:#33cc33\">Correct</span>"
      ],
      "text/plain": [
       "Correct"
      ]
     },
     "metadata": {},
     "output_type": "display_data"
    }
   ],
   "source": [
    "def exactly_one_sauce(ketchup, mustard, onion):\n",
    "    \"\"\"Return whether the customer wants either ketchup or mustard, but not both.\n",
    "    (You may be familiar with this operation under the name \"exclusive or\")\n",
    "    \"\"\"\n",
    "    return (ketchup and not mustard) or (mustard and not ketchup)\n",
    "\n",
    "# Check your answer\n",
    "q5.c.check()"
   ]
  },
  {
   "cell_type": "code",
   "execution_count": 18,
   "id": "227d7560",
   "metadata": {
    "execution": {
     "iopub.execute_input": "2024-10-01T07:22:20.863551Z",
     "iopub.status.busy": "2024-10-01T07:22:20.862129Z",
     "iopub.status.idle": "2024-10-01T07:22:20.873139Z",
     "shell.execute_reply": "2024-10-01T07:22:20.871960Z"
    },
    "papermill": {
     "duration": 0.031902,
     "end_time": "2024-10-01T07:22:20.876024",
     "exception": false,
     "start_time": "2024-10-01T07:22:20.844122",
     "status": "completed"
    },
    "tags": []
   },
   "outputs": [
    {
     "data": {
      "application/javascript": [
       "parent.postMessage({\"jupyterEvent\": \"custom.exercise_interaction\", \"data\": {\"interactionType\": 3, \"questionType\": 2, \"questionId\": \"5.3_OneSauce\", \"learnToolsVersion\": \"0.3.4\", \"valueTowardsCompletion\": 0.0, \"failureMessage\": \"\", \"exceptionClass\": \"\", \"trace\": \"\", \"outcomeType\": 4}}, \"*\")"
      ],
      "text/plain": [
       "<IPython.core.display.Javascript object>"
      ]
     },
     "metadata": {},
     "output_type": "display_data"
    },
    {
     "data": {
      "text/markdown": [
       "<span style=\"color:#33cc99\">Solution:</span> \n",
       "```python\n",
       "return (ketchup and not mustard) or (mustard and not ketchup)\n",
       "```"
      ],
      "text/plain": [
       "Solution: \n",
       "```python\n",
       "return (ketchup and not mustard) or (mustard and not ketchup)\n",
       "```"
      ]
     },
     "metadata": {},
     "output_type": "display_data"
    }
   ],
   "source": [
    "#q5.c.hint()\n",
    "q5.c.solution()"
   ]
  },
  {
   "cell_type": "markdown",
   "id": "41af0f9d",
   "metadata": {
    "papermill": {
     "duration": 0.016094,
     "end_time": "2024-10-01T07:22:20.908648",
     "exception": false,
     "start_time": "2024-10-01T07:22:20.892554",
     "status": "completed"
    },
    "tags": []
   },
   "source": [
    "## 6. <span title=\"A bit spicy\" style=\"color: darkgreen \">🌶️</span>\n",
    "\n",
    "We’ve seen that calling `bool()` on an integer returns `False` if it’s equal to 0 and `True` otherwise. What happens if we call `int()` on a bool? Try it out in the notebook cell below.\n",
    "\n",
    "Can you take advantage of this to write a succinct function that corresponds to the English sentence \"does the customer want exactly one topping?\"?"
   ]
  },
  {
   "cell_type": "code",
   "execution_count": 19,
   "id": "75c4a64b",
   "metadata": {
    "execution": {
     "iopub.execute_input": "2024-10-01T07:22:20.943414Z",
     "iopub.status.busy": "2024-10-01T07:22:20.942875Z",
     "iopub.status.idle": "2024-10-01T07:22:20.954414Z",
     "shell.execute_reply": "2024-10-01T07:22:20.953240Z"
    },
    "papermill": {
     "duration": 0.031952,
     "end_time": "2024-10-01T07:22:20.957089",
     "exception": false,
     "start_time": "2024-10-01T07:22:20.925137",
     "status": "completed"
    },
    "tags": []
   },
   "outputs": [
    {
     "data": {
      "application/javascript": [
       "parent.postMessage({\"jupyterEvent\": \"custom.exercise_interaction\", \"data\": {\"outcomeType\": 1, \"valueTowardsCompletion\": 0.2, \"interactionType\": 1, \"questionType\": 2, \"questionId\": \"6_OneTopping\", \"learnToolsVersion\": \"0.3.4\", \"failureMessage\": \"\", \"exceptionClass\": \"\", \"trace\": \"\"}}, \"*\")"
      ],
      "text/plain": [
       "<IPython.core.display.Javascript object>"
      ]
     },
     "metadata": {},
     "output_type": "display_data"
    },
    {
     "data": {
      "text/markdown": [
       "<span style=\"color:#33cc33\">Correct:</span> \n",
       "\n",
       "This condition would be pretty complicated to express using just `and`, `or` and `not`, but using boolean-to-integer conversion gives us this short solution:\n",
       "```python\n",
       "return (int(ketchup) + int(mustard) + int(onion)) == 1\n",
       "```\n",
       "\n",
       "Fun fact: we don't technically need to call `int` on the arguments. Just by doing addition with booleans, Python implicitly does the integer conversion. So we could also write...\n",
       "\n",
       "```python\n",
       "return (ketchup + mustard + onion) == 1\n",
       "```"
      ],
      "text/plain": [
       "Correct: \n",
       "\n",
       "This condition would be pretty complicated to express using just `and`, `or` and `not`, but using boolean-to-integer conversion gives us this short solution:\n",
       "```python\n",
       "return (int(ketchup) + int(mustard) + int(onion)) == 1\n",
       "```\n",
       "\n",
       "Fun fact: we don't technically need to call `int` on the arguments. Just by doing addition with booleans, Python implicitly does the integer conversion. So we could also write...\n",
       "\n",
       "```python\n",
       "return (ketchup + mustard + onion) == 1\n",
       "```"
      ]
     },
     "metadata": {},
     "output_type": "display_data"
    }
   ],
   "source": [
    "def exactly_one_topping(ketchup, mustard, onion):\n",
    "    \"\"\"Return whether the customer wants exactly one of the three available toppings\n",
    "    on their hot dog.\n",
    "    \"\"\"\n",
    "    return (ketchup + mustard + onion) ==1\n",
    "\n",
    "# Check your answer\n",
    "q6.check()"
   ]
  },
  {
   "cell_type": "code",
   "execution_count": 20,
   "id": "bf81544c",
   "metadata": {
    "execution": {
     "iopub.execute_input": "2024-10-01T07:22:20.994158Z",
     "iopub.status.busy": "2024-10-01T07:22:20.993733Z",
     "iopub.status.idle": "2024-10-01T07:22:21.004368Z",
     "shell.execute_reply": "2024-10-01T07:22:21.003120Z"
    },
    "papermill": {
     "duration": 0.032173,
     "end_time": "2024-10-01T07:22:21.006826",
     "exception": false,
     "start_time": "2024-10-01T07:22:20.974653",
     "status": "completed"
    },
    "tags": []
   },
   "outputs": [
    {
     "data": {
      "application/javascript": [
       "parent.postMessage({\"jupyterEvent\": \"custom.exercise_interaction\", \"data\": {\"interactionType\": 3, \"questionType\": 2, \"questionId\": \"6_OneTopping\", \"learnToolsVersion\": \"0.3.4\", \"valueTowardsCompletion\": 0.0, \"failureMessage\": \"\", \"exceptionClass\": \"\", \"trace\": \"\", \"outcomeType\": 4}}, \"*\")"
      ],
      "text/plain": [
       "<IPython.core.display.Javascript object>"
      ]
     },
     "metadata": {},
     "output_type": "display_data"
    },
    {
     "data": {
      "text/markdown": [
       "<span style=\"color:#33cc99\">Solution:</span> This condition would be pretty complicated to express using just `and`, `or` and `not`, but using boolean-to-integer conversion gives us this short solution:\n",
       "```python\n",
       "return (int(ketchup) + int(mustard) + int(onion)) == 1\n",
       "```\n",
       "\n",
       "Fun fact: we don't technically need to call `int` on the arguments. Just by doing addition with booleans, Python implicitly does the integer conversion. So we could also write...\n",
       "\n",
       "```python\n",
       "return (ketchup + mustard + onion) == 1\n",
       "```"
      ],
      "text/plain": [
       "Solution: This condition would be pretty complicated to express using just `and`, `or` and `not`, but using boolean-to-integer conversion gives us this short solution:\n",
       "```python\n",
       "return (int(ketchup) + int(mustard) + int(onion)) == 1\n",
       "```\n",
       "\n",
       "Fun fact: we don't technically need to call `int` on the arguments. Just by doing addition with booleans, Python implicitly does the integer conversion. So we could also write...\n",
       "\n",
       "```python\n",
       "return (ketchup + mustard + onion) == 1\n",
       "```"
      ]
     },
     "metadata": {},
     "output_type": "display_data"
    }
   ],
   "source": [
    "#q6.hint()\n",
    "q6.solution()"
   ]
  },
  {
   "cell_type": "markdown",
   "id": "9d17c2be",
   "metadata": {
    "papermill": {
     "duration": 0.016955,
     "end_time": "2024-10-01T07:22:21.041018",
     "exception": false,
     "start_time": "2024-10-01T07:22:21.024063",
     "status": "completed"
    },
    "tags": []
   },
   "source": [
    "## 7. <span title=\"A bit spicy\" style=\"color: darkgreen \">🌶️</span> (Optional)\n",
    "\n",
    "In this problem we'll be working with a simplified version of [blackjack](https://en.wikipedia.org/wiki/Blackjack) (aka twenty-one). In this version there is one player (who you'll control) and a dealer. Play proceeds as follows:\n",
    "\n",
    "- The player is dealt two face-up cards. The dealer is dealt one face-up card.\n",
    "- The player may ask to be dealt another card ('hit') as many times as they wish. If the sum of their cards exceeds 21, they lose the round immediately.\n",
    "- The dealer then deals additional cards to himself until either:\n",
    "    - the sum of the dealer's cards exceeds 21, in which case the player wins the round\n",
    "    - the sum of the dealer's cards is greater than or equal to 17. If the player's total is greater than the dealer's, the player wins. Otherwise, the dealer wins (even in case of a tie).\n",
    "    \n",
    "When calculating the sum of cards, Jack, Queen, and King count for 10. Aces can count as 1 or 11 (when referring to a player's \"total\" above, we mean the largest total that can be made without exceeding 21. So e.g. A+8 = 19, A+8+8 = 17)\n",
    "\n",
    "For this problem, you'll write a function representing the player's decision-making strategy in this game. We've provided a very unintelligent implementation below:"
   ]
  },
  {
   "cell_type": "code",
   "execution_count": 21,
   "id": "a32659be",
   "metadata": {
    "execution": {
     "iopub.execute_input": "2024-10-01T07:22:21.079347Z",
     "iopub.status.busy": "2024-10-01T07:22:21.078885Z",
     "iopub.status.idle": "2024-10-01T07:22:21.085097Z",
     "shell.execute_reply": "2024-10-01T07:22:21.083824Z"
    },
    "papermill": {
     "duration": 0.028831,
     "end_time": "2024-10-01T07:22:21.087833",
     "exception": false,
     "start_time": "2024-10-01T07:22:21.059002",
     "status": "completed"
    },
    "tags": []
   },
   "outputs": [],
   "source": [
    "def should_hit(dealer_total, player_total, player_low_aces, player_high_aces):\n",
    "    \"\"\"Return True if the player should hit (request another card) given the current game\n",
    "    state, or False if the player should stay.\n",
    "    When calculating a hand's total value, we count aces as \"high\" (with value 11) if doing so\n",
    "    doesn't bring the total above 21, otherwise we count them as low (with value 1). \n",
    "    For example, if the player's hand is {A, A, A, 7}, we will count it as 11 + 1 + 1 + 7,\n",
    "    and therefore set player_total=20, player_low_aces=2, player_high_aces=1.\n",
    "    \"\"\"\n",
    "    return False"
   ]
  },
  {
   "cell_type": "markdown",
   "id": "da651956",
   "metadata": {
    "papermill": {
     "duration": 0.016912,
     "end_time": "2024-10-01T07:22:21.121977",
     "exception": false,
     "start_time": "2024-10-01T07:22:21.105065",
     "status": "completed"
    },
    "tags": []
   },
   "source": [
    "This very conservative agent *always* sticks with the hand of two cards that they're dealt.\n",
    "\n",
    "We'll be simulating games between your player agent and our own dealer agent by calling your function.\n",
    "\n",
    "Try running the function below to see an example of a simulated game:"
   ]
  },
  {
   "cell_type": "code",
   "execution_count": 22,
   "id": "35bfbd48",
   "metadata": {
    "execution": {
     "iopub.execute_input": "2024-10-01T07:22:21.158120Z",
     "iopub.status.busy": "2024-10-01T07:22:21.157663Z",
     "iopub.status.idle": "2024-10-01T07:22:21.164136Z",
     "shell.execute_reply": "2024-10-01T07:22:21.162808Z"
    },
    "papermill": {
     "duration": 0.027975,
     "end_time": "2024-10-01T07:22:21.166976",
     "exception": false,
     "start_time": "2024-10-01T07:22:21.139001",
     "status": "completed"
    },
    "tags": []
   },
   "outputs": [
    {
     "name": "stdout",
     "output_type": "stream",
     "text": [
      "Player starts with A and 4 (total = 15)\n",
      "Dealer starts with 3\n",
      "\n",
      "__Player's turn__\n",
      "Player stays\n",
      "\n",
      "__Dealer's turn__\n",
      "Dealer hits and receives A. (total = 14)\n",
      "Dealer hits and receives K. (total = 14)\n",
      "Dealer hits and receives J. (total = 24)\n",
      "Dealer busts! Player wins.\n"
     ]
    }
   ],
   "source": [
    "q7.simulate_one_game()"
   ]
  },
  {
   "cell_type": "markdown",
   "id": "9ba390dd",
   "metadata": {
    "papermill": {
     "duration": 0.017007,
     "end_time": "2024-10-01T07:22:21.201301",
     "exception": false,
     "start_time": "2024-10-01T07:22:21.184294",
     "status": "completed"
    },
    "tags": []
   },
   "source": [
    "The real test of your agent's mettle is their average win rate over many games. Try calling the function below to simulate 50000 games of blackjack (it may take a couple seconds):"
   ]
  },
  {
   "cell_type": "code",
   "execution_count": 23,
   "id": "c19ce412",
   "metadata": {
    "execution": {
     "iopub.execute_input": "2024-10-01T07:22:21.237549Z",
     "iopub.status.busy": "2024-10-01T07:22:21.237092Z",
     "iopub.status.idle": "2024-10-01T07:22:23.408831Z",
     "shell.execute_reply": "2024-10-01T07:22:23.407627Z"
    },
    "papermill": {
     "duration": 2.193184,
     "end_time": "2024-10-01T07:22:23.411582",
     "exception": false,
     "start_time": "2024-10-01T07:22:21.218398",
     "status": "completed"
    },
    "tags": []
   },
   "outputs": [
    {
     "name": "stdout",
     "output_type": "stream",
     "text": [
      "Player won 19216 out of 50000 games (win rate = 38.4%)\n"
     ]
    }
   ],
   "source": [
    "q7.simulate(n_games=50000)"
   ]
  },
  {
   "cell_type": "markdown",
   "id": "3bf5e5c2",
   "metadata": {
    "papermill": {
     "duration": 0.017177,
     "end_time": "2024-10-01T07:22:23.447028",
     "exception": false,
     "start_time": "2024-10-01T07:22:23.429851",
     "status": "completed"
    },
    "tags": []
   },
   "source": [
    "Our dumb agent that completely ignores the game state still manages to win shockingly often!\n",
    "\n",
    "Try adding some more smarts to the `should_hit` function and see how it affects the results."
   ]
  },
  {
   "cell_type": "code",
   "execution_count": 24,
   "id": "11f35d95",
   "metadata": {
    "execution": {
     "iopub.execute_input": "2024-10-01T07:22:23.484406Z",
     "iopub.status.busy": "2024-10-01T07:22:23.483924Z",
     "iopub.status.idle": "2024-10-01T07:22:25.731505Z",
     "shell.execute_reply": "2024-10-01T07:22:25.729953Z"
    },
    "papermill": {
     "duration": 2.269698,
     "end_time": "2024-10-01T07:22:25.734222",
     "exception": false,
     "start_time": "2024-10-01T07:22:23.464524",
     "status": "completed"
    },
    "tags": []
   },
   "outputs": [
    {
     "name": "stdout",
     "output_type": "stream",
     "text": [
      "Player won 19149 out of 50000 games (win rate = 38.3%)\n"
     ]
    }
   ],
   "source": [
    "def should_hit(dealer_total, player_total, player_low_aces, player_high_aces):\n",
    "    \"\"\"Return True if the player should hit (request another card) given the current game\n",
    "    state, or False if the player should stay.\n",
    "    When calculating a hand's total value, we count aces as \"high\" (with value 11) if doing so\n",
    "    doesn't bring the total above 21, otherwise we count them as low (with value 1). \n",
    "    For example, if the player's hand is {A, A, A, 7}, we will count it as 11 + 1 + 1 + 7,\n",
    "    and therefore set player_total=20, player_low_aces=2, player_high_aces=1.\n",
    "    \"\"\"\n",
    "    return False\n",
    "\n",
    "q7.simulate(n_games=50000)"
   ]
  },
  {
   "cell_type": "markdown",
   "id": "709c4c91",
   "metadata": {
    "papermill": {
     "duration": 0.017012,
     "end_time": "2024-10-01T07:22:25.768931",
     "exception": false,
     "start_time": "2024-10-01T07:22:25.751919",
     "status": "completed"
    },
    "tags": []
   },
   "source": [
    "# Keep Going\n",
    "\n",
    "Learn about **[lists and tuples](https://www.kaggle.com/colinmorris/lists)** to handle multiple items of data in a systematic way."
   ]
  },
  {
   "cell_type": "markdown",
   "id": "2054877c",
   "metadata": {
    "papermill": {
     "duration": 0.016889,
     "end_time": "2024-10-01T07:22:25.803051",
     "exception": false,
     "start_time": "2024-10-01T07:22:25.786162",
     "status": "completed"
    },
    "tags": []
   },
   "source": [
    "---\n",
    "\n",
    "\n",
    "\n",
    "\n",
    "*Have questions or comments? Visit the [Learn Discussion forum](https://www.kaggle.com/learn-forum/161283) to chat with other Learners.*"
   ]
  }
 ],
 "metadata": {
  "kaggle": {
   "accelerator": "none",
   "dataSources": [],
   "isGpuEnabled": false,
   "isInternetEnabled": false,
   "language": "python",
   "sourceType": "notebook"
  },
  "kernelspec": {
   "display_name": "Python 3",
   "language": "python",
   "name": "python3"
  },
  "language_info": {
   "codemirror_mode": {
    "name": "ipython",
    "version": 3
   },
   "file_extension": ".py",
   "mimetype": "text/x-python",
   "name": "python",
   "nbconvert_exporter": "python",
   "pygments_lexer": "ipython3",
   "version": "3.10.14"
  },
  "papermill": {
   "default_parameters": {},
   "duration": 10.843817,
   "end_time": "2024-10-01T07:22:26.342882",
   "environment_variables": {},
   "exception": null,
   "input_path": "__notebook__.ipynb",
   "output_path": "__notebook__.ipynb",
   "parameters": {},
   "start_time": "2024-10-01T07:22:15.499065",
   "version": "2.6.0"
  }
 },
 "nbformat": 4,
 "nbformat_minor": 5
}
