{
 "cells": [
  {
   "cell_type": "markdown",
   "id": "caee4039",
   "metadata": {
    "papermill": {
     "duration": 0.012383,
     "end_time": "2024-10-01T07:21:33.454294",
     "exception": false,
     "start_time": "2024-10-01T07:21:33.441911",
     "status": "completed"
    },
    "tags": []
   },
   "source": [
    "**This notebook is an exercise in the [Python](https://www.kaggle.com/learn/python) course.  You can reference the tutorial at [this link](https://www.kaggle.com/colinmorris/booleans-and-conditionals).**\n",
    "\n",
    "---\n"
   ]
  },
  {
   "cell_type": "markdown",
   "id": "661d5a3c",
   "metadata": {
    "papermill": {
     "duration": 0.01131,
     "end_time": "2024-10-01T07:21:33.477212",
     "exception": false,
     "start_time": "2024-10-01T07:21:33.465902",
     "status": "completed"
    },
    "tags": []
   },
   "source": [
    "# Try It Yourself\n",
    "\n",
    "Think you are ready to use Booleans and Conditionals? Try it yourself and find out.\n",
    "\n",
    "To get started, **run the setup code below** before writing your own code (and if you leave this notebook and come back later, don't forget to run the setup code again)."
   ]
  },
  {
   "cell_type": "code",
   "execution_count": 1,
   "id": "e20a2192",
   "metadata": {
    "execution": {
     "iopub.execute_input": "2024-10-01T07:21:33.505083Z",
     "iopub.status.busy": "2024-10-01T07:21:33.504528Z",
     "iopub.status.idle": "2024-10-01T07:21:34.413661Z",
     "shell.execute_reply": "2024-10-01T07:21:34.412377Z"
    },
    "papermill": {
     "duration": 0.928478,
     "end_time": "2024-10-01T07:21:34.417144",
     "exception": false,
     "start_time": "2024-10-01T07:21:33.488666",
     "status": "completed"
    },
    "tags": []
   },
   "outputs": [
    {
     "name": "stdout",
     "output_type": "stream",
     "text": [
      "Setup complete.\n"
     ]
    }
   ],
   "source": [
    "from learntools.core import binder; binder.bind(globals())\n",
    "from learntools.python.ex3 import *\n",
    "print('Setup complete.')"
   ]
  },
  {
   "cell_type": "markdown",
   "id": "590eac94",
   "metadata": {
    "papermill": {
     "duration": 0.012314,
     "end_time": "2024-10-01T07:21:34.446198",
     "exception": false,
     "start_time": "2024-10-01T07:21:34.433884",
     "status": "completed"
    },
    "tags": []
   },
   "source": [
    "# Exercises"
   ]
  },
  {
   "cell_type": "markdown",
   "id": "e2176f43",
   "metadata": {
    "papermill": {
     "duration": 0.01158,
     "end_time": "2024-10-01T07:21:34.470850",
     "exception": false,
     "start_time": "2024-10-01T07:21:34.459270",
     "status": "completed"
    },
    "tags": []
   },
   "source": [
    "## 1.\n",
    "\n",
    "Many programming languages have [`sign`](https://en.wikipedia.org/wiki/Sign_function) available as a built-in function. Python doesn't, but we can define our own!\n",
    "\n",
    "In the cell below, define a function called `sign` which takes a numerical argument and returns -1 if it's negative, 1 if it's positive, and 0 if it's 0."
   ]
  },
  {
   "cell_type": "code",
   "execution_count": 2,
   "id": "0d40e4b5",
   "metadata": {
    "execution": {
     "iopub.execute_input": "2024-10-01T07:21:34.496654Z",
     "iopub.status.busy": "2024-10-01T07:21:34.495899Z",
     "iopub.status.idle": "2024-10-01T07:21:34.508283Z",
     "shell.execute_reply": "2024-10-01T07:21:34.507113Z"
    },
    "papermill": {
     "duration": 0.028155,
     "end_time": "2024-10-01T07:21:34.510984",
     "exception": false,
     "start_time": "2024-10-01T07:21:34.482829",
     "status": "completed"
    },
    "tags": []
   },
   "outputs": [
    {
     "data": {
      "application/javascript": [
       "parent.postMessage({\"jupyterEvent\": \"custom.exercise_interaction\", \"data\": {\"outcomeType\": 1, \"valueTowardsCompletion\": 0.2, \"interactionType\": 1, \"questionType\": 2, \"questionId\": \"1_SignFunctionProblem\", \"learnToolsVersion\": \"0.3.4\", \"failureMessage\": \"\", \"exceptionClass\": \"\", \"trace\": \"\"}}, \"*\")"
      ],
      "text/plain": [
       "<IPython.core.display.Javascript object>"
      ]
     },
     "metadata": {},
     "output_type": "display_data"
    },
    {
     "data": {
      "text/markdown": [
       "<span style=\"color:#33cc33\">Correct</span>"
      ],
      "text/plain": [
       "Correct"
      ]
     },
     "metadata": {},
     "output_type": "display_data"
    }
   ],
   "source": [
    "# Your code goes here. Define a function called 'sign'\n",
    "\n",
    "def sign (x):\n",
    "    if x > 0 : \n",
    "        return 1\n",
    "    elif x < 0 : \n",
    "        return -1\n",
    "    elif x == 0:\n",
    "        return 0\n",
    "\n",
    "# Check your answer\n",
    "q1.check()"
   ]
  },
  {
   "cell_type": "code",
   "execution_count": 3,
   "id": "11d7c19a",
   "metadata": {
    "execution": {
     "iopub.execute_input": "2024-10-01T07:21:34.545622Z",
     "iopub.status.busy": "2024-10-01T07:21:34.545196Z",
     "iopub.status.idle": "2024-10-01T07:21:34.550278Z",
     "shell.execute_reply": "2024-10-01T07:21:34.549128Z"
    },
    "papermill": {
     "duration": 0.024442,
     "end_time": "2024-10-01T07:21:34.552993",
     "exception": false,
     "start_time": "2024-10-01T07:21:34.528551",
     "status": "completed"
    },
    "tags": []
   },
   "outputs": [],
   "source": [
    "# q1.solution()"
   ]
  },
  {
   "cell_type": "markdown",
   "id": "a0e602d6",
   "metadata": {
    "papermill": {
     "duration": 0.015604,
     "end_time": "2024-10-01T07:21:34.586254",
     "exception": false,
     "start_time": "2024-10-01T07:21:34.570650",
     "status": "completed"
    },
    "tags": []
   },
   "source": [
    "## 2.\n",
    "\n",
    "We've decided to add \"logging\" to our `to_smash` function from the previous exercise."
   ]
  },
  {
   "cell_type": "code",
   "execution_count": 4,
   "id": "09262639",
   "metadata": {
    "execution": {
     "iopub.execute_input": "2024-10-01T07:21:34.613113Z",
     "iopub.status.busy": "2024-10-01T07:21:34.612174Z",
     "iopub.status.idle": "2024-10-01T07:21:34.622466Z",
     "shell.execute_reply": "2024-10-01T07:21:34.621131Z"
    },
    "papermill": {
     "duration": 0.028469,
     "end_time": "2024-10-01T07:21:34.626943",
     "exception": false,
     "start_time": "2024-10-01T07:21:34.598474",
     "status": "completed"
    },
    "tags": []
   },
   "outputs": [
    {
     "name": "stdout",
     "output_type": "stream",
     "text": [
      "Splitting 91 candies\n"
     ]
    },
    {
     "data": {
      "text/plain": [
       "1"
      ]
     },
     "execution_count": 4,
     "metadata": {},
     "output_type": "execute_result"
    }
   ],
   "source": [
    "def to_smash(total_candies=1):\n",
    "    \"\"\"Return the number of leftover candies that must be smashed after distributing\n",
    "    the given number of candies evenly between 3 friends.\n",
    "    \n",
    "    >>> to_smash(91)\n",
    "    1\n",
    "    \"\"\"\n",
    "    print(\"Splitting\", total_candies, \"candies\")\n",
    "    return total_candies % 3\n",
    "\n",
    "to_smash(91)"
   ]
  },
  {
   "cell_type": "markdown",
   "id": "ca204632",
   "metadata": {
    "papermill": {
     "duration": 0.015824,
     "end_time": "2024-10-01T07:21:34.656788",
     "exception": false,
     "start_time": "2024-10-01T07:21:34.640964",
     "status": "completed"
    },
    "tags": []
   },
   "source": [
    "What happens if we call it with `total_candies = 1`?"
   ]
  },
  {
   "cell_type": "code",
   "execution_count": 5,
   "id": "8d51d91e",
   "metadata": {
    "execution": {
     "iopub.execute_input": "2024-10-01T07:21:34.684719Z",
     "iopub.status.busy": "2024-10-01T07:21:34.683883Z",
     "iopub.status.idle": "2024-10-01T07:21:34.692327Z",
     "shell.execute_reply": "2024-10-01T07:21:34.690934Z"
    },
    "papermill": {
     "duration": 0.025899,
     "end_time": "2024-10-01T07:21:34.695570",
     "exception": false,
     "start_time": "2024-10-01T07:21:34.669671",
     "status": "completed"
    },
    "tags": []
   },
   "outputs": [
    {
     "name": "stdout",
     "output_type": "stream",
     "text": [
      "Splitting 1 candies\n"
     ]
    },
    {
     "data": {
      "text/plain": [
       "1"
      ]
     },
     "execution_count": 5,
     "metadata": {},
     "output_type": "execute_result"
    }
   ],
   "source": [
    "to_smash(1)"
   ]
  },
  {
   "cell_type": "markdown",
   "id": "60b0942b",
   "metadata": {
    "papermill": {
     "duration": 0.012605,
     "end_time": "2024-10-01T07:21:34.721094",
     "exception": false,
     "start_time": "2024-10-01T07:21:34.708489",
     "status": "completed"
    },
    "tags": []
   },
   "source": [
    "That isn't great grammar!\n",
    "\n",
    "Modify the definition in the cell below to correct the grammar of our print statement. (If there's only one candy, we should use the singular \"candy\" instead of the plural \"candies\")"
   ]
  },
  {
   "cell_type": "code",
   "execution_count": 6,
   "id": "b97ce7a3",
   "metadata": {
    "execution": {
     "iopub.execute_input": "2024-10-01T07:21:34.748682Z",
     "iopub.status.busy": "2024-10-01T07:21:34.748266Z",
     "iopub.status.idle": "2024-10-01T07:21:34.757247Z",
     "shell.execute_reply": "2024-10-01T07:21:34.756089Z"
    },
    "papermill": {
     "duration": 0.026729,
     "end_time": "2024-10-01T07:21:34.760767",
     "exception": false,
     "start_time": "2024-10-01T07:21:34.734038",
     "status": "completed"
    },
    "tags": []
   },
   "outputs": [
    {
     "name": "stdout",
     "output_type": "stream",
     "text": [
      "Splitting 91 candies\n",
      "Splitting 1 candies\n"
     ]
    },
    {
     "data": {
      "text/plain": [
       "1"
      ]
     },
     "execution_count": 6,
     "metadata": {},
     "output_type": "execute_result"
    }
   ],
   "source": [
    "def to_smash(total_candies):\n",
    "    \"\"\"Return the number of leftover candies that must be smashed after distributing\n",
    "    the given number of candies evenly between 3 friends.\n",
    "    \n",
    "    >>> to_smash(91)\n",
    "    1\n",
    "    \"\"\"\n",
    "    print(\"Splitting\", total_candies, \"candies\")\n",
    "    return total_candies % 3\n",
    "\n",
    "to_smash(91)\n",
    "to_smash(1)"
   ]
  },
  {
   "cell_type": "code",
   "execution_count": 7,
   "id": "6411afd4",
   "metadata": {
    "execution": {
     "iopub.execute_input": "2024-10-01T07:21:34.789263Z",
     "iopub.status.busy": "2024-10-01T07:21:34.788184Z",
     "iopub.status.idle": "2024-10-01T07:21:34.798072Z",
     "shell.execute_reply": "2024-10-01T07:21:34.797015Z"
    },
    "papermill": {
     "duration": 0.027124,
     "end_time": "2024-10-01T07:21:34.800817",
     "exception": false,
     "start_time": "2024-10-01T07:21:34.773693",
     "status": "completed"
    },
    "tags": []
   },
   "outputs": [
    {
     "data": {
      "application/javascript": [
       "parent.postMessage({\"jupyterEvent\": \"custom.exercise_interaction\", \"data\": {\"interactionType\": 3, \"questionType\": 4, \"questionId\": \"2_PluralizationProblem\", \"learnToolsVersion\": \"0.3.4\", \"valueTowardsCompletion\": 0.0, \"failureMessage\": \"\", \"exceptionClass\": \"\", \"trace\": \"\", \"outcomeType\": 4}}, \"*\")"
      ],
      "text/plain": [
       "<IPython.core.display.Javascript object>"
      ]
     },
     "metadata": {},
     "output_type": "display_data"
    },
    {
     "data": {
      "text/markdown": [
       "<span style=\"color:#33cc99\">Solution:</span> A straightforward (and totally fine) solution is to replace the original `print` call with:\n",
       "\n",
       "```python\n",
       "if total_candies == 1:\n",
       "    print(\"Splitting 1 candy\")\n",
       "else:\n",
       "    print(\"Splitting\", total_candies, \"candies\")\n",
       "```\n",
       "\n",
       "Here's a slightly more succinct solution using a conditional expression:\n",
       "\n",
       "```python\n",
       "print(\"Splitting\", total_candies, \"candy\" if total_candies == 1 else \"candies\")\n",
       "```"
      ],
      "text/plain": [
       "Solution: A straightforward (and totally fine) solution is to replace the original `print` call with:\n",
       "\n",
       "```python\n",
       "if total_candies == 1:\n",
       "    print(\"Splitting 1 candy\")\n",
       "else:\n",
       "    print(\"Splitting\", total_candies, \"candies\")\n",
       "```\n",
       "\n",
       "Here's a slightly more succinct solution using a conditional expression:\n",
       "\n",
       "```python\n",
       "print(\"Splitting\", total_candies, \"candy\" if total_candies == 1 else \"candies\")\n",
       "```"
      ]
     },
     "metadata": {},
     "output_type": "display_data"
    }
   ],
   "source": [
    "# Check your answer (Run this code cell to receive credit!)\n",
    "q2.solution()"
   ]
  },
  {
   "cell_type": "markdown",
   "id": "bf66de42",
   "metadata": {
    "papermill": {
     "duration": 0.013062,
     "end_time": "2024-10-01T07:21:34.830269",
     "exception": false,
     "start_time": "2024-10-01T07:21:34.817207",
     "status": "completed"
    },
    "tags": []
   },
   "source": [
    "## 3. <span title=\"A bit spicy\" style=\"color: darkgreen \">🌶️</span>\n",
    "\n",
    "In the main lesson we talked about deciding whether we're prepared for the weather. I said that I'm safe from today's weather if...\n",
    "- I have an umbrella...\n",
    "- or if the rain isn't too heavy and I have a hood...\n",
    "- otherwise, I'm still fine unless it's raining *and* it's a workday\n",
    "\n",
    "The function below uses our first attempt at turning this logic into a Python expression. I claimed that there was a bug in that code. Can you find it?\n",
    "\n",
    "To prove that `prepared_for_weather` is buggy, come up with a set of inputs where either:\n",
    "- the function returns `False` (but should have returned `True`), or\n",
    "- the function returned `True` (but should have returned `False`).\n",
    "\n",
    "To get credit for completing this question, your code should return a <font color='#33cc33'>Correct</font> result."
   ]
  },
  {
   "cell_type": "code",
   "execution_count": 8,
   "id": "ad577721",
   "metadata": {
    "execution": {
     "iopub.execute_input": "2024-10-01T07:21:34.859287Z",
     "iopub.status.busy": "2024-10-01T07:21:34.858340Z",
     "iopub.status.idle": "2024-10-01T07:21:34.872609Z",
     "shell.execute_reply": "2024-10-01T07:21:34.871487Z"
    },
    "papermill": {
     "duration": 0.031402,
     "end_time": "2024-10-01T07:21:34.874960",
     "exception": false,
     "start_time": "2024-10-01T07:21:34.843558",
     "status": "completed"
    },
    "tags": []
   },
   "outputs": [
    {
     "name": "stdout",
     "output_type": "stream",
     "text": [
      "False\n"
     ]
    },
    {
     "data": {
      "application/javascript": [
       "parent.postMessage({\"jupyterEvent\": \"custom.exercise_interaction\", \"data\": {\"outcomeType\": 1, \"valueTowardsCompletion\": 0.2, \"interactionType\": 1, \"questionType\": 1, \"questionId\": \"3_WeatherDebug\", \"learnToolsVersion\": \"0.3.4\", \"failureMessage\": \"\", \"exceptionClass\": \"\", \"trace\": \"\"}}, \"*\")"
      ],
      "text/plain": [
       "<IPython.core.display.Javascript object>"
      ]
     },
     "metadata": {},
     "output_type": "display_data"
    },
    {
     "data": {
      "text/markdown": [
       "<span style=\"color:#33cc33\">Correct:</span> \n",
       "\n",
       "One example of a failing test case is:\n",
       "\n",
       "```python\n",
       "have_umbrella = False\n",
       "rain_level = 0.0\n",
       "have_hood = False\n",
       "is_workday = False\n",
       "```\n",
       "\n",
       "Clearly we're prepared for the weather in this case. It's not raining. Not only that, it's not a workday, so we don't even need to leave the house! But our function will return False on these inputs.\n",
       "\n",
       "The key problem is that Python implictly parenthesizes the last part as:\n",
       "\n",
       "```python\n",
       "(not (rain_level > 0)) and is_workday\n",
       "```\n",
       "\n",
       "Whereas what we were trying to express would look more like:\n",
       "\n",
       "```python\n",
       "not (rain_level > 0 and is_workday)\n",
       "```\n"
      ],
      "text/plain": [
       "Correct: \n",
       "\n",
       "One example of a failing test case is:\n",
       "\n",
       "```python\n",
       "have_umbrella = False\n",
       "rain_level = 0.0\n",
       "have_hood = False\n",
       "is_workday = False\n",
       "```\n",
       "\n",
       "Clearly we're prepared for the weather in this case. It's not raining. Not only that, it's not a workday, so we don't even need to leave the house! But our function will return False on these inputs.\n",
       "\n",
       "The key problem is that Python implictly parenthesizes the last part as:\n",
       "\n",
       "```python\n",
       "(not (rain_level > 0)) and is_workday\n",
       "```\n",
       "\n",
       "Whereas what we were trying to express would look more like:\n",
       "\n",
       "```python\n",
       "not (rain_level > 0 and is_workday)\n",
       "```"
      ]
     },
     "metadata": {},
     "output_type": "display_data"
    }
   ],
   "source": [
    "def prepared_for_weather(have_umbrella, rain_level, have_hood, is_workday):\n",
    "    # Don't change this code. Our goal is just to find the bug, not fix it!\n",
    "    return have_umbrella or rain_level < 5 and have_hood or not rain_level > 0 and is_workday\n",
    "\n",
    "# Change the values of these inputs so they represent a case where prepared_for_weather\n",
    "# returns the wrong answer.\n",
    "have_umbrella = False\n",
    "rain_level = 0.0\n",
    "have_hood = False\n",
    "is_workday = False\n",
    "\n",
    "# Check what the function returns given the current values of the variables above\n",
    "actual = prepared_for_weather(have_umbrella, rain_level, have_hood, is_workday)\n",
    "print(actual)\n",
    "\n",
    "# Check your answer\n",
    "q3.check()"
   ]
  },
  {
   "cell_type": "code",
   "execution_count": 9,
   "id": "493c04a7",
   "metadata": {
    "execution": {
     "iopub.execute_input": "2024-10-01T07:21:34.904948Z",
     "iopub.status.busy": "2024-10-01T07:21:34.903945Z",
     "iopub.status.idle": "2024-10-01T07:21:34.909130Z",
     "shell.execute_reply": "2024-10-01T07:21:34.908238Z"
    },
    "papermill": {
     "duration": 0.022664,
     "end_time": "2024-10-01T07:21:34.911441",
     "exception": false,
     "start_time": "2024-10-01T07:21:34.888777",
     "status": "completed"
    },
    "tags": []
   },
   "outputs": [],
   "source": [
    "#q3.hint()\n",
    "#q3.solution()"
   ]
  },
  {
   "cell_type": "markdown",
   "id": "700e35a1",
   "metadata": {
    "papermill": {
     "duration": 0.013274,
     "end_time": "2024-10-01T07:21:34.938546",
     "exception": false,
     "start_time": "2024-10-01T07:21:34.925272",
     "status": "completed"
    },
    "tags": []
   },
   "source": [
    "## 4.\n",
    "\n",
    "The function `is_negative` below is implemented correctly - it returns True if the given number is negative and False otherwise.\n",
    "\n",
    "However, it's more verbose than it needs to be. We can actually reduce the number of lines of code in this function by *75%* while keeping the same behaviour. \n",
    "\n",
    "See if you can come up with an equivalent body that uses just **one line** of code, and put it in the function `concise_is_negative`. (HINT: you don't even need Python's ternary syntax)"
   ]
  },
  {
   "cell_type": "code",
   "execution_count": 10,
   "id": "ac614bcf",
   "metadata": {
    "execution": {
     "iopub.execute_input": "2024-10-01T07:21:34.967928Z",
     "iopub.status.busy": "2024-10-01T07:21:34.967499Z",
     "iopub.status.idle": "2024-10-01T07:21:34.978270Z",
     "shell.execute_reply": "2024-10-01T07:21:34.977118Z"
    },
    "papermill": {
     "duration": 0.028535,
     "end_time": "2024-10-01T07:21:34.980920",
     "exception": false,
     "start_time": "2024-10-01T07:21:34.952385",
     "status": "completed"
    },
    "tags": []
   },
   "outputs": [
    {
     "data": {
      "application/javascript": [
       "parent.postMessage({\"jupyterEvent\": \"custom.exercise_interaction\", \"data\": {\"outcomeType\": 1, \"valueTowardsCompletion\": 0.2, \"interactionType\": 1, \"questionType\": 2, \"questionId\": \"4_ConciseIsNegative\", \"learnToolsVersion\": \"0.3.4\", \"failureMessage\": \"\", \"exceptionClass\": \"\", \"trace\": \"\"}}, \"*\")"
      ],
      "text/plain": [
       "<IPython.core.display.Javascript object>"
      ]
     },
     "metadata": {},
     "output_type": "display_data"
    },
    {
     "data": {
      "text/markdown": [
       "<span style=\"color:#33cc33\">Correct</span>"
      ],
      "text/plain": [
       "Correct"
      ]
     },
     "metadata": {},
     "output_type": "display_data"
    }
   ],
   "source": [
    "def is_negative(number):\n",
    "    if number < 0:\n",
    "        return True\n",
    "    else:\n",
    "        return False\n",
    "\n",
    "def concise_is_negative(number):\n",
    "    return number < 0 # Your code goes here (try to keep it to one line!)\n",
    "\n",
    "# Check your answer\n",
    "q4.check()"
   ]
  },
  {
   "cell_type": "code",
   "execution_count": 11,
   "id": "c6eafe89",
   "metadata": {
    "execution": {
     "iopub.execute_input": "2024-10-01T07:21:35.011406Z",
     "iopub.status.busy": "2024-10-01T07:21:35.010938Z",
     "iopub.status.idle": "2024-10-01T07:21:35.025252Z",
     "shell.execute_reply": "2024-10-01T07:21:35.024129Z"
    },
    "papermill": {
     "duration": 0.032436,
     "end_time": "2024-10-01T07:21:35.027827",
     "exception": false,
     "start_time": "2024-10-01T07:21:34.995391",
     "status": "completed"
    },
    "tags": []
   },
   "outputs": [
    {
     "data": {
      "application/javascript": [
       "parent.postMessage({\"jupyterEvent\": \"custom.exercise_interaction\", \"data\": {\"interactionType\": 2, \"questionType\": 2, \"questionId\": \"4_ConciseIsNegative\", \"learnToolsVersion\": \"0.3.4\", \"valueTowardsCompletion\": 0.0, \"failureMessage\": \"\", \"exceptionClass\": \"\", \"trace\": \"\", \"outcomeType\": 4}}, \"*\")"
      ],
      "text/plain": [
       "<IPython.core.display.Javascript object>"
      ]
     },
     "metadata": {},
     "output_type": "display_data"
    },
    {
     "data": {
      "text/markdown": [
       "<span style=\"color:#3366cc\">Hint:</span> If the value of the expression `number < 0` is `True`, then we return `True`. If it's `False`, then we return `False`..."
      ],
      "text/plain": [
       "Hint: If the value of the expression `number < 0` is `True`, then we return `True`. If it's `False`, then we return `False`..."
      ]
     },
     "metadata": {},
     "output_type": "display_data"
    },
    {
     "data": {
      "application/javascript": [
       "parent.postMessage({\"jupyterEvent\": \"custom.exercise_interaction\", \"data\": {\"interactionType\": 3, \"questionType\": 2, \"questionId\": \"4_ConciseIsNegative\", \"learnToolsVersion\": \"0.3.4\", \"valueTowardsCompletion\": 0.0, \"failureMessage\": \"\", \"exceptionClass\": \"\", \"trace\": \"\", \"outcomeType\": 4}}, \"*\")"
      ],
      "text/plain": [
       "<IPython.core.display.Javascript object>"
      ]
     },
     "metadata": {},
     "output_type": "display_data"
    },
    {
     "data": {
      "text/markdown": [
       "<span style=\"color:#33cc99\">Solution:</span> \n",
       "```python\n",
       "return number < 0\n",
       "```"
      ],
      "text/plain": [
       "Solution: \n",
       "```python\n",
       "return number < 0\n",
       "```"
      ]
     },
     "metadata": {},
     "output_type": "display_data"
    }
   ],
   "source": [
    "q4.hint()\n",
    "q4.solution()"
   ]
  },
  {
   "cell_type": "markdown",
   "id": "9dc2f312",
   "metadata": {
    "papermill": {
     "duration": 0.015112,
     "end_time": "2024-10-01T07:21:35.057995",
     "exception": false,
     "start_time": "2024-10-01T07:21:35.042883",
     "status": "completed"
    },
    "tags": []
   },
   "source": [
    "## 5.\n",
    "\n",
    "The boolean variables `ketchup`, `mustard` and `onion` represent whether a customer wants a particular topping on their hot dog. We want to implement a number of boolean functions that correspond to some yes-or-no questions about the customer's order. For example:"
   ]
  },
  {
   "cell_type": "code",
   "execution_count": 12,
   "id": "7a697be3",
   "metadata": {
    "execution": {
     "iopub.execute_input": "2024-10-01T07:21:35.090791Z",
     "iopub.status.busy": "2024-10-01T07:21:35.090375Z",
     "iopub.status.idle": "2024-10-01T07:21:35.095759Z",
     "shell.execute_reply": "2024-10-01T07:21:35.094580Z"
    },
    "papermill": {
     "duration": 0.024875,
     "end_time": "2024-10-01T07:21:35.098221",
     "exception": false,
     "start_time": "2024-10-01T07:21:35.073346",
     "status": "completed"
    },
    "tags": []
   },
   "outputs": [],
   "source": [
    "def onionless(ketchup, mustard, onion):\n",
    "    \"\"\"Return whether the customer doesn't want onions.\n",
    "    \"\"\"\n",
    "    return not onion"
   ]
  },
  {
   "cell_type": "markdown",
   "id": "71b784ad",
   "metadata": {
    "papermill": {
     "duration": 0.015989,
     "end_time": "2024-10-01T07:21:35.129433",
     "exception": false,
     "start_time": "2024-10-01T07:21:35.113444",
     "status": "completed"
    },
    "tags": []
   },
   "source": [
    "For each of the remaining functions, fill in the body to match the English description in the docstring. "
   ]
  },
  {
   "cell_type": "code",
   "execution_count": 13,
   "id": "f150236e",
   "metadata": {
    "execution": {
     "iopub.execute_input": "2024-10-01T07:21:35.161800Z",
     "iopub.status.busy": "2024-10-01T07:21:35.160734Z",
     "iopub.status.idle": "2024-10-01T07:21:35.172221Z",
     "shell.execute_reply": "2024-10-01T07:21:35.171025Z"
    },
    "papermill": {
     "duration": 0.030275,
     "end_time": "2024-10-01T07:21:35.174620",
     "exception": false,
     "start_time": "2024-10-01T07:21:35.144345",
     "status": "completed"
    },
    "tags": []
   },
   "outputs": [
    {
     "data": {
      "application/javascript": [
       "parent.postMessage({\"jupyterEvent\": \"custom.exercise_interaction\", \"data\": {\"outcomeType\": 1, \"valueTowardsCompletion\": 0.2, \"interactionType\": 1, \"questionType\": 2, \"questionId\": \"5.1_AllToppings\", \"learnToolsVersion\": \"0.3.4\", \"failureMessage\": \"\", \"exceptionClass\": \"\", \"trace\": \"\"}}, \"*\")"
      ],
      "text/plain": [
       "<IPython.core.display.Javascript object>"
      ]
     },
     "metadata": {},
     "output_type": "display_data"
    },
    {
     "data": {
      "text/markdown": [
       "<span style=\"color:#33cc33\">Correct</span>"
      ],
      "text/plain": [
       "Correct"
      ]
     },
     "metadata": {},
     "output_type": "display_data"
    }
   ],
   "source": [
    "def wants_all_toppings(ketchup, mustard, onion):\n",
    "    \"\"\"Return whether the customer wants \"the works\" (all 3 toppings)\n",
    "    \"\"\"\n",
    "    return ketchup and mustard and onion\n",
    "\n",
    "# Check your answer\n",
    "q5.a.check()"
   ]
  },
  {
   "cell_type": "code",
   "execution_count": 14,
   "id": "017730e1",
   "metadata": {
    "execution": {
     "iopub.execute_input": "2024-10-01T07:21:35.207171Z",
     "iopub.status.busy": "2024-10-01T07:21:35.206634Z",
     "iopub.status.idle": "2024-10-01T07:21:35.212122Z",
     "shell.execute_reply": "2024-10-01T07:21:35.210846Z"
    },
    "papermill": {
     "duration": 0.024666,
     "end_time": "2024-10-01T07:21:35.214564",
     "exception": false,
     "start_time": "2024-10-01T07:21:35.189898",
     "status": "completed"
    },
    "tags": []
   },
   "outputs": [],
   "source": [
    "#q5.a.hint()\n",
    "#q5.a.solution()"
   ]
  },
  {
   "cell_type": "code",
   "execution_count": 15,
   "id": "244681a5",
   "metadata": {
    "execution": {
     "iopub.execute_input": "2024-10-01T07:21:35.247635Z",
     "iopub.status.busy": "2024-10-01T07:21:35.246625Z",
     "iopub.status.idle": "2024-10-01T07:21:35.258538Z",
     "shell.execute_reply": "2024-10-01T07:21:35.257388Z"
    },
    "papermill": {
     "duration": 0.031282,
     "end_time": "2024-10-01T07:21:35.260896",
     "exception": false,
     "start_time": "2024-10-01T07:21:35.229614",
     "status": "completed"
    },
    "tags": []
   },
   "outputs": [
    {
     "data": {
      "application/javascript": [
       "parent.postMessage({\"jupyterEvent\": \"custom.exercise_interaction\", \"data\": {\"outcomeType\": 1, \"valueTowardsCompletion\": 0.2, \"interactionType\": 1, \"questionType\": 2, \"questionId\": \"5.2_PlainDog\", \"learnToolsVersion\": \"0.3.4\", \"failureMessage\": \"\", \"exceptionClass\": \"\", \"trace\": \"\"}}, \"*\")"
      ],
      "text/plain": [
       "<IPython.core.display.Javascript object>"
      ]
     },
     "metadata": {},
     "output_type": "display_data"
    },
    {
     "data": {
      "text/markdown": [
       "<span style=\"color:#33cc33\">Correct:</span> \n",
       "\n",
       "One solution looks like:\n",
       "```python\n",
       "return not ketchup and not mustard and not onion\n",
       "```\n",
       "\n",
       "We can also [\"factor out\" the nots](https://en.wikipedia.org/wiki/De_Morgan%27s_laws) to get:\n",
       "\n",
       "```python\n",
       "return not (ketchup or mustard or onion)\n",
       "```"
      ],
      "text/plain": [
       "Correct: \n",
       "\n",
       "One solution looks like:\n",
       "```python\n",
       "return not ketchup and not mustard and not onion\n",
       "```\n",
       "\n",
       "We can also [\"factor out\" the nots](https://en.wikipedia.org/wiki/De_Morgan%27s_laws) to get:\n",
       "\n",
       "```python\n",
       "return not (ketchup or mustard or onion)\n",
       "```"
      ]
     },
     "metadata": {},
     "output_type": "display_data"
    }
   ],
   "source": [
    "def wants_plain_hotdog(ketchup, mustard, onion):\n",
    "    \"\"\"Return whether the customer wants a plain hot dog with no toppings.\n",
    "    \"\"\"\n",
    "    return not (ketchup or mustard or onion)\n",
    "\n",
    "# Check your answer\n",
    "q5.b.check()"
   ]
  },
  {
   "cell_type": "code",
   "execution_count": 16,
   "id": "902af054",
   "metadata": {
    "execution": {
     "iopub.execute_input": "2024-10-01T07:21:35.294560Z",
     "iopub.status.busy": "2024-10-01T07:21:35.293372Z",
     "iopub.status.idle": "2024-10-01T07:21:35.298877Z",
     "shell.execute_reply": "2024-10-01T07:21:35.297730Z"
    },
    "papermill": {
     "duration": 0.025103,
     "end_time": "2024-10-01T07:21:35.301440",
     "exception": false,
     "start_time": "2024-10-01T07:21:35.276337",
     "status": "completed"
    },
    "tags": []
   },
   "outputs": [],
   "source": [
    "#q5.b.hint()\n",
    "#q5.b.solution()"
   ]
  },
  {
   "cell_type": "code",
   "execution_count": 17,
   "id": "833e26f5",
   "metadata": {
    "execution": {
     "iopub.execute_input": "2024-10-01T07:21:35.335090Z",
     "iopub.status.busy": "2024-10-01T07:21:35.333952Z",
     "iopub.status.idle": "2024-10-01T07:21:35.346304Z",
     "shell.execute_reply": "2024-10-01T07:21:35.344989Z"
    },
    "papermill": {
     "duration": 0.031693,
     "end_time": "2024-10-01T07:21:35.348686",
     "exception": false,
     "start_time": "2024-10-01T07:21:35.316993",
     "status": "completed"
    },
    "tags": []
   },
   "outputs": [
    {
     "data": {
      "application/javascript": [
       "parent.postMessage({\"jupyterEvent\": \"custom.exercise_interaction\", \"data\": {\"outcomeType\": 1, \"valueTowardsCompletion\": 0.2, \"interactionType\": 1, \"questionType\": 2, \"questionId\": \"5.3_OneSauce\", \"learnToolsVersion\": \"0.3.4\", \"failureMessage\": \"\", \"exceptionClass\": \"\", \"trace\": \"\"}}, \"*\")"
      ],
      "text/plain": [
       "<IPython.core.display.Javascript object>"
      ]
     },
     "metadata": {},
     "output_type": "display_data"
    },
    {
     "data": {
      "text/markdown": [
       "<span style=\"color:#33cc33\">Correct</span>"
      ],
      "text/plain": [
       "Correct"
      ]
     },
     "metadata": {},
     "output_type": "display_data"
    }
   ],
   "source": [
    "def exactly_one_sauce(ketchup, mustard, onion):\n",
    "    \"\"\"Return whether the customer wants either ketchup or mustard, but not both.\n",
    "    (You may be familiar with this operation under the name \"exclusive or\")\n",
    "    \"\"\"\n",
    "    return (ketchup and not mustard) or (mustard and not ketchup)\n",
    "\n",
    "# Check your answer\n",
    "q5.c.check()"
   ]
  },
  {
   "cell_type": "code",
   "execution_count": 18,
   "id": "5e291fcf",
   "metadata": {
    "execution": {
     "iopub.execute_input": "2024-10-01T07:21:35.383086Z",
     "iopub.status.busy": "2024-10-01T07:21:35.382554Z",
     "iopub.status.idle": "2024-10-01T07:21:35.392653Z",
     "shell.execute_reply": "2024-10-01T07:21:35.391474Z"
    },
    "papermill": {
     "duration": 0.030106,
     "end_time": "2024-10-01T07:21:35.395100",
     "exception": false,
     "start_time": "2024-10-01T07:21:35.364994",
     "status": "completed"
    },
    "tags": []
   },
   "outputs": [
    {
     "data": {
      "application/javascript": [
       "parent.postMessage({\"jupyterEvent\": \"custom.exercise_interaction\", \"data\": {\"interactionType\": 3, \"questionType\": 2, \"questionId\": \"5.3_OneSauce\", \"learnToolsVersion\": \"0.3.4\", \"valueTowardsCompletion\": 0.0, \"failureMessage\": \"\", \"exceptionClass\": \"\", \"trace\": \"\", \"outcomeType\": 4}}, \"*\")"
      ],
      "text/plain": [
       "<IPython.core.display.Javascript object>"
      ]
     },
     "metadata": {},
     "output_type": "display_data"
    },
    {
     "data": {
      "text/markdown": [
       "<span style=\"color:#33cc99\">Solution:</span> \n",
       "```python\n",
       "return (ketchup and not mustard) or (mustard and not ketchup)\n",
       "```"
      ],
      "text/plain": [
       "Solution: \n",
       "```python\n",
       "return (ketchup and not mustard) or (mustard and not ketchup)\n",
       "```"
      ]
     },
     "metadata": {},
     "output_type": "display_data"
    }
   ],
   "source": [
    "#q5.c.hint()\n",
    "q5.c.solution()"
   ]
  },
  {
   "cell_type": "markdown",
   "id": "cad1280a",
   "metadata": {
    "papermill": {
     "duration": 0.016213,
     "end_time": "2024-10-01T07:21:35.427565",
     "exception": false,
     "start_time": "2024-10-01T07:21:35.411352",
     "status": "completed"
    },
    "tags": []
   },
   "source": [
    "## 6. <span title=\"A bit spicy\" style=\"color: darkgreen \">🌶️</span>\n",
    "\n",
    "We’ve seen that calling `bool()` on an integer returns `False` if it’s equal to 0 and `True` otherwise. What happens if we call `int()` on a bool? Try it out in the notebook cell below.\n",
    "\n",
    "Can you take advantage of this to write a succinct function that corresponds to the English sentence \"does the customer want exactly one topping?\"?"
   ]
  },
  {
   "cell_type": "code",
   "execution_count": 19,
   "id": "00d658f7",
   "metadata": {
    "execution": {
     "iopub.execute_input": "2024-10-01T07:21:35.462364Z",
     "iopub.status.busy": "2024-10-01T07:21:35.461826Z",
     "iopub.status.idle": "2024-10-01T07:21:35.473599Z",
     "shell.execute_reply": "2024-10-01T07:21:35.472386Z"
    },
    "papermill": {
     "duration": 0.03261,
     "end_time": "2024-10-01T07:21:35.476442",
     "exception": false,
     "start_time": "2024-10-01T07:21:35.443832",
     "status": "completed"
    },
    "tags": []
   },
   "outputs": [
    {
     "data": {
      "application/javascript": [
       "parent.postMessage({\"jupyterEvent\": \"custom.exercise_interaction\", \"data\": {\"outcomeType\": 1, \"valueTowardsCompletion\": 0.2, \"interactionType\": 1, \"questionType\": 2, \"questionId\": \"6_OneTopping\", \"learnToolsVersion\": \"0.3.4\", \"failureMessage\": \"\", \"exceptionClass\": \"\", \"trace\": \"\"}}, \"*\")"
      ],
      "text/plain": [
       "<IPython.core.display.Javascript object>"
      ]
     },
     "metadata": {},
     "output_type": "display_data"
    },
    {
     "data": {
      "text/markdown": [
       "<span style=\"color:#33cc33\">Correct:</span> \n",
       "\n",
       "This condition would be pretty complicated to express using just `and`, `or` and `not`, but using boolean-to-integer conversion gives us this short solution:\n",
       "```python\n",
       "return (int(ketchup) + int(mustard) + int(onion)) == 1\n",
       "```\n",
       "\n",
       "Fun fact: we don't technically need to call `int` on the arguments. Just by doing addition with booleans, Python implicitly does the integer conversion. So we could also write...\n",
       "\n",
       "```python\n",
       "return (ketchup + mustard + onion) == 1\n",
       "```"
      ],
      "text/plain": [
       "Correct: \n",
       "\n",
       "This condition would be pretty complicated to express using just `and`, `or` and `not`, but using boolean-to-integer conversion gives us this short solution:\n",
       "```python\n",
       "return (int(ketchup) + int(mustard) + int(onion)) == 1\n",
       "```\n",
       "\n",
       "Fun fact: we don't technically need to call `int` on the arguments. Just by doing addition with booleans, Python implicitly does the integer conversion. So we could also write...\n",
       "\n",
       "```python\n",
       "return (ketchup + mustard + onion) == 1\n",
       "```"
      ]
     },
     "metadata": {},
     "output_type": "display_data"
    }
   ],
   "source": [
    "def exactly_one_topping(ketchup, mustard, onion):\n",
    "    \"\"\"Return whether the customer wants exactly one of the three available toppings\n",
    "    on their hot dog.\n",
    "    \"\"\"\n",
    "    return (ketchup + mustard + onion) ==1\n",
    "\n",
    "# Check your answer\n",
    "q6.check()"
   ]
  },
  {
   "cell_type": "code",
   "execution_count": 20,
   "id": "ec4edd8b",
   "metadata": {
    "execution": {
     "iopub.execute_input": "2024-10-01T07:21:35.515534Z",
     "iopub.status.busy": "2024-10-01T07:21:35.515118Z",
     "iopub.status.idle": "2024-10-01T07:21:35.524722Z",
     "shell.execute_reply": "2024-10-01T07:21:35.523425Z"
    },
    "papermill": {
     "duration": 0.030479,
     "end_time": "2024-10-01T07:21:35.527567",
     "exception": false,
     "start_time": "2024-10-01T07:21:35.497088",
     "status": "completed"
    },
    "tags": []
   },
   "outputs": [
    {
     "data": {
      "application/javascript": [
       "parent.postMessage({\"jupyterEvent\": \"custom.exercise_interaction\", \"data\": {\"interactionType\": 3, \"questionType\": 2, \"questionId\": \"6_OneTopping\", \"learnToolsVersion\": \"0.3.4\", \"valueTowardsCompletion\": 0.0, \"failureMessage\": \"\", \"exceptionClass\": \"\", \"trace\": \"\", \"outcomeType\": 4}}, \"*\")"
      ],
      "text/plain": [
       "<IPython.core.display.Javascript object>"
      ]
     },
     "metadata": {},
     "output_type": "display_data"
    },
    {
     "data": {
      "text/markdown": [
       "<span style=\"color:#33cc99\">Solution:</span> This condition would be pretty complicated to express using just `and`, `or` and `not`, but using boolean-to-integer conversion gives us this short solution:\n",
       "```python\n",
       "return (int(ketchup) + int(mustard) + int(onion)) == 1\n",
       "```\n",
       "\n",
       "Fun fact: we don't technically need to call `int` on the arguments. Just by doing addition with booleans, Python implicitly does the integer conversion. So we could also write...\n",
       "\n",
       "```python\n",
       "return (ketchup + mustard + onion) == 1\n",
       "```"
      ],
      "text/plain": [
       "Solution: This condition would be pretty complicated to express using just `and`, `or` and `not`, but using boolean-to-integer conversion gives us this short solution:\n",
       "```python\n",
       "return (int(ketchup) + int(mustard) + int(onion)) == 1\n",
       "```\n",
       "\n",
       "Fun fact: we don't technically need to call `int` on the arguments. Just by doing addition with booleans, Python implicitly does the integer conversion. So we could also write...\n",
       "\n",
       "```python\n",
       "return (ketchup + mustard + onion) == 1\n",
       "```"
      ]
     },
     "metadata": {},
     "output_type": "display_data"
    }
   ],
   "source": [
    "#q6.hint()\n",
    "q6.solution()"
   ]
  },
  {
   "cell_type": "markdown",
   "id": "f39ad5ad",
   "metadata": {
    "papermill": {
     "duration": 0.016809,
     "end_time": "2024-10-01T07:21:35.564581",
     "exception": false,
     "start_time": "2024-10-01T07:21:35.547772",
     "status": "completed"
    },
    "tags": []
   },
   "source": [
    "## 7. <span title=\"A bit spicy\" style=\"color: darkgreen \">🌶️</span> (Optional)\n",
    "\n",
    "In this problem we'll be working with a simplified version of [blackjack](https://en.wikipedia.org/wiki/Blackjack) (aka twenty-one). In this version there is one player (who you'll control) and a dealer. Play proceeds as follows:\n",
    "\n",
    "- The player is dealt two face-up cards. The dealer is dealt one face-up card.\n",
    "- The player may ask to be dealt another card ('hit') as many times as they wish. If the sum of their cards exceeds 21, they lose the round immediately.\n",
    "- The dealer then deals additional cards to himself until either:\n",
    "    - the sum of the dealer's cards exceeds 21, in which case the player wins the round\n",
    "    - the sum of the dealer's cards is greater than or equal to 17. If the player's total is greater than the dealer's, the player wins. Otherwise, the dealer wins (even in case of a tie).\n",
    "    \n",
    "When calculating the sum of cards, Jack, Queen, and King count for 10. Aces can count as 1 or 11 (when referring to a player's \"total\" above, we mean the largest total that can be made without exceeding 21. So e.g. A+8 = 19, A+8+8 = 17)\n",
    "\n",
    "For this problem, you'll write a function representing the player's decision-making strategy in this game. We've provided a very unintelligent implementation below:"
   ]
  },
  {
   "cell_type": "code",
   "execution_count": 21,
   "id": "35b73b92",
   "metadata": {
    "execution": {
     "iopub.execute_input": "2024-10-01T07:21:35.601504Z",
     "iopub.status.busy": "2024-10-01T07:21:35.600383Z",
     "iopub.status.idle": "2024-10-01T07:21:35.607204Z",
     "shell.execute_reply": "2024-10-01T07:21:35.606127Z"
    },
    "papermill": {
     "duration": 0.028443,
     "end_time": "2024-10-01T07:21:35.609905",
     "exception": false,
     "start_time": "2024-10-01T07:21:35.581462",
     "status": "completed"
    },
    "tags": []
   },
   "outputs": [],
   "source": [
    "def should_hit(dealer_total, player_total, player_low_aces, player_high_aces):\n",
    "    \"\"\"Return True if the player should hit (request another card) given the current game\n",
    "    state, or False if the player should stay.\n",
    "    When calculating a hand's total value, we count aces as \"high\" (with value 11) if doing so\n",
    "    doesn't bring the total above 21, otherwise we count them as low (with value 1). \n",
    "    For example, if the player's hand is {A, A, A, 7}, we will count it as 11 + 1 + 1 + 7,\n",
    "    and therefore set player_total=20, player_low_aces=2, player_high_aces=1.\n",
    "    \"\"\"\n",
    "    return False"
   ]
  },
  {
   "cell_type": "markdown",
   "id": "7530019f",
   "metadata": {
    "papermill": {
     "duration": 0.017077,
     "end_time": "2024-10-01T07:21:35.649539",
     "exception": false,
     "start_time": "2024-10-01T07:21:35.632462",
     "status": "completed"
    },
    "tags": []
   },
   "source": [
    "This very conservative agent *always* sticks with the hand of two cards that they're dealt.\n",
    "\n",
    "We'll be simulating games between your player agent and our own dealer agent by calling your function.\n",
    "\n",
    "Try running the function below to see an example of a simulated game:"
   ]
  },
  {
   "cell_type": "code",
   "execution_count": 22,
   "id": "5a2143b4",
   "metadata": {
    "execution": {
     "iopub.execute_input": "2024-10-01T07:21:35.686075Z",
     "iopub.status.busy": "2024-10-01T07:21:35.684932Z",
     "iopub.status.idle": "2024-10-01T07:21:35.693595Z",
     "shell.execute_reply": "2024-10-01T07:21:35.691669Z"
    },
    "papermill": {
     "duration": 0.030002,
     "end_time": "2024-10-01T07:21:35.696551",
     "exception": false,
     "start_time": "2024-10-01T07:21:35.666549",
     "status": "completed"
    },
    "tags": []
   },
   "outputs": [
    {
     "name": "stdout",
     "output_type": "stream",
     "text": [
      "Player starts with 3 and 4 (total = 7)\n",
      "Dealer starts with J\n",
      "\n",
      "__Player's turn__\n",
      "Player stays\n",
      "\n",
      "__Dealer's turn__\n",
      "Dealer hits and receives A. (total = 21)\n",
      "Dealer stands.\n",
      "Dealer wins. 21 >= 7\n"
     ]
    }
   ],
   "source": [
    "q7.simulate_one_game()"
   ]
  },
  {
   "cell_type": "markdown",
   "id": "b64040fc",
   "metadata": {
    "papermill": {
     "duration": 0.016397,
     "end_time": "2024-10-01T07:21:35.729740",
     "exception": false,
     "start_time": "2024-10-01T07:21:35.713343",
     "status": "completed"
    },
    "tags": []
   },
   "source": [
    "The real test of your agent's mettle is their average win rate over many games. Try calling the function below to simulate 50000 games of blackjack (it may take a couple seconds):"
   ]
  },
  {
   "cell_type": "code",
   "execution_count": 23,
   "id": "7720ef21",
   "metadata": {
    "execution": {
     "iopub.execute_input": "2024-10-01T07:21:35.766187Z",
     "iopub.status.busy": "2024-10-01T07:21:35.765336Z",
     "iopub.status.idle": "2024-10-01T07:21:37.869327Z",
     "shell.execute_reply": "2024-10-01T07:21:37.868229Z"
    },
    "papermill": {
     "duration": 2.124926,
     "end_time": "2024-10-01T07:21:37.871913",
     "exception": false,
     "start_time": "2024-10-01T07:21:35.746987",
     "status": "completed"
    },
    "tags": []
   },
   "outputs": [
    {
     "name": "stdout",
     "output_type": "stream",
     "text": [
      "Player won 19096 out of 50000 games (win rate = 38.2%)\n"
     ]
    }
   ],
   "source": [
    "q7.simulate(n_games=50000)"
   ]
  },
  {
   "cell_type": "markdown",
   "id": "1cc8ee1e",
   "metadata": {
    "papermill": {
     "duration": 0.016404,
     "end_time": "2024-10-01T07:21:37.904981",
     "exception": false,
     "start_time": "2024-10-01T07:21:37.888577",
     "status": "completed"
    },
    "tags": []
   },
   "source": [
    "Our dumb agent that completely ignores the game state still manages to win shockingly often!\n",
    "\n",
    "Try adding some more smarts to the `should_hit` function and see how it affects the results."
   ]
  },
  {
   "cell_type": "code",
   "execution_count": 24,
   "id": "39541bea",
   "metadata": {
    "execution": {
     "iopub.execute_input": "2024-10-01T07:21:37.940804Z",
     "iopub.status.busy": "2024-10-01T07:21:37.939819Z",
     "iopub.status.idle": "2024-10-01T07:21:40.045374Z",
     "shell.execute_reply": "2024-10-01T07:21:40.044088Z"
    },
    "papermill": {
     "duration": 2.126678,
     "end_time": "2024-10-01T07:21:40.048401",
     "exception": false,
     "start_time": "2024-10-01T07:21:37.921723",
     "status": "completed"
    },
    "tags": []
   },
   "outputs": [
    {
     "name": "stdout",
     "output_type": "stream",
     "text": [
      "Player won 18950 out of 50000 games (win rate = 37.9%)\n"
     ]
    }
   ],
   "source": [
    "def should_hit(dealer_total, player_total, player_low_aces, player_high_aces):\n",
    "    \"\"\"Return True if the player should hit (request another card) given the current game\n",
    "    state, or False if the player should stay.\n",
    "    When calculating a hand's total value, we count aces as \"high\" (with value 11) if doing so\n",
    "    doesn't bring the total above 21, otherwise we count them as low (with value 1). \n",
    "    For example, if the player's hand is {A, A, A, 7}, we will count it as 11 + 1 + 1 + 7,\n",
    "    and therefore set player_total=20, player_low_aces=2, player_high_aces=1.\n",
    "    \"\"\"\n",
    "    return False\n",
    "\n",
    "q7.simulate(n_games=50000)"
   ]
  },
  {
   "cell_type": "markdown",
   "id": "87e44e02",
   "metadata": {
    "papermill": {
     "duration": 0.016797,
     "end_time": "2024-10-01T07:21:40.082893",
     "exception": false,
     "start_time": "2024-10-01T07:21:40.066096",
     "status": "completed"
    },
    "tags": []
   },
   "source": [
    "# Keep Going\n",
    "\n",
    "Learn about **[lists and tuples](https://www.kaggle.com/colinmorris/lists)** to handle multiple items of data in a systematic way."
   ]
  },
  {
   "cell_type": "markdown",
   "id": "5afa126a",
   "metadata": {
    "papermill": {
     "duration": 0.02119,
     "end_time": "2024-10-01T07:21:40.121551",
     "exception": false,
     "start_time": "2024-10-01T07:21:40.100361",
     "status": "completed"
    },
    "tags": []
   },
   "source": [
    "---\n",
    "\n",
    "\n",
    "\n",
    "\n",
    "*Have questions or comments? Visit the [Learn Discussion forum](https://www.kaggle.com/learn-forum/161283) to chat with other Learners.*"
   ]
  }
 ],
 "metadata": {
  "kaggle": {
   "accelerator": "none",
   "dataSources": [],
   "isGpuEnabled": false,
   "isInternetEnabled": false,
   "language": "python",
   "sourceType": "notebook"
  },
  "kernelspec": {
   "display_name": "Python 3",
   "language": "python",
   "name": "python3"
  },
  "language_info": {
   "codemirror_mode": {
    "name": "ipython",
    "version": 3
   },
   "file_extension": ".py",
   "mimetype": "text/x-python",
   "name": "python",
   "nbconvert_exporter": "python",
   "pygments_lexer": "ipython3",
   "version": "3.10.14"
  },
  "papermill": {
   "default_parameters": {},
   "duration": 10.095463,
   "end_time": "2024-10-01T07:21:40.666199",
   "environment_variables": {},
   "exception": null,
   "input_path": "__notebook__.ipynb",
   "output_path": "__notebook__.ipynb",
   "parameters": {},
   "start_time": "2024-10-01T07:21:30.570736",
   "version": "2.6.0"
  }
 },
 "nbformat": 4,
 "nbformat_minor": 5
}
